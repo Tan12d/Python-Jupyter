{
 "cells": [
  {
   "cell_type": "markdown",
   "metadata": {
    "id": "W_ttuWta3MEq"
   },
   "source": [
    "<div class=\"alert alert-block alert-info\" style=\"margin-top: 20px\">\n",
    "    <a href=\"https://cocl.us/topNotebooksPython101Coursera\">\n",
    "         <img src=\"https://s3-api.us-geo.objectstorage.softlayer.net/cf-courses-data/CognitiveClass/PY0101EN/Ad/TopAd.png\" width=\"750\" align=\"center\">\n",
    "    </a>\n",
    "</div>"
   ]
  },
  {
   "cell_type": "markdown",
   "metadata": {
    "id": "0GgT6n8w3MEs"
   },
   "source": [
    "<h1>Python - Writing Your First Python Code!</h1>"
   ]
  },
  {
   "cell_type": "markdown",
   "metadata": {
    "id": "gNjuZmkP3MEt"
   },
   "source": [
    "<p><strong>Welcome!</strong> This notebook will teach you the basics of the Python programming language. Although the information presented here is quite basic, it is an important foundation that will help you read and write Python code. By the end of this notebook, you'll know the basics of Python, including how to write basic commands, understand some basic types, and how to perform simple operations on them.</p> "
   ]
  },
  {
   "cell_type": "markdown",
   "metadata": {
    "id": "vV9TjvEx3MEt"
   },
   "source": [
    "<h2>Table of Contents</h2>\n",
    "<div class=\"alert alert-block alert-info\" style=\"margin-top: 20px\">\n",
    "    <ul>\n",
    "        <li>\n",
    "            <a href=\"#hello\">Say \"Hello\" to the world in Python</a>\n",
    "            <ul>\n",
    "                <li><a href=\"version\">What version of Python are we using?</a></li>\n",
    "                <li><a href=\"comments\">Writing comments in Python</a></li>\n",
    "                <li><a href=\"errors\">Errors in Python</a></li>\n",
    "                <li><a href=\"python_error\">Does Python know about your error before it runs your code?</a></li>\n",
    "                <li><a href=\"exercise\">Exercise: Your First Program</a></li>\n",
    "            </ul>\n",
    "        </li>\n",
    "        <li>\n",
    "            <a href=\"#types_objects\">Types of objects in Python</a>\n",
    "            <ul>\n",
    "                <li><a href=\"int\">Integers</a></li>\n",
    "                <li><a href=\"float\">Floats</a></li>\n",
    "                <li><a href=\"convert\">Converting from one object type to a different object type</a></li>\n",
    "                <li><a href=\"bool\">Boolean data type</a></li>\n",
    "                <li><a href=\"exer_type\">Exercise: Types</a></li>\n",
    "            </ul>\n",
    "        </li>\n",
    "        <li>\n",
    "            <a href=\"#expressions\">Expressions and Variables</a>\n",
    "            <ul>\n",
    "                <li><a href=\"exp\">Expressions</a></li>\n",
    "                <li><a href=\"exer_exp\">Exercise: Expressions</a></li>\n",
    "                <li><a href=\"var\">Variables</a></li>\n",
    "                <li><a href=\"exer_exp_var\">Exercise: Expression and Variables in Python</a></li>\n",
    "            </ul>\n",
    "        </li>\n",
    "    </ul>\n",
    "    <p>\n",
    "        Estimated time needed: <strong>25 min</strong>\n",
    "    </p>\n",
    "</div>\n",
    "\n",
    "<hr>"
   ]
  },
  {
   "cell_type": "markdown",
   "metadata": {
    "id": "sSjNmkxr3MEt"
   },
   "source": [
    "<h2 id=\"hello\">Say \"Hello\" to the world in Python</h2>"
   ]
  },
  {
   "cell_type": "markdown",
   "metadata": {
    "id": "BwMmL2Cn3MEu"
   },
   "source": [
    "When learning a new programming language, it is customary to start with an \"hello world\" example. As simple as it is, this one line of code will ensure that we know how to print a string in output and how to execute code within cells in a notebook."
   ]
  },
  {
   "cell_type": "markdown",
   "metadata": {
    "id": "Lcq52Yd73MEu"
   },
   "source": [
    "<hr/>\n",
    "<div class=\"alert alert-success alertsuccess\" style=\"margin-top: 20px\">\n",
    "[Tip]: To execute the Python code in the code cell below, click on the cell to select it and press <kbd>Shift</kbd> + <kbd>Enter</kbd>.\n",
    "</div>\n",
    "<hr/>"
   ]
  },
  {
   "cell_type": "code",
   "execution_count": null,
   "metadata": {
    "colab": {
     "base_uri": "https://localhost:8080/"
    },
    "executionInfo": {
     "elapsed": 1448,
     "status": "ok",
     "timestamp": 1624686909177,
     "user": {
      "displayName": "Dhyan Vyas",
      "photoUrl": "https://lh3.googleusercontent.com/a-/AOh14GicI0qQzMCkj4wkjzhp-RxInjb5nSa6cq08yNOU6w=s64",
      "userId": "04303281926800808768"
     },
     "user_tz": -330
    },
    "id": "aS5xM-W63MEv",
    "outputId": "0dbb44f9-2f26-4558-8e1c-3f6d64e34f5b"
   },
   "outputs": [
    {
     "name": "stdout",
     "output_type": "stream",
     "text": [
      "Hello, Python!\n"
     ]
    }
   ],
   "source": [
    "# Try your first Python output\n",
    "\n",
    "print('Hello, Python!')"
   ]
  },
  {
   "cell_type": "markdown",
   "metadata": {
    "id": "6knnxn-n3MEw"
   },
   "source": [
    "After executing the cell above, you should see that Python prints <code>Hello, Python!</code>. Congratulations on running your first Python code!"
   ]
  },
  {
   "cell_type": "markdown",
   "metadata": {
    "id": "rIncBwDP3MEx"
   },
   "source": [
    "<hr/>\n",
    "\n",
    "1.   List item\n",
    "2.   List item\n",
    "\n",
    "\n",
    "<div class=\"alert alert-success alertsuccess\" style=\"margin-top: 20px\">\n",
    "    [Tip:] <code>print()</code> is a function. You passed the string <code>'Hello, Python!'</code> as an argument to instruct Python on what to print.\n",
    "</div>\n",
    "<hr/>"
   ]
  },
  {
   "cell_type": "markdown",
   "metadata": {
    "id": "W-8jH3nZ3MEx"
   },
   "source": [
    "<h3 id=\"version\">What version of Python are we using?</h3>"
   ]
  },
  {
   "cell_type": "markdown",
   "metadata": {
    "id": "A4jOGH6Y3MEx"
   },
   "source": [
    "<p>\n",
    "    There are two popular versions of the Python programming language in use today: Python 2 and Python 3. The Python community has decided to move on from Python 2 to Python 3, and many popular libraries have announced that they will no longer support Python 2.\n",
    "</p>\n",
    "<p>\n",
    "    Since Python 3 is the future, in this course we will be using it exclusively. How do we know that our notebook is executed by a Python 3 runtime? We can look in the top-right hand corner of this notebook and see \"Python 3\".\n",
    "</p>\n",
    "<p>\n",
    "    We can also ask directly Python and obtain a detailed answer. Try executing the following code:\n",
    "</p>"
   ]
  },
  {
   "cell_type": "code",
   "execution_count": null,
   "metadata": {
    "colab": {
     "base_uri": "https://localhost:8080/"
    },
    "executionInfo": {
     "elapsed": 8,
     "status": "ok",
     "timestamp": 1625385123177,
     "user": {
      "displayName": "Alok Yadav",
      "photoUrl": "https://lh3.googleusercontent.com/a-/AOh14GizZFMCB8-eVvEF7cC9zt8SGXsUNNmSz3Ka92VAXw=s64",
      "userId": "13695401162967392961"
     },
     "user_tz": -330
    },
    "id": "D2inhyQf3MEx",
    "outputId": "48c925d1-d980-4da6-d865-cec729b9f4a6"
   },
   "outputs": [
    {
     "name": "stdout",
     "output_type": "stream",
     "text": [
      "3.7.10 (default, May  3 2021, 02:48:31) \n",
      "[GCC 7.5.0]\n"
     ]
    }
   ],
   "source": [
    "# Check the Python Version\n",
    "\n",
    "import sys\n",
    "print(sys.version)"
   ]
  },
  {
   "cell_type": "markdown",
   "metadata": {
    "id": "pXkcBmg03MEy"
   },
   "source": [
    "<hr/>\n",
    "<div class=\"alert alert-success alertsuccess\" style=\"margin-top: 20px\">\n",
    "    [Tip:] <code>sys</code> is a built-in module that contains many system-specific parameters and functions, including the Python version in use. Before using it, we must explictly <code>import</code> it.\n",
    "</div>\n",
    "<hr/>"
   ]
  },
  {
   "cell_type": "markdown",
   "metadata": {
    "id": "364ShNYa3MEy"
   },
   "source": [
    "<h3 id=\"comments\">Writing comments in Python</h3>"
   ]
  },
  {
   "cell_type": "markdown",
   "metadata": {
    "id": "dceCROIW3MEy"
   },
   "source": [
    "<p>\n",
    "    In addition to writing code, note that it's always a good idea to add comments to your code. It will help others understand what you were trying to accomplish (the reason why you wrote a given snippet of code). Not only does this help <strong>other people</strong> understand your code, it can also serve as a reminder <strong>to you</strong> when you come back to it weeks or months later.</p>\n",
    "\n",
    "<p>\n",
    "    To write comments in Python, use the number symbol <code>#</code> before writing your comment. When you run your code, Python will ignore everything past the <code>#</code> on a given line.\n",
    "</p>"
   ]
  },
  {
   "cell_type": "code",
   "execution_count": null,
   "metadata": {
    "colab": {
     "base_uri": "https://localhost:8080/"
    },
    "executionInfo": {
     "elapsed": 745,
     "status": "ok",
     "timestamp": 1625385495107,
     "user": {
      "displayName": "Alok Yadav",
      "photoUrl": "https://lh3.googleusercontent.com/a-/AOh14GizZFMCB8-eVvEF7cC9zt8SGXsUNNmSz3Ka92VAXw=s64",
      "userId": "13695401162967392961"
     },
     "user_tz": -330
    },
    "id": "SQPdMh-x3MEz",
    "outputId": "e471ebf3-abcf-4f1f-eea0-1fd2dd619558"
   },
   "outputs": [
    {
     "name": "stdout",
     "output_type": "stream",
     "text": [
      "Hello, Python!\n"
     ]
    }
   ],
   "source": [
    "# Practice on writing comments\n",
    "\n",
    "print('Hello, Python!') # This line prints a string\n",
    "# print('Hi')"
   ]
  },
  {
   "cell_type": "markdown",
   "metadata": {
    "id": "rI4kQjEm3MEz"
   },
   "source": [
    "<p>\n",
    "    After executing the cell above, you should notice that <code>This line prints a string</code> did not appear in the output, because it was a comment (and thus ignored by Python).\n",
    "</p>\n",
    "<p>\n",
    "    The second line was also not executed because <code>print('Hi')</code> was preceded by the number sign (<code>#</code>) as well! Since this isn't an explanatory comment from the programmer, but an actual line of code, we might say that the programmer <em>commented out</em> that second line of code.\n",
    "</p>"
   ]
  },
  {
   "cell_type": "markdown",
   "metadata": {
    "id": "2tp0tiAq3MEz"
   },
   "source": [
    "<h3 id=\"errors\">Errors in Python</h3>"
   ]
  },
  {
   "cell_type": "markdown",
   "metadata": {
    "id": "SmbaC46V3MEz"
   },
   "source": [
    "<p>Everyone makes mistakes. For many types of mistakes, Python will tell you that you have made a mistake by giving you an error message. It is important to read error messages carefully to really understand where you made a mistake and how you may go about correcting it.</p>\n",
    "<p>For example, if you spell <code>print</code> as <code>frint</code>, Python will display an error message. Give it a try:</p>"
   ]
  },
  {
   "cell_type": "code",
   "execution_count": null,
   "metadata": {
    "colab": {
     "base_uri": "https://localhost:8080/"
    },
    "executionInfo": {
     "elapsed": 512,
     "status": "ok",
     "timestamp": 1625385621920,
     "user": {
      "displayName": "Alok Yadav",
      "photoUrl": "https://lh3.googleusercontent.com/a-/AOh14GizZFMCB8-eVvEF7cC9zt8SGXsUNNmSz3Ka92VAXw=s64",
      "userId": "13695401162967392961"
     },
     "user_tz": -330
    },
    "id": "4H2hDHEK3MEz",
    "outputId": "51982b28-b620-43f7-8cf5-5d2e6b82014a"
   },
   "outputs": [
    {
     "name": "stdout",
     "output_type": "stream",
     "text": [
      "Hello, Python!\n"
     ]
    }
   ],
   "source": [
    "# Print string as error message\n",
    "\n",
    "print(\"Hello, Python!\")"
   ]
  },
  {
   "cell_type": "markdown",
   "metadata": {
    "id": "9uB_kWsj3ME0"
   },
   "source": [
    "<p>The error message tells you: \n",
    "<ol>\n",
    "    <li>where the error occurred (more useful in large notebook cells or scripts), and</li> \n",
    "    <li>what kind of error it was (NameError)</li> \n",
    "</ol>\n",
    "<p>Here, Python attempted to run the function <code>frint</code>, but could not determine what <code>frint</code> is since it's not a built-in function and it has not been previously defined by us either.</p>"
   ]
  },
  {
   "cell_type": "markdown",
   "metadata": {
    "id": "K69tctv93ME0"
   },
   "source": [
    "<p>\n",
    "    You'll notice that if we make a different type of mistake, by forgetting to close the string, we'll obtain a different error (i.e., a <code>SyntaxError</code>). Try it below:\n",
    "</p>"
   ]
  },
  {
   "cell_type": "code",
   "execution_count": null,
   "metadata": {
    "colab": {
     "base_uri": "https://localhost:8080/"
    },
    "executionInfo": {
     "elapsed": 592,
     "status": "ok",
     "timestamp": 1624687066350,
     "user": {
      "displayName": "Dhyan Vyas",
      "photoUrl": "https://lh3.googleusercontent.com/a-/AOh14GicI0qQzMCkj4wkjzhp-RxInjb5nSa6cq08yNOU6w=s64",
      "userId": "04303281926800808768"
     },
     "user_tz": -330
    },
    "id": "37dei0-i3ME0",
    "outputId": "c2f2613c-fda7-428a-ce46-d102b75ebc12"
   },
   "outputs": [
    {
     "name": "stdout",
     "output_type": "stream",
     "text": [
      "Hello, Python!\n"
     ]
    }
   ],
   "source": [
    "# Try to see build in error message\n",
    "\n",
    "print(\"Hello, Python!\")"
   ]
  },
  {
   "cell_type": "markdown",
   "metadata": {
    "id": "YTzokEfl3ME0"
   },
   "source": [
    "<h3 id=\"python_error\">Does Python know about your error before it runs your code?</h3>"
   ]
  },
  {
   "cell_type": "markdown",
   "metadata": {
    "id": "aHSi7CLD3ME0"
   },
   "source": [
    "Python is what is called an <em>interpreted language</em>. Compiled languages examine your entire program at compile time, and are able to warn you about a whole class of errors prior to execution. In contrast, Python interprets your script line by line as it executes it. Python will stop executing the entire program when it encounters an error (unless the error is expected and handled by the programmer, a more advanced subject that we'll cover later on in this course)."
   ]
  },
  {
   "cell_type": "markdown",
   "metadata": {
    "id": "tzNGIZia3ME0"
   },
   "source": [
    "Try to run the code in the cell below and see what happens:"
   ]
  },
  {
   "cell_type": "code",
   "execution_count": null,
   "metadata": {
    "colab": {
     "base_uri": "https://localhost:8080/"
    },
    "executionInfo": {
     "elapsed": 535,
     "status": "ok",
     "timestamp": 1625385638424,
     "user": {
      "displayName": "Alok Yadav",
      "photoUrl": "https://lh3.googleusercontent.com/a-/AOh14GizZFMCB8-eVvEF7cC9zt8SGXsUNNmSz3Ka92VAXw=s64",
      "userId": "13695401162967392961"
     },
     "user_tz": -330
    },
    "id": "wn0wq7K33ME0",
    "outputId": "8893399e-a6af-428a-a904-a9a6890d4cfd"
   },
   "outputs": [
    {
     "name": "stdout",
     "output_type": "stream",
     "text": [
      "This will be printed\n",
      "This will cause an error\n",
      "This will NOT be printed\n"
     ]
    }
   ],
   "source": [
    "# Print string and error to see the running order\n",
    "\n",
    "print(\"This will be printed\")\n",
    "print(\"This will cause an error\")\n",
    "print(\"This will NOT be printed\")"
   ]
  },
  {
   "cell_type": "markdown",
   "metadata": {
    "id": "GWjFjYNw3ME1"
   },
   "source": [
    "<h3 id=\"exercise\">Exercise: Your First Program</h3>"
   ]
  },
  {
   "cell_type": "markdown",
   "metadata": {
    "id": "M41f1HoI3ME1"
   },
   "source": [
    "<p>Generations of programmers have started their coding careers by simply printing \"Hello, world!\". You will be following in their footsteps.</p>\n",
    "<p>In the code cell below, use the <code>print()</code> function to print out the phrase: <code>Hello, world!</code></p>"
   ]
  },
  {
   "cell_type": "code",
   "execution_count": null,
   "metadata": {
    "colab": {
     "base_uri": "https://localhost:8080/"
    },
    "executionInfo": {
     "elapsed": 537,
     "status": "ok",
     "timestamp": 1625385676672,
     "user": {
      "displayName": "Alok Yadav",
      "photoUrl": "https://lh3.googleusercontent.com/a-/AOh14GizZFMCB8-eVvEF7cC9zt8SGXsUNNmSz3Ka92VAXw=s64",
      "userId": "13695401162967392961"
     },
     "user_tz": -330
    },
    "id": "O7QS14EC3ME2",
    "outputId": "a4fdf84f-aa25-4a57-9b5f-b0e56f23fd57"
   },
   "outputs": [
    {
     "name": "stdout",
     "output_type": "stream",
     "text": [
      "Hello, world!\n"
     ]
    }
   ],
   "source": [
    "# Write your code below and press Shift+Enter to execute \n",
    "print(\"Hello, world!\")"
   ]
  },
  {
   "cell_type": "markdown",
   "metadata": {
    "id": "XRNfit6t3ME2"
   },
   "source": [
    "Double-click __here__ for the solution.\n",
    "\n",
    "<!-- Your answer is below:\n",
    "\n",
    "print(\"Hello, world!\")\n",
    "\n",
    "-->"
   ]
  },
  {
   "cell_type": "markdown",
   "metadata": {
    "id": "lmvNv6wP3ME2"
   },
   "source": [
    "<p>Now, let's enhance your code with a comment. In the code cell below, print out the phrase: <code>Hello, world!</code> and comment it with the phrase <code>Print the traditional hello world</code> all in one line of code.</p>"
   ]
  },
  {
   "cell_type": "code",
   "execution_count": null,
   "metadata": {
    "colab": {
     "base_uri": "https://localhost:8080/"
    },
    "executionInfo": {
     "elapsed": 691,
     "status": "ok",
     "timestamp": 1625385687837,
     "user": {
      "displayName": "Alok Yadav",
      "photoUrl": "https://lh3.googleusercontent.com/a-/AOh14GizZFMCB8-eVvEF7cC9zt8SGXsUNNmSz3Ka92VAXw=s64",
      "userId": "13695401162967392961"
     },
     "user_tz": -330
    },
    "id": "rWZXVnrx3ME2",
    "outputId": "d66d1ad8-6e97-4199-c185-d2080ca1820a"
   },
   "outputs": [
    {
     "name": "stdout",
     "output_type": "stream",
     "text": [
      "Hello, world!\n"
     ]
    }
   ],
   "source": [
    "# Write your code below and press Shift+Enter to execute \n",
    "\n",
    "print(\"Hello, world!\") # Print the traditional hello world"
   ]
  },
  {
   "cell_type": "markdown",
   "metadata": {
    "id": "IGoqiCtP3ME3"
   },
   "source": [
    "Double-click __here__ for the solution.\n",
    "\n",
    "<!-- Your answer is below:\n",
    "\n",
    "print(\"Hello, world!\") # Print the traditional hello world\n",
    "\n",
    "-->\n"
   ]
  },
  {
   "cell_type": "markdown",
   "metadata": {
    "id": "bl4NmryM3ME3"
   },
   "source": [
    "<hr>"
   ]
  },
  {
   "cell_type": "markdown",
   "metadata": {
    "id": "KB7qvJJq3ME3"
   },
   "source": [
    "<h2 id=\"types_objects\" align=\"center\">Types of objects in Python</h2>"
   ]
  },
  {
   "cell_type": "markdown",
   "metadata": {
    "id": "wOfw9Lfb3ME3"
   },
   "source": [
    "<p>Python is an object-oriented language. There are many different types of objects in Python. Let's start with the most common object types: <i>strings</i>, <i>integers</i> and <i>floats</i>. Anytime you write words (text) in Python, you're using <i>character strings</i> (strings for short). The most common numbers, on the other hand, are <i>integers</i> (e.g. -1, 0, 100) and <i>floats</i>, which represent real numbers (e.g. 3.14, -42.0).</p>"
   ]
  },
  {
   "cell_type": "markdown",
   "metadata": {
    "id": "odnY2GBN3ME3"
   },
   "source": [
    "<a align=\"center\">\n",
    "    <img src=\"https://s3-api.us-geo.objectstorage.softlayer.net/cf-courses-data/CognitiveClass/PY0101EN/Chapter%201/Images/TypesObjects.png\" width=\"600\">\n",
    "</a>"
   ]
  },
  {
   "cell_type": "markdown",
   "metadata": {
    "id": "3cgo536X3ME3"
   },
   "source": [
    "<p>The following code cells contain some examples.</p>"
   ]
  },
  {
   "cell_type": "code",
   "execution_count": null,
   "metadata": {
    "colab": {
     "base_uri": "https://localhost:8080/"
    },
    "executionInfo": {
     "elapsed": 723,
     "status": "ok",
     "timestamp": 1625385718759,
     "user": {
      "displayName": "Alok Yadav",
      "photoUrl": "https://lh3.googleusercontent.com/a-/AOh14GizZFMCB8-eVvEF7cC9zt8SGXsUNNmSz3Ka92VAXw=s64",
      "userId": "13695401162967392961"
     },
     "user_tz": -330
    },
    "id": "8INRwSZS3ME3",
    "outputId": "1d1d2bc2-3e07-4b36-993f-b2ea3e0e0e63"
   },
   "outputs": [
    {
     "data": {
      "text/plain": [
       "11"
      ]
     },
     "execution_count": 8,
     "metadata": {
      "tags": []
     },
     "output_type": "execute_result"
    }
   ],
   "source": [
    "# Integer\n",
    "\n",
    "11"
   ]
  },
  {
   "cell_type": "code",
   "execution_count": null,
   "metadata": {
    "colab": {
     "base_uri": "https://localhost:8080/"
    },
    "executionInfo": {
     "elapsed": 128,
     "status": "ok",
     "timestamp": 1625385726586,
     "user": {
      "displayName": "Alok Yadav",
      "photoUrl": "https://lh3.googleusercontent.com/a-/AOh14GizZFMCB8-eVvEF7cC9zt8SGXsUNNmSz3Ka92VAXw=s64",
      "userId": "13695401162967392961"
     },
     "user_tz": -330
    },
    "id": "PI3TDTn_3ME4",
    "outputId": "b2ad93cb-3802-4117-97a2-09dbd157d5c6"
   },
   "outputs": [
    {
     "data": {
      "text/plain": [
       "2.14"
      ]
     },
     "execution_count": 9,
     "metadata": {
      "tags": []
     },
     "output_type": "execute_result"
    }
   ],
   "source": [
    "# Float\n",
    "\n",
    "2.14"
   ]
  },
  {
   "cell_type": "code",
   "execution_count": null,
   "metadata": {
    "colab": {
     "base_uri": "https://localhost:8080/",
     "height": 35
    },
    "executionInfo": {
     "elapsed": 9,
     "status": "ok",
     "timestamp": 1625385729962,
     "user": {
      "displayName": "Alok Yadav",
      "photoUrl": "https://lh3.googleusercontent.com/a-/AOh14GizZFMCB8-eVvEF7cC9zt8SGXsUNNmSz3Ka92VAXw=s64",
      "userId": "13695401162967392961"
     },
     "user_tz": -330
    },
    "id": "7vMd3_bN3ME4",
    "outputId": "e64236a6-3d0e-4270-e0d8-723200892b32"
   },
   "outputs": [
    {
     "data": {
      "application/vnd.google.colaboratory.intrinsic+json": {
       "type": "string"
      },
      "text/plain": [
       "'Hello, Python 101!'"
      ]
     },
     "execution_count": 10,
     "metadata": {
      "tags": []
     },
     "output_type": "execute_result"
    }
   ],
   "source": [
    "# String\n",
    "\n",
    "\"Hello, Python 101!\""
   ]
  },
  {
   "cell_type": "markdown",
   "metadata": {
    "id": "yh1qI4SO3ME4"
   },
   "source": [
    "<p>You can get Python to tell you the type of an expression by using the built-in <code>type()</code> function. You'll notice that Python refers to integers as <code>int</code>, floats as <code>float</code>, and character strings as <code>str</code>.</p>"
   ]
  },
  {
   "cell_type": "code",
   "execution_count": null,
   "metadata": {
    "colab": {
     "base_uri": "https://localhost:8080/"
    },
    "executionInfo": {
     "elapsed": 555,
     "status": "ok",
     "timestamp": 1625385739977,
     "user": {
      "displayName": "Alok Yadav",
      "photoUrl": "https://lh3.googleusercontent.com/a-/AOh14GizZFMCB8-eVvEF7cC9zt8SGXsUNNmSz3Ka92VAXw=s64",
      "userId": "13695401162967392961"
     },
     "user_tz": -330
    },
    "id": "76bHFzfN3ME4",
    "outputId": "8349667c-0d86-45da-97a5-66519b1c77f8"
   },
   "outputs": [
    {
     "data": {
      "text/plain": [
       "int"
      ]
     },
     "execution_count": 11,
     "metadata": {
      "tags": []
     },
     "output_type": "execute_result"
    }
   ],
   "source": [
    "# Type of 12\n",
    "\n",
    "type(12)"
   ]
  },
  {
   "cell_type": "code",
   "execution_count": null,
   "metadata": {
    "colab": {
     "base_uri": "https://localhost:8080/"
    },
    "executionInfo": {
     "elapsed": 985,
     "status": "ok",
     "timestamp": 1625385744522,
     "user": {
      "displayName": "Alok Yadav",
      "photoUrl": "https://lh3.googleusercontent.com/a-/AOh14GizZFMCB8-eVvEF7cC9zt8SGXsUNNmSz3Ka92VAXw=s64",
      "userId": "13695401162967392961"
     },
     "user_tz": -330
    },
    "id": "30SBP6VT3ME4",
    "outputId": "7c173355-ecda-46c7-811d-b6177320826f"
   },
   "outputs": [
    {
     "data": {
      "text/plain": [
       "float"
      ]
     },
     "execution_count": 12,
     "metadata": {
      "tags": []
     },
     "output_type": "execute_result"
    }
   ],
   "source": [
    "# Type of 2.14\n",
    "\n",
    "type(2.14)"
   ]
  },
  {
   "cell_type": "code",
   "execution_count": null,
   "metadata": {
    "colab": {
     "base_uri": "https://localhost:8080/"
    },
    "executionInfo": {
     "elapsed": 11,
     "status": "ok",
     "timestamp": 1625385748597,
     "user": {
      "displayName": "Alok Yadav",
      "photoUrl": "https://lh3.googleusercontent.com/a-/AOh14GizZFMCB8-eVvEF7cC9zt8SGXsUNNmSz3Ka92VAXw=s64",
      "userId": "13695401162967392961"
     },
     "user_tz": -330
    },
    "id": "9xZKR6Fj3ME5",
    "outputId": "215163ad-8727-4f9c-c56c-ac01fc4613d8"
   },
   "outputs": [
    {
     "data": {
      "text/plain": [
       "str"
      ]
     },
     "execution_count": 13,
     "metadata": {
      "tags": []
     },
     "output_type": "execute_result"
    }
   ],
   "source": [
    "# Type of \"Hello, Python 101!\"\n",
    "\n",
    "type(\"Hello, Python 101!\")"
   ]
  },
  {
   "cell_type": "markdown",
   "metadata": {
    "id": "fZ2qcsZx3ME5"
   },
   "source": [
    "<p>In the code cell below, use the <code>type()</code> function to check the object type of <code>12.0</code>."
   ]
  },
  {
   "cell_type": "code",
   "execution_count": null,
   "metadata": {
    "id": "lT12Tvgu3ME5",
    "outputId": "53e2917a-66ac-4ee5-992c-7fe2605e9990"
   },
   "outputs": [
    {
     "data": {
      "text/plain": [
       "float"
      ]
     },
     "execution_count": 16,
     "metadata": {
      "tags": []
     },
     "output_type": "execute_result"
    }
   ],
   "source": [
    "# Write your code below. Don't forget to press Shift+Enter to execute the cell\n",
    "\n",
    "type(12.0)"
   ]
  },
  {
   "cell_type": "markdown",
   "metadata": {
    "id": "6_QsmvGN3ME5"
   },
   "source": [
    "Double-click __here__ for the solution.\n",
    "\n",
    "<!-- Your answer is below:\n",
    "\n",
    "type(12.0)\n",
    "\n",
    "-->"
   ]
  },
  {
   "cell_type": "markdown",
   "metadata": {
    "id": "WUttHMHz3ME5"
   },
   "source": [
    "<h3 id=\"int\">Integers</h3>"
   ]
  },
  {
   "cell_type": "markdown",
   "metadata": {
    "id": "-Y08JvB13ME5"
   },
   "source": [
    "<p>Here are some examples of integers. Integers can be negative or positive numbers:</p>"
   ]
  },
  {
   "cell_type": "markdown",
   "metadata": {
    "id": "e-g5BeQA3ME5"
   },
   "source": [
    "<a align=\"center\">\n",
    "    <img src=\"https://s3-api.us-geo.objectstorage.softlayer.net/cf-courses-data/CognitiveClass/PY0101EN/Chapter%201/Images/TypesInt.png\" width=\"600\">\n",
    "</a>"
   ]
  },
  {
   "cell_type": "markdown",
   "metadata": {
    "id": "O-GwsfHs3ME5"
   },
   "source": [
    "<p>We can verify this is the case by using, you guessed it, the <code>type()</code> function:"
   ]
  },
  {
   "cell_type": "code",
   "execution_count": null,
   "metadata": {
    "colab": {
     "base_uri": "https://localhost:8080/"
    },
    "executionInfo": {
     "elapsed": 552,
     "status": "ok",
     "timestamp": 1624687194345,
     "user": {
      "displayName": "Dhyan Vyas",
      "photoUrl": "https://lh3.googleusercontent.com/a-/AOh14GicI0qQzMCkj4wkjzhp-RxInjb5nSa6cq08yNOU6w=s64",
      "userId": "04303281926800808768"
     },
     "user_tz": -330
    },
    "id": "Ca4IquoG3ME5",
    "outputId": "8fe2b0b2-41a9-4750-d16c-6740f733939d"
   },
   "outputs": [
    {
     "data": {
      "text/plain": [
       "int"
      ]
     },
     "execution_count": 12,
     "metadata": {
      "tags": []
     },
     "output_type": "execute_result"
    }
   ],
   "source": [
    "# Print the type of -1\n",
    "\n",
    "type(-1)"
   ]
  },
  {
   "cell_type": "code",
   "execution_count": null,
   "metadata": {
    "colab": {
     "base_uri": "https://localhost:8080/"
    },
    "executionInfo": {
     "elapsed": 7,
     "status": "ok",
     "timestamp": 1624687194934,
     "user": {
      "displayName": "Dhyan Vyas",
      "photoUrl": "https://lh3.googleusercontent.com/a-/AOh14GicI0qQzMCkj4wkjzhp-RxInjb5nSa6cq08yNOU6w=s64",
      "userId": "04303281926800808768"
     },
     "user_tz": -330
    },
    "id": "zNZME6IL3ME6",
    "outputId": "1a7a1de1-b5bd-4916-c958-6f483a9d5bf8"
   },
   "outputs": [
    {
     "data": {
      "text/plain": [
       "int"
      ]
     },
     "execution_count": 13,
     "metadata": {
      "tags": []
     },
     "output_type": "execute_result"
    }
   ],
   "source": [
    "# Print the type of 4\n",
    "\n",
    "type(4)"
   ]
  },
  {
   "cell_type": "code",
   "execution_count": null,
   "metadata": {
    "colab": {
     "base_uri": "https://localhost:8080/"
    },
    "executionInfo": {
     "elapsed": 6,
     "status": "ok",
     "timestamp": 1624687194935,
     "user": {
      "displayName": "Dhyan Vyas",
      "photoUrl": "https://lh3.googleusercontent.com/a-/AOh14GicI0qQzMCkj4wkjzhp-RxInjb5nSa6cq08yNOU6w=s64",
      "userId": "04303281926800808768"
     },
     "user_tz": -330
    },
    "id": "8dWY198g3ME6",
    "outputId": "8e8f2d2a-9a60-45b4-c7dd-7c271e9019b6"
   },
   "outputs": [
    {
     "data": {
      "text/plain": [
       "int"
      ]
     },
     "execution_count": 14,
     "metadata": {
      "tags": []
     },
     "output_type": "execute_result"
    }
   ],
   "source": [
    "# Print the type of 0\n",
    "\n",
    "type(0)"
   ]
  },
  {
   "cell_type": "markdown",
   "metadata": {
    "id": "uZNJV9qI3ME6"
   },
   "source": [
    "<h3 id=\"float\">Floats</h3> "
   ]
  },
  {
   "cell_type": "markdown",
   "metadata": {
    "id": "-TtQ5eYn3ME6"
   },
   "source": [
    "<p>Floats represent real numbers; they are a superset of integer numbers but also include \"numbers with decimals\". There are some limitations when it comes to machines representing real numbers, but floating point numbers are a good representation in most cases. You can learn more about the specifics of floats for your runtime environment, by checking the value of <code>sys.float_info</code>. This will also tell you what's the largest and smallest number that can be represented with them.</p>\n",
    "\n",
    "<p>Once again, can test some examples with the <code>type()</code> function:"
   ]
  },
  {
   "cell_type": "code",
   "execution_count": null,
   "metadata": {
    "colab": {
     "base_uri": "https://localhost:8080/"
    },
    "executionInfo": {
     "elapsed": 4,
     "status": "ok",
     "timestamp": 1624687195268,
     "user": {
      "displayName": "Dhyan Vyas",
      "photoUrl": "https://lh3.googleusercontent.com/a-/AOh14GicI0qQzMCkj4wkjzhp-RxInjb5nSa6cq08yNOU6w=s64",
      "userId": "04303281926800808768"
     },
     "user_tz": -330
    },
    "id": "BFoCH5WD3ME6",
    "outputId": "5702b95e-564f-464c-c157-92da67bd2a15"
   },
   "outputs": [
    {
     "data": {
      "text/plain": [
       "float"
      ]
     },
     "execution_count": 15,
     "metadata": {
      "tags": []
     },
     "output_type": "execute_result"
    }
   ],
   "source": [
    "# Print the type of 1.0\n",
    "\n",
    "type(1.0) # Notice that 1 is an int, and 1.0 is a float"
   ]
  },
  {
   "cell_type": "code",
   "execution_count": null,
   "metadata": {
    "colab": {
     "base_uri": "https://localhost:8080/"
    },
    "executionInfo": {
     "elapsed": 4,
     "status": "ok",
     "timestamp": 1624687195841,
     "user": {
      "displayName": "Dhyan Vyas",
      "photoUrl": "https://lh3.googleusercontent.com/a-/AOh14GicI0qQzMCkj4wkjzhp-RxInjb5nSa6cq08yNOU6w=s64",
      "userId": "04303281926800808768"
     },
     "user_tz": -330
    },
    "id": "EDUMFaoZ3ME6",
    "outputId": "1df12dbc-10a6-42e6-f1c9-79d9129c1922"
   },
   "outputs": [
    {
     "data": {
      "text/plain": [
       "float"
      ]
     },
     "execution_count": 16,
     "metadata": {
      "tags": []
     },
     "output_type": "execute_result"
    }
   ],
   "source": [
    "# Print the type of 0.5\n",
    "\n",
    "type(0.5)"
   ]
  },
  {
   "cell_type": "code",
   "execution_count": null,
   "metadata": {
    "colab": {
     "base_uri": "https://localhost:8080/"
    },
    "executionInfo": {
     "elapsed": 5,
     "status": "ok",
     "timestamp": 1624687197010,
     "user": {
      "displayName": "Dhyan Vyas",
      "photoUrl": "https://lh3.googleusercontent.com/a-/AOh14GicI0qQzMCkj4wkjzhp-RxInjb5nSa6cq08yNOU6w=s64",
      "userId": "04303281926800808768"
     },
     "user_tz": -330
    },
    "id": "uuAYP01C3ME7",
    "outputId": "1d0f8581-2fa1-45ce-9403-08cb73c8fd11"
   },
   "outputs": [
    {
     "data": {
      "text/plain": [
       "float"
      ]
     },
     "execution_count": 17,
     "metadata": {
      "tags": []
     },
     "output_type": "execute_result"
    }
   ],
   "source": [
    "# Print the type of 0.56\n",
    "\n",
    "type(0.56)"
   ]
  },
  {
   "cell_type": "code",
   "execution_count": null,
   "metadata": {
    "colab": {
     "base_uri": "https://localhost:8080/"
    },
    "executionInfo": {
     "elapsed": 4,
     "status": "ok",
     "timestamp": 1624687197597,
     "user": {
      "displayName": "Dhyan Vyas",
      "photoUrl": "https://lh3.googleusercontent.com/a-/AOh14GicI0qQzMCkj4wkjzhp-RxInjb5nSa6cq08yNOU6w=s64",
      "userId": "04303281926800808768"
     },
     "user_tz": -330
    },
    "id": "vUymIfd63ME7",
    "outputId": "feb3181a-7452-4794-8969-1af0c6f00e43"
   },
   "outputs": [
    {
     "data": {
      "text/plain": [
       "sys.float_info(max=1.7976931348623157e+308, max_exp=1024, max_10_exp=308, min=2.2250738585072014e-308, min_exp=-1021, min_10_exp=-307, dig=15, mant_dig=53, epsilon=2.220446049250313e-16, radix=2, rounds=1)"
      ]
     },
     "execution_count": 18,
     "metadata": {
      "tags": []
     },
     "output_type": "execute_result"
    }
   ],
   "source": [
    "# System settings about float type\n",
    "\n",
    "sys.float_info"
   ]
  },
  {
   "cell_type": "markdown",
   "metadata": {
    "id": "_U6CMrSB3ME7"
   },
   "source": [
    "<h3 id=\"convert\">Converting from one object type to a different object type</h3>"
   ]
  },
  {
   "cell_type": "markdown",
   "metadata": {
    "id": "QH2hBzLt3ME7"
   },
   "source": [
    "<p>You can change the type of the object in Python; this is called typecasting. For example, you can convert an <i>integer</i> into a <i>float</i> (e.g. 2 to 2.0).</p>\n",
    "<p>Let's try it:</p>"
   ]
  },
  {
   "cell_type": "code",
   "execution_count": null,
   "metadata": {
    "colab": {
     "base_uri": "https://localhost:8080/"
    },
    "executionInfo": {
     "elapsed": 3,
     "status": "ok",
     "timestamp": 1624687199318,
     "user": {
      "displayName": "Dhyan Vyas",
      "photoUrl": "https://lh3.googleusercontent.com/a-/AOh14GicI0qQzMCkj4wkjzhp-RxInjb5nSa6cq08yNOU6w=s64",
      "userId": "04303281926800808768"
     },
     "user_tz": -330
    },
    "id": "akBoznEE3ME7",
    "outputId": "df3f1524-43cb-4c74-f749-679a9176c25d"
   },
   "outputs": [
    {
     "data": {
      "text/plain": [
       "int"
      ]
     },
     "execution_count": 19,
     "metadata": {
      "tags": []
     },
     "output_type": "execute_result"
    }
   ],
   "source": [
    "# Verify that this is an integer\n",
    "\n",
    "type(2)"
   ]
  },
  {
   "cell_type": "markdown",
   "metadata": {
    "id": "NYBZjkKX3ME7"
   },
   "source": [
    "<h4>Converting integers to floats</h4>\n",
    "<p>Let's cast integer 2 to float:</p>"
   ]
  },
  {
   "cell_type": "code",
   "execution_count": null,
   "metadata": {
    "colab": {
     "base_uri": "https://localhost:8080/"
    },
    "executionInfo": {
     "elapsed": 4,
     "status": "ok",
     "timestamp": 1624687201044,
     "user": {
      "displayName": "Dhyan Vyas",
      "photoUrl": "https://lh3.googleusercontent.com/a-/AOh14GicI0qQzMCkj4wkjzhp-RxInjb5nSa6cq08yNOU6w=s64",
      "userId": "04303281926800808768"
     },
     "user_tz": -330
    },
    "id": "UycXoJQ23ME7",
    "outputId": "478e6749-0001-4862-ead7-169eeceb37cf"
   },
   "outputs": [
    {
     "data": {
      "text/plain": [
       "2.0"
      ]
     },
     "execution_count": 20,
     "metadata": {
      "tags": []
     },
     "output_type": "execute_result"
    }
   ],
   "source": [
    "# Convert 2 to a float\n",
    "\n",
    "float(2)"
   ]
  },
  {
   "cell_type": "code",
   "execution_count": null,
   "metadata": {
    "colab": {
     "base_uri": "https://localhost:8080/"
    },
    "executionInfo": {
     "elapsed": 4,
     "status": "ok",
     "timestamp": 1624687202425,
     "user": {
      "displayName": "Dhyan Vyas",
      "photoUrl": "https://lh3.googleusercontent.com/a-/AOh14GicI0qQzMCkj4wkjzhp-RxInjb5nSa6cq08yNOU6w=s64",
      "userId": "04303281926800808768"
     },
     "user_tz": -330
    },
    "id": "USum-2OH3ME8",
    "outputId": "14c05d7b-1451-4d0a-b252-9704e40f497c"
   },
   "outputs": [
    {
     "data": {
      "text/plain": [
       "float"
      ]
     },
     "execution_count": 21,
     "metadata": {
      "tags": []
     },
     "output_type": "execute_result"
    }
   ],
   "source": [
    "# Convert integer 2 to a float and check its type\n",
    "\n",
    "type(float(2))"
   ]
  },
  {
   "cell_type": "markdown",
   "metadata": {
    "id": "jrTqnRiy3ME8"
   },
   "source": [
    "<p>When we convert an integer into a float, we don't really change the value (i.e., the significand) of the number. However, if we cast a float into an integer, we could potentially lose some information. For example, if we cast the float 1.1 to integer we will get 1 and lose the decimal information (i.e., 0.1):</p>"
   ]
  },
  {
   "cell_type": "code",
   "execution_count": null,
   "metadata": {
    "colab": {
     "base_uri": "https://localhost:8080/"
    },
    "executionInfo": {
     "elapsed": 4,
     "status": "ok",
     "timestamp": 1624687204805,
     "user": {
      "displayName": "Dhyan Vyas",
      "photoUrl": "https://lh3.googleusercontent.com/a-/AOh14GicI0qQzMCkj4wkjzhp-RxInjb5nSa6cq08yNOU6w=s64",
      "userId": "04303281926800808768"
     },
     "user_tz": -330
    },
    "id": "y7i3J0Da3ME8",
    "outputId": "05be4942-79fc-4927-e186-898cab2060a3"
   },
   "outputs": [
    {
     "data": {
      "text/plain": [
       "1"
      ]
     },
     "execution_count": 22,
     "metadata": {
      "tags": []
     },
     "output_type": "execute_result"
    }
   ],
   "source": [
    "# Casting 1.1 to integer will result in loss of information\n",
    "\n",
    "int(1.1)"
   ]
  },
  {
   "cell_type": "markdown",
   "metadata": {
    "id": "N6bY2Ymm3ME9"
   },
   "source": [
    "<h4>Converting from strings to integers or floats</h4>"
   ]
  },
  {
   "cell_type": "markdown",
   "metadata": {
    "id": "UJwlbwYM3ME9"
   },
   "source": [
    "<p>Sometimes, we can have a string that contains a number within it. If this is the case, we can cast that string that represents a number into an integer using <code>int()</code>:</p>"
   ]
  },
  {
   "cell_type": "code",
   "execution_count": null,
   "metadata": {
    "colab": {
     "base_uri": "https://localhost:8080/"
    },
    "executionInfo": {
     "elapsed": 1770,
     "status": "ok",
     "timestamp": 1625386201931,
     "user": {
      "displayName": "Alok Yadav",
      "photoUrl": "https://lh3.googleusercontent.com/a-/AOh14GizZFMCB8-eVvEF7cC9zt8SGXsUNNmSz3Ka92VAXw=s64",
      "userId": "13695401162967392961"
     },
     "user_tz": -330
    },
    "id": "eBkL-11j3ME9",
    "outputId": "3cf7d309-746b-45e5-c2df-841599df6716"
   },
   "outputs": [
    {
     "data": {
      "text/plain": [
       "1"
      ]
     },
     "execution_count": 14,
     "metadata": {
      "tags": []
     },
     "output_type": "execute_result"
    }
   ],
   "source": [
    "# Convert a string into an integer\n",
    "\n",
    "int('1')"
   ]
  },
  {
   "cell_type": "markdown",
   "metadata": {
    "id": "TNKJS-wW3ME9"
   },
   "source": [
    "<p>But if you try to do so with a string that is not a perfect match for a number, you'll get an error. Try the following:</p>"
   ]
  },
  {
   "cell_type": "code",
   "execution_count": null,
   "metadata": {
    "colab": {
     "base_uri": "https://localhost:8080/",
     "height": 198
    },
    "executionInfo": {
     "elapsed": 530,
     "status": "error",
     "timestamp": 1625386210964,
     "user": {
      "displayName": "Alok Yadav",
      "photoUrl": "https://lh3.googleusercontent.com/a-/AOh14GizZFMCB8-eVvEF7cC9zt8SGXsUNNmSz3Ka92VAXw=s64",
      "userId": "13695401162967392961"
     },
     "user_tz": -330
    },
    "id": "ypUoLUXP3ME-",
    "outputId": "32a5c994-c9dd-4d39-f88b-d72c6ea604ce"
   },
   "outputs": [
    {
     "ename": "ValueError",
     "evalue": "ignored",
     "output_type": "error",
     "traceback": [
      "\u001b[0;31m---------------------------------------------------------------------------\u001b[0m",
      "\u001b[0;31mValueError\u001b[0m                                Traceback (most recent call last)",
      "\u001b[0;32m<ipython-input-15-b78145d165c7>\u001b[0m in \u001b[0;36m<module>\u001b[0;34m()\u001b[0m\n\u001b[1;32m      1\u001b[0m \u001b[0;31m# Convert a string into an integer with error\u001b[0m\u001b[0;34m\u001b[0m\u001b[0;34m\u001b[0m\u001b[0;34m\u001b[0m\u001b[0m\n\u001b[1;32m      2\u001b[0m \u001b[0;34m\u001b[0m\u001b[0m\n\u001b[0;32m----> 3\u001b[0;31m \u001b[0mint\u001b[0m\u001b[0;34m(\u001b[0m\u001b[0;34m'1 or 2 people'\u001b[0m\u001b[0;34m)\u001b[0m\u001b[0;34m\u001b[0m\u001b[0;34m\u001b[0m\u001b[0m\n\u001b[0m",
      "\u001b[0;31mValueError\u001b[0m: invalid literal for int() with base 10: '1 or 2 people'"
     ]
    }
   ],
   "source": [
    "# Convert a string into an integer with error\n",
    "\n",
    "int('1 or 2 people')"
   ]
  },
  {
   "cell_type": "markdown",
   "metadata": {
    "id": "Ew5Nk0sj3ME-"
   },
   "source": [
    "<p>You can also convert strings containing floating point numbers into <i>float</i> objects:</p>"
   ]
  },
  {
   "cell_type": "code",
   "execution_count": null,
   "metadata": {
    "colab": {
     "base_uri": "https://localhost:8080/"
    },
    "executionInfo": {
     "elapsed": 513,
     "status": "ok",
     "timestamp": 1625386402111,
     "user": {
      "displayName": "Alok Yadav",
      "photoUrl": "https://lh3.googleusercontent.com/a-/AOh14GizZFMCB8-eVvEF7cC9zt8SGXsUNNmSz3Ka92VAXw=s64",
      "userId": "13695401162967392961"
     },
     "user_tz": -330
    },
    "id": "-yPSOZxAklTu",
    "outputId": "06d50873-064d-4ddb-b1f5-6fccce09c091"
   },
   "outputs": [
    {
     "data": {
      "text/plain": [
       "str"
      ]
     },
     "execution_count": 18,
     "metadata": {
      "tags": []
     },
     "output_type": "execute_result"
    }
   ],
   "source": [
    "type('Apple')"
   ]
  },
  {
   "cell_type": "code",
   "execution_count": null,
   "metadata": {
    "colab": {
     "base_uri": "https://localhost:8080/",
     "height": 198
    },
    "executionInfo": {
     "elapsed": 515,
     "status": "error",
     "timestamp": 1625386414384,
     "user": {
      "displayName": "Alok Yadav",
      "photoUrl": "https://lh3.googleusercontent.com/a-/AOh14GizZFMCB8-eVvEF7cC9zt8SGXsUNNmSz3Ka92VAXw=s64",
      "userId": "13695401162967392961"
     },
     "user_tz": -330
    },
    "id": "U0QF6o-Q3ME-",
    "outputId": "c5ca8f93-e152-4ee8-8a7d-37a6baee0a8a"
   },
   "outputs": [
    {
     "ename": "ValueError",
     "evalue": "ignored",
     "output_type": "error",
     "traceback": [
      "\u001b[0;31m---------------------------------------------------------------------------\u001b[0m",
      "\u001b[0;31mValueError\u001b[0m                                Traceback (most recent call last)",
      "\u001b[0;32m<ipython-input-19-9440bf569ef0>\u001b[0m in \u001b[0;36m<module>\u001b[0;34m()\u001b[0m\n\u001b[1;32m      1\u001b[0m \u001b[0;31m# Convert the string \"1.2\" into a float\u001b[0m\u001b[0;34m\u001b[0m\u001b[0;34m\u001b[0m\u001b[0;34m\u001b[0m\u001b[0m\n\u001b[1;32m      2\u001b[0m \u001b[0;34m\u001b[0m\u001b[0m\n\u001b[0;32m----> 3\u001b[0;31m \u001b[0mfloat\u001b[0m\u001b[0;34m(\u001b[0m\u001b[0;34m'apple'\u001b[0m\u001b[0;34m)\u001b[0m\u001b[0;34m\u001b[0m\u001b[0;34m\u001b[0m\u001b[0m\n\u001b[0m",
      "\u001b[0;31mValueError\u001b[0m: could not convert string to float: 'apple'"
     ]
    }
   ],
   "source": [
    "# Convert the string \"1.2\" into a float\n",
    "\n",
    "float('apple')"
   ]
  },
  {
   "cell_type": "markdown",
   "metadata": {
    "id": "t-oCJNYv3ME-"
   },
   "source": [
    "<hr/>\n",
    "<div class=\"alert alert-success alertsuccess\" style=\"margin-top: 20px\">\n",
    "    [Tip:] Note that strings can be represented with single quotes (<code>'1.2'</code>) or double quotes (<code>\"1.2\"</code>), but you can't mix both (e.g., <code>\"1.2'</code>).\n",
    "</div>\n",
    "<hr/>"
   ]
  },
  {
   "cell_type": "markdown",
   "metadata": {
    "id": "i0PWXhy-3ME-"
   },
   "source": [
    "<h4>Converting numbers to strings</h4>"
   ]
  },
  {
   "cell_type": "markdown",
   "metadata": {
    "id": "0ijXuPWF3ME-"
   },
   "source": [
    "<p>If we can convert strings to numbers, it is only natural to assume that we can convert numbers to strings, right?</p>"
   ]
  },
  {
   "cell_type": "code",
   "execution_count": null,
   "metadata": {
    "colab": {
     "base_uri": "https://localhost:8080/",
     "height": 35
    },
    "executionInfo": {
     "elapsed": 567,
     "status": "ok",
     "timestamp": 1624687290958,
     "user": {
      "displayName": "Dhyan Vyas",
      "photoUrl": "https://lh3.googleusercontent.com/a-/AOh14GicI0qQzMCkj4wkjzhp-RxInjb5nSa6cq08yNOU6w=s64",
      "userId": "04303281926800808768"
     },
     "user_tz": -330
    },
    "id": "c86LEM1s3ME-",
    "outputId": "bbf16547-56a8-49c0-953a-76e683a11943"
   },
   "outputs": [
    {
     "data": {
      "application/vnd.google.colaboratory.intrinsic+json": {
       "type": "string"
      },
      "text/plain": [
       "'1'"
      ]
     },
     "execution_count": 27,
     "metadata": {
      "tags": []
     },
     "output_type": "execute_result"
    }
   ],
   "source": [
    "# Convert an integer to a string\n",
    "\n",
    "str(1)"
   ]
  },
  {
   "cell_type": "markdown",
   "metadata": {
    "id": "ak2HniQl3ME-"
   },
   "source": [
    "<p>And there is no reason why we shouldn't be able to make floats into strings as well:</p> "
   ]
  },
  {
   "cell_type": "code",
   "execution_count": null,
   "metadata": {
    "colab": {
     "base_uri": "https://localhost:8080/",
     "height": 35
    },
    "executionInfo": {
     "elapsed": 4,
     "status": "ok",
     "timestamp": 1624687291475,
     "user": {
      "displayName": "Dhyan Vyas",
      "photoUrl": "https://lh3.googleusercontent.com/a-/AOh14GicI0qQzMCkj4wkjzhp-RxInjb5nSa6cq08yNOU6w=s64",
      "userId": "04303281926800808768"
     },
     "user_tz": -330
    },
    "id": "jVYwe0ym3ME_",
    "outputId": "708aa56c-e4de-4986-9283-5729abe9481e"
   },
   "outputs": [
    {
     "data": {
      "application/vnd.google.colaboratory.intrinsic+json": {
       "type": "string"
      },
      "text/plain": [
       "'1.2'"
      ]
     },
     "execution_count": 28,
     "metadata": {
      "tags": []
     },
     "output_type": "execute_result"
    }
   ],
   "source": [
    "# Convert a float to a string\n",
    "\n",
    "str(1.2)"
   ]
  },
  {
   "cell_type": "markdown",
   "metadata": {
    "id": "EHWNmB8u3ME_"
   },
   "source": [
    "<h3 id=\"bool\">Boolean data type</h3>"
   ]
  },
  {
   "cell_type": "markdown",
   "metadata": {
    "id": "ro5UwcBA3ME_"
   },
   "source": [
    "<p><i>Boolean</i> is another important type in Python. An object of type <i>Boolean</i> can take on one of two values: <code>True</code> or <code>False</code>:</p>"
   ]
  },
  {
   "cell_type": "code",
   "execution_count": null,
   "metadata": {
    "colab": {
     "base_uri": "https://localhost:8080/"
    },
    "executionInfo": {
     "elapsed": 3,
     "status": "ok",
     "timestamp": 1624687293708,
     "user": {
      "displayName": "Dhyan Vyas",
      "photoUrl": "https://lh3.googleusercontent.com/a-/AOh14GicI0qQzMCkj4wkjzhp-RxInjb5nSa6cq08yNOU6w=s64",
      "userId": "04303281926800808768"
     },
     "user_tz": -330
    },
    "id": "ycWZMmOP3ME_",
    "outputId": "3231dc5f-debd-4977-b657-5bfb2bdde634"
   },
   "outputs": [
    {
     "data": {
      "text/plain": [
       "True"
      ]
     },
     "execution_count": 29,
     "metadata": {
      "tags": []
     },
     "output_type": "execute_result"
    }
   ],
   "source": [
    "# Value true\n",
    "\n",
    "True"
   ]
  },
  {
   "cell_type": "markdown",
   "metadata": {
    "id": "InrLhCbz3ME_"
   },
   "source": [
    "<p>Notice that the value <code>True</code> has an uppercase \"T\". The same is true for <code>False</code> (i.e. you must use the uppercase \"F\").</p>"
   ]
  },
  {
   "cell_type": "code",
   "execution_count": null,
   "metadata": {
    "colab": {
     "base_uri": "https://localhost:8080/"
    },
    "executionInfo": {
     "elapsed": 3,
     "status": "ok",
     "timestamp": 1624687294969,
     "user": {
      "displayName": "Dhyan Vyas",
      "photoUrl": "https://lh3.googleusercontent.com/a-/AOh14GicI0qQzMCkj4wkjzhp-RxInjb5nSa6cq08yNOU6w=s64",
      "userId": "04303281926800808768"
     },
     "user_tz": -330
    },
    "id": "ywLUa8863ME_",
    "outputId": "fbf91859-eda7-4cfd-8638-8e55f6efdff8"
   },
   "outputs": [
    {
     "data": {
      "text/plain": [
       "False"
      ]
     },
     "execution_count": 30,
     "metadata": {
      "tags": []
     },
     "output_type": "execute_result"
    }
   ],
   "source": [
    "# Value false\n",
    "\n",
    "False"
   ]
  },
  {
   "cell_type": "markdown",
   "metadata": {
    "id": "OH0QJqdN3ME_"
   },
   "source": [
    "<p>When you ask Python to display the type of a boolean object it will show <code>bool</code> which stands for <i>boolean</i>:</p> "
   ]
  },
  {
   "cell_type": "code",
   "execution_count": null,
   "metadata": {
    "colab": {
     "base_uri": "https://localhost:8080/"
    },
    "executionInfo": {
     "elapsed": 4,
     "status": "ok",
     "timestamp": 1624687296488,
     "user": {
      "displayName": "Dhyan Vyas",
      "photoUrl": "https://lh3.googleusercontent.com/a-/AOh14GicI0qQzMCkj4wkjzhp-RxInjb5nSa6cq08yNOU6w=s64",
      "userId": "04303281926800808768"
     },
     "user_tz": -330
    },
    "id": "-zQAi9gv3ME_",
    "outputId": "6fa2657f-2d05-4c74-c11f-63a9c05cde87"
   },
   "outputs": [
    {
     "data": {
      "text/plain": [
       "bool"
      ]
     },
     "execution_count": 31,
     "metadata": {
      "tags": []
     },
     "output_type": "execute_result"
    }
   ],
   "source": [
    "# Type of True\n",
    "\n",
    "type(True)"
   ]
  },
  {
   "cell_type": "code",
   "execution_count": null,
   "metadata": {
    "colab": {
     "base_uri": "https://localhost:8080/"
    },
    "executionInfo": {
     "elapsed": 4,
     "status": "ok",
     "timestamp": 1624687297050,
     "user": {
      "displayName": "Dhyan Vyas",
      "photoUrl": "https://lh3.googleusercontent.com/a-/AOh14GicI0qQzMCkj4wkjzhp-RxInjb5nSa6cq08yNOU6w=s64",
      "userId": "04303281926800808768"
     },
     "user_tz": -330
    },
    "id": "yGPBRWlh3ME_",
    "outputId": "9e2045f4-dcee-4459-cd9b-3389c6b7b1c3"
   },
   "outputs": [
    {
     "data": {
      "text/plain": [
       "bool"
      ]
     },
     "execution_count": 32,
     "metadata": {
      "tags": []
     },
     "output_type": "execute_result"
    }
   ],
   "source": [
    "# Type of False\n",
    "\n",
    "type(False)"
   ]
  },
  {
   "cell_type": "markdown",
   "metadata": {
    "id": "BsdZ0KCv3MFA"
   },
   "source": [
    "<p>We can cast boolean objects to other data types. If we cast a boolean with a value of <code>True</code> to an integer or float we will get a one. If we cast a boolean with a value of <code>False</code> to an integer or float we will get a zero. Similarly, if we cast a 1 to a Boolean, you get a <code>True</code>. And if we cast a 0 to a Boolean we will get a <code>False</code>. Let's give it a try:</p> "
   ]
  },
  {
   "cell_type": "code",
   "execution_count": null,
   "metadata": {
    "colab": {
     "base_uri": "https://localhost:8080/"
    },
    "executionInfo": {
     "elapsed": 4,
     "status": "ok",
     "timestamp": 1624687299267,
     "user": {
      "displayName": "Dhyan Vyas",
      "photoUrl": "https://lh3.googleusercontent.com/a-/AOh14GicI0qQzMCkj4wkjzhp-RxInjb5nSa6cq08yNOU6w=s64",
      "userId": "04303281926800808768"
     },
     "user_tz": -330
    },
    "id": "1GKnKqVA3MFA",
    "outputId": "c92657dc-5997-4f51-b3ec-38463826aad0"
   },
   "outputs": [
    {
     "data": {
      "text/plain": [
       "1"
      ]
     },
     "execution_count": 33,
     "metadata": {
      "tags": []
     },
     "output_type": "execute_result"
    }
   ],
   "source": [
    "# Convert True to int\n",
    "\n",
    "int(True)"
   ]
  },
  {
   "cell_type": "code",
   "execution_count": null,
   "metadata": {
    "colab": {
     "base_uri": "https://localhost:8080/"
    },
    "executionInfo": {
     "elapsed": 488,
     "status": "ok",
     "timestamp": 1625928921716,
     "user": {
      "displayName": "Alok Yadav",
      "photoUrl": "https://lh3.googleusercontent.com/a-/AOh14GizZFMCB8-eVvEF7cC9zt8SGXsUNNmSz3Ka92VAXw=s64",
      "userId": "13695401162967392961"
     },
     "user_tz": -330
    },
    "id": "jvYERpnu3MFA",
    "outputId": "15b6ad69-88dd-4db4-b831-581992ef96bd"
   },
   "outputs": [
    {
     "data": {
      "text/plain": [
       "True"
      ]
     },
     "execution_count": 5,
     "metadata": {
      "tags": []
     },
     "output_type": "execute_result"
    }
   ],
   "source": [
    "# Convert 1 to boolean\n",
    "\n",
    "bool(4)"
   ]
  },
  {
   "cell_type": "code",
   "execution_count": null,
   "metadata": {
    "colab": {
     "base_uri": "https://localhost:8080/"
    },
    "executionInfo": {
     "elapsed": 514,
     "status": "ok",
     "timestamp": 1625928933744,
     "user": {
      "displayName": "Alok Yadav",
      "photoUrl": "https://lh3.googleusercontent.com/a-/AOh14GizZFMCB8-eVvEF7cC9zt8SGXsUNNmSz3Ka92VAXw=s64",
      "userId": "13695401162967392961"
     },
     "user_tz": -330
    },
    "id": "ywvJubyV3MFA",
    "outputId": "169d1dc8-9feb-4af4-e0f0-b0c4d11c0559"
   },
   "outputs": [
    {
     "data": {
      "text/plain": [
       "True"
      ]
     },
     "execution_count": 6,
     "metadata": {
      "tags": []
     },
     "output_type": "execute_result"
    }
   ],
   "source": [
    "# Convert 0 to boolean\n",
    "\n",
    "bool(-1)"
   ]
  },
  {
   "cell_type": "code",
   "execution_count": null,
   "metadata": {
    "colab": {
     "base_uri": "https://localhost:8080/"
    },
    "executionInfo": {
     "elapsed": 4,
     "status": "ok",
     "timestamp": 1624687302265,
     "user": {
      "displayName": "Dhyan Vyas",
      "photoUrl": "https://lh3.googleusercontent.com/a-/AOh14GicI0qQzMCkj4wkjzhp-RxInjb5nSa6cq08yNOU6w=s64",
      "userId": "04303281926800808768"
     },
     "user_tz": -330
    },
    "id": "J6PQW9pD3MFA",
    "outputId": "b8a0621c-c3b2-49ab-8174-1886f98c3500"
   },
   "outputs": [
    {
     "data": {
      "text/plain": [
       "1.0"
      ]
     },
     "execution_count": 36,
     "metadata": {
      "tags": []
     },
     "output_type": "execute_result"
    }
   ],
   "source": [
    "# Convert True to float\n",
    "\n",
    "float(True)"
   ]
  },
  {
   "cell_type": "markdown",
   "metadata": {
    "id": "QbOq10ga3MFA"
   },
   "source": [
    "<h3 id=\"exer_type\">Exercise: Types</h3>"
   ]
  },
  {
   "cell_type": "markdown",
   "metadata": {
    "id": "HX5UeUKY3MFB"
   },
   "source": [
    "<p>What is the data type of the result of: <code>6 / 2</code>?</p>"
   ]
  },
  {
   "cell_type": "code",
   "execution_count": null,
   "metadata": {
    "colab": {
     "base_uri": "https://localhost:8080/"
    },
    "executionInfo": {
     "elapsed": 355,
     "status": "ok",
     "timestamp": 1624687304670,
     "user": {
      "displayName": "Dhyan Vyas",
      "photoUrl": "https://lh3.googleusercontent.com/a-/AOh14GicI0qQzMCkj4wkjzhp-RxInjb5nSa6cq08yNOU6w=s64",
      "userId": "04303281926800808768"
     },
     "user_tz": -330
    },
    "id": "YagQCAZx3MFB",
    "outputId": "5aad2059-2b6d-43f7-e9fa-de52f4f241cb"
   },
   "outputs": [
    {
     "data": {
      "text/plain": [
       "float"
      ]
     },
     "execution_count": 37,
     "metadata": {
      "tags": []
     },
     "output_type": "execute_result"
    }
   ],
   "source": [
    "# Write your code below. Don't forget to press Shift+Enter to execute the cell\n",
    "\n",
    "type(6/2) #float"
   ]
  },
  {
   "cell_type": "code",
   "execution_count": null,
   "metadata": {
    "colab": {
     "base_uri": "https://localhost:8080/"
    },
    "executionInfo": {
     "elapsed": 565,
     "status": "ok",
     "timestamp": 1625386624757,
     "user": {
      "displayName": "Alok Yadav",
      "photoUrl": "https://lh3.googleusercontent.com/a-/AOh14GizZFMCB8-eVvEF7cC9zt8SGXsUNNmSz3Ka92VAXw=s64",
      "userId": "13695401162967392961"
     },
     "user_tz": -330
    },
    "id": "LfMlzbNZl1HP",
    "outputId": "94605ea9-896c-4a1d-c622-ceb0a386ed37"
   },
   "outputs": [
    {
     "data": {
      "text/plain": [
       "3"
      ]
     },
     "execution_count": 21,
     "metadata": {
      "tags": []
     },
     "output_type": "execute_result"
    }
   ],
   "source": [
    "6//2"
   ]
  },
  {
   "cell_type": "markdown",
   "metadata": {
    "id": "yqpQgXBT3MFB"
   },
   "source": [
    "Double-click __here__ for the solution.\n",
    "\n",
    "<!-- Your answer is below:\n",
    "type(6/2) # float\n",
    "-->"
   ]
  },
  {
   "cell_type": "markdown",
   "metadata": {
    "id": "E9-Nue023MFB"
   },
   "source": [
    "<p>What is the type of the result of: <code>6 // 2</code>? (Note the double slash <code>//</code>.)</p>"
   ]
  },
  {
   "cell_type": "code",
   "execution_count": null,
   "metadata": {
    "colab": {
     "base_uri": "https://localhost:8080/"
    },
    "executionInfo": {
     "elapsed": 579,
     "status": "ok",
     "timestamp": 1624687309162,
     "user": {
      "displayName": "Dhyan Vyas",
      "photoUrl": "https://lh3.googleusercontent.com/a-/AOh14GicI0qQzMCkj4wkjzhp-RxInjb5nSa6cq08yNOU6w=s64",
      "userId": "04303281926800808768"
     },
     "user_tz": -330
    },
    "id": "2gdZuG6a3MFB",
    "outputId": "3b5b2b11-70c0-46ef-f946-950ae08caa44"
   },
   "outputs": [
    {
     "data": {
      "text/plain": [
       "int"
      ]
     },
     "execution_count": 38,
     "metadata": {
      "tags": []
     },
     "output_type": "execute_result"
    }
   ],
   "source": [
    "# Write your code below. Don't forget to press Shift+Enter to execute the cell\n",
    "\n",
    "type(6//2) #int, as the double slashes stand for integer division"
   ]
  },
  {
   "cell_type": "markdown",
   "metadata": {
    "id": "tIX9YrTS3MFB"
   },
   "source": [
    "Double-click __here__ for the solution.\n",
    "\n",
    "<!-- Your answer is below:\n",
    "type(6//2) # int, as the double slashes stand for integer division \n",
    "-->"
   ]
  },
  {
   "cell_type": "markdown",
   "metadata": {
    "id": "WKZMHHkP3MFB"
   },
   "source": [
    "<hr>"
   ]
  },
  {
   "cell_type": "markdown",
   "metadata": {
    "id": "LPuGbwYH3MFB"
   },
   "source": [
    "<h2 id=\"expressions\">Expression and Variables</h2>"
   ]
  },
  {
   "cell_type": "markdown",
   "metadata": {
    "id": "WmFPC_Xl3MFB"
   },
   "source": [
    "<h3 id=\"exp\">Expressions</h3>"
   ]
  },
  {
   "cell_type": "markdown",
   "metadata": {
    "id": "Y4-0eC223MFC"
   },
   "source": [
    "<p>Expressions in Python can include operations among compatible types (e.g., integers and floats). For example, basic arithmetic operations like adding multiple numbers:</p>"
   ]
  },
  {
   "cell_type": "code",
   "execution_count": null,
   "metadata": {
    "colab": {
     "base_uri": "https://localhost:8080/"
    },
    "executionInfo": {
     "elapsed": 508,
     "status": "ok",
     "timestamp": 1625386646735,
     "user": {
      "displayName": "Alok Yadav",
      "photoUrl": "https://lh3.googleusercontent.com/a-/AOh14GizZFMCB8-eVvEF7cC9zt8SGXsUNNmSz3Ka92VAXw=s64",
      "userId": "13695401162967392961"
     },
     "user_tz": -330
    },
    "id": "usAtlaao3MFC",
    "outputId": "8db6b2f3-d440-403d-c2c6-44eb4fdeeb87"
   },
   "outputs": [
    {
     "data": {
      "text/plain": [
       "160"
      ]
     },
     "execution_count": 22,
     "metadata": {
      "tags": []
     },
     "output_type": "execute_result"
    }
   ],
   "source": [
    "# Addition operation expression\n",
    "\n",
    "43 + 60 + 16 + 41"
   ]
  },
  {
   "cell_type": "markdown",
   "metadata": {
    "id": "_Rf2LkXN3MFC"
   },
   "source": [
    "<p>We can perform subtraction operations using the minus operator. In this case the result is a negative number:</p>"
   ]
  },
  {
   "cell_type": "code",
   "execution_count": null,
   "metadata": {
    "colab": {
     "base_uri": "https://localhost:8080/"
    },
    "executionInfo": {
     "elapsed": 10,
     "status": "ok",
     "timestamp": 1625386649671,
     "user": {
      "displayName": "Alok Yadav",
      "photoUrl": "https://lh3.googleusercontent.com/a-/AOh14GizZFMCB8-eVvEF7cC9zt8SGXsUNNmSz3Ka92VAXw=s64",
      "userId": "13695401162967392961"
     },
     "user_tz": -330
    },
    "id": "zurGQC4K3MFC",
    "outputId": "7f134833-8383-47d6-9272-21aeffeb567e"
   },
   "outputs": [
    {
     "data": {
      "text/plain": [
       "-10"
      ]
     },
     "execution_count": 23,
     "metadata": {
      "tags": []
     },
     "output_type": "execute_result"
    }
   ],
   "source": [
    "# Subtraction operation expression\n",
    "\n",
    "50 - 60"
   ]
  },
  {
   "cell_type": "markdown",
   "metadata": {
    "id": "_bhcGIv63MFC"
   },
   "source": [
    "<p>We can do multiplication using an asterisk:</p>"
   ]
  },
  {
   "cell_type": "code",
   "execution_count": null,
   "metadata": {
    "colab": {
     "base_uri": "https://localhost:8080/"
    },
    "executionInfo": {
     "elapsed": 978,
     "status": "ok",
     "timestamp": 1625386653193,
     "user": {
      "displayName": "Alok Yadav",
      "photoUrl": "https://lh3.googleusercontent.com/a-/AOh14GizZFMCB8-eVvEF7cC9zt8SGXsUNNmSz3Ka92VAXw=s64",
      "userId": "13695401162967392961"
     },
     "user_tz": -330
    },
    "id": "8ZeXcUTG3MFC",
    "outputId": "29eebe2c-0ccf-4407-b4cb-e61c3b5e1ba4"
   },
   "outputs": [
    {
     "data": {
      "text/plain": [
       "25"
      ]
     },
     "execution_count": 24,
     "metadata": {
      "tags": []
     },
     "output_type": "execute_result"
    }
   ],
   "source": [
    "# Multiplication operation expression\n",
    "\n",
    "5 * 5"
   ]
  },
  {
   "cell_type": "markdown",
   "metadata": {
    "id": "w9lAGMz13MFC"
   },
   "source": [
    "<p>We can also perform division with the forward slash:"
   ]
  },
  {
   "cell_type": "code",
   "execution_count": null,
   "metadata": {
    "colab": {
     "base_uri": "https://localhost:8080/"
    },
    "executionInfo": {
     "elapsed": 889,
     "status": "ok",
     "timestamp": 1625386654831,
     "user": {
      "displayName": "Alok Yadav",
      "photoUrl": "https://lh3.googleusercontent.com/a-/AOh14GizZFMCB8-eVvEF7cC9zt8SGXsUNNmSz3Ka92VAXw=s64",
      "userId": "13695401162967392961"
     },
     "user_tz": -330
    },
    "id": "XoS390vs3MFC",
    "outputId": "d3d156da-4bdd-4638-e11c-c2c3dce025ce"
   },
   "outputs": [
    {
     "data": {
      "text/plain": [
       "5.0"
      ]
     },
     "execution_count": 25,
     "metadata": {
      "tags": []
     },
     "output_type": "execute_result"
    }
   ],
   "source": [
    "# Division operation expression\n",
    "\n",
    "25 / 5"
   ]
  },
  {
   "cell_type": "code",
   "execution_count": null,
   "metadata": {
    "colab": {
     "base_uri": "https://localhost:8080/"
    },
    "executionInfo": {
     "elapsed": 9,
     "status": "ok",
     "timestamp": 1625386657250,
     "user": {
      "displayName": "Alok Yadav",
      "photoUrl": "https://lh3.googleusercontent.com/a-/AOh14GizZFMCB8-eVvEF7cC9zt8SGXsUNNmSz3Ka92VAXw=s64",
      "userId": "13695401162967392961"
     },
     "user_tz": -330
    },
    "id": "_HpLZuwD3MFE",
    "outputId": "75089229-6b0c-4166-dd13-a24700eee245"
   },
   "outputs": [
    {
     "data": {
      "text/plain": [
       "4.166666666666667"
      ]
     },
     "execution_count": 26,
     "metadata": {
      "tags": []
     },
     "output_type": "execute_result"
    }
   ],
   "source": [
    "# Division operation expression\n",
    "\n",
    "25 / 6"
   ]
  },
  {
   "cell_type": "markdown",
   "metadata": {
    "id": "lsYeoVco3MFE"
   },
   "source": [
    "<p>As seen in the quiz above, we can use the double slash for integer division, where the result is rounded to the nearest integer:"
   ]
  },
  {
   "cell_type": "code",
   "execution_count": null,
   "metadata": {
    "colab": {
     "base_uri": "https://localhost:8080/"
    },
    "executionInfo": {
     "elapsed": 36,
     "status": "ok",
     "timestamp": 1625386660270,
     "user": {
      "displayName": "Alok Yadav",
      "photoUrl": "https://lh3.googleusercontent.com/a-/AOh14GizZFMCB8-eVvEF7cC9zt8SGXsUNNmSz3Ka92VAXw=s64",
      "userId": "13695401162967392961"
     },
     "user_tz": -330
    },
    "id": "y98WlRzR3MFE",
    "outputId": "405861f7-9191-416a-ed87-c82e165f04ae"
   },
   "outputs": [
    {
     "data": {
      "text/plain": [
       "5"
      ]
     },
     "execution_count": 27,
     "metadata": {
      "tags": []
     },
     "output_type": "execute_result"
    }
   ],
   "source": [
    "# Integer division operation expression\n",
    "\n",
    "25 // 5"
   ]
  },
  {
   "cell_type": "code",
   "execution_count": null,
   "metadata": {
    "colab": {
     "base_uri": "https://localhost:8080/"
    },
    "executionInfo": {
     "elapsed": 30,
     "status": "ok",
     "timestamp": 1625386662513,
     "user": {
      "displayName": "Alok Yadav",
      "photoUrl": "https://lh3.googleusercontent.com/a-/AOh14GizZFMCB8-eVvEF7cC9zt8SGXsUNNmSz3Ka92VAXw=s64",
      "userId": "13695401162967392961"
     },
     "user_tz": -330
    },
    "id": "upfKkNgq3MFE",
    "outputId": "47b45810-b3dd-4ede-86ba-a007f79cd183"
   },
   "outputs": [
    {
     "data": {
      "text/plain": [
       "4"
      ]
     },
     "execution_count": 28,
     "metadata": {
      "tags": []
     },
     "output_type": "execute_result"
    }
   ],
   "source": [
    "# Integer division operation expression\n",
    "\n",
    "25 // 6"
   ]
  },
  {
   "cell_type": "markdown",
   "metadata": {
    "id": "q6xp6poV3MFE"
   },
   "source": [
    "<h3 id=\"exer_exp\">Exercise: Expression</h3>"
   ]
  },
  {
   "cell_type": "markdown",
   "metadata": {
    "id": "ntJX_VBo3MFE"
   },
   "source": [
    "<p>Let's write an expression that calculates how many hours there are in 160 minutes:"
   ]
  },
  {
   "cell_type": "code",
   "execution_count": null,
   "metadata": {
    "id": "pHJ82F2v3MFE",
    "outputId": "a83c95bf-3cd8-418a-e703-55e10e7dc4a3"
   },
   "outputs": [
    {
     "data": {
      "text/plain": [
       "2"
      ]
     },
     "execution_count": 60,
     "metadata": {
      "tags": []
     },
     "output_type": "execute_result"
    }
   ],
   "source": [
    "# Write your code below. Don't forget to press Shift+Enter to execute the cell\n",
    "\n",
    "160//60"
   ]
  },
  {
   "cell_type": "markdown",
   "metadata": {
    "id": "U5Qx_5pF3MFF"
   },
   "source": [
    "Double-click __here__ for the solution.\n",
    "\n",
    "<!-- Your answer is below:\n",
    "160/60 \n",
    "# Or \n",
    "160//60\n",
    "-->"
   ]
  },
  {
   "cell_type": "markdown",
   "metadata": {
    "id": "rycgwt__3MFF"
   },
   "source": [
    "<p>Python follows well accepted mathematical conventions when evaluating mathematical expressions. In the following example, Python adds 30 to the result of the multiplication (i.e., 120)."
   ]
  },
  {
   "cell_type": "code",
   "execution_count": null,
   "metadata": {
    "id": "utOfYUTT3MFF",
    "outputId": "31023752-d430-43b4-a6a5-6a7245032a7a"
   },
   "outputs": [
    {
     "data": {
      "text/plain": [
       "150"
      ]
     },
     "execution_count": 61,
     "metadata": {
      "tags": []
     },
     "output_type": "execute_result"
    }
   ],
   "source": [
    "# Mathematical expression\n",
    "\n",
    "30 + 2 * 60"
   ]
  },
  {
   "cell_type": "markdown",
   "metadata": {
    "id": "wxqb-Wt83MFF"
   },
   "source": [
    "<p>And just like mathematics, expressions enclosed in parentheses have priority. So the following multiplies 32 by 60."
   ]
  },
  {
   "cell_type": "code",
   "execution_count": null,
   "metadata": {
    "id": "himdSrh23MFF",
    "outputId": "d3f093fe-6277-4632-b9cf-9db3feee6d9b"
   },
   "outputs": [
    {
     "data": {
      "text/plain": [
       "1920"
      ]
     },
     "execution_count": 62,
     "metadata": {
      "tags": []
     },
     "output_type": "execute_result"
    }
   ],
   "source": [
    "# Mathematical expression\n",
    "\n",
    "(30 + 2) * 60"
   ]
  },
  {
   "cell_type": "markdown",
   "metadata": {
    "id": "k0Q4ibqB3MFF"
   },
   "source": [
    "<h3 id=\"var\">Variables</h3>"
   ]
  },
  {
   "cell_type": "markdown",
   "metadata": {
    "id": "gADYjmZw3MFF"
   },
   "source": [
    "<p>Just like with most programming languages, we can store values in <i>variables</i>, so we can use them later on. For example:</p>"
   ]
  },
  {
   "cell_type": "code",
   "execution_count": null,
   "metadata": {
    "id": "Grhjmjs33MFF",
    "outputId": "0bcfa440-29cb-47ab-cc2f-af9965ba4cff"
   },
   "outputs": [
    {
     "name": "stdout",
     "output_type": "stream",
     "text": [
      "160\n"
     ]
    }
   ],
   "source": [
    "# Store value into variable\n",
    "\n",
    "x = 43 + 60 + 16 + 41\n",
    "print(x)"
   ]
  },
  {
   "cell_type": "markdown",
   "metadata": {
    "id": "YsVbj2s83MFG"
   },
   "source": [
    "<p>To see the value of <code>x</code> in a Notebook, we can simply place it on the last line of a cell:</p>"
   ]
  },
  {
   "cell_type": "code",
   "execution_count": null,
   "metadata": {
    "id": "Vi8IBsl-3MFG",
    "outputId": "f2d82712-9541-4229-f86e-e97a7966dfe1"
   },
   "outputs": [
    {
     "data": {
      "text/plain": [
       "160"
      ]
     },
     "execution_count": 64,
     "metadata": {
      "tags": []
     },
     "output_type": "execute_result"
    }
   ],
   "source": [
    "# Print out the value in variable\n",
    "\n",
    "x"
   ]
  },
  {
   "cell_type": "markdown",
   "metadata": {
    "id": "Wqp3BiqD3MFG"
   },
   "source": [
    "<p>We can also perform operations on <code>x</code> and save the result to a new variable:</p>"
   ]
  },
  {
   "cell_type": "code",
   "execution_count": null,
   "metadata": {
    "id": "LNRQFQOF3MFG",
    "outputId": "e869df19-7ac7-4600-a002-fb3160d5d57f"
   },
   "outputs": [
    {
     "data": {
      "text/plain": [
       "2.6666666666666665"
      ]
     },
     "execution_count": 65,
     "metadata": {
      "tags": []
     },
     "output_type": "execute_result"
    }
   ],
   "source": [
    "# Use another variable to store the result of the operation between variable and value\n",
    "\n",
    "y = x / 60\n",
    "y"
   ]
  },
  {
   "cell_type": "markdown",
   "metadata": {
    "id": "SnhEBZjB3MFG"
   },
   "source": [
    "<p>If we save a value to an existing variable, the new value will overwrite the previous value:</p>"
   ]
  },
  {
   "cell_type": "code",
   "execution_count": null,
   "metadata": {
    "id": "lqgoS2TU3MFG",
    "outputId": "986d0683-0420-406e-85f0-a3289ac5bb95"
   },
   "outputs": [
    {
     "data": {
      "text/plain": [
       "2.6666666666666665"
      ]
     },
     "execution_count": 66,
     "metadata": {
      "tags": []
     },
     "output_type": "execute_result"
    }
   ],
   "source": [
    "# Overwrite variable with new value\n",
    "\n",
    "x = x / 60\n",
    "x"
   ]
  },
  {
   "cell_type": "markdown",
   "metadata": {
    "id": "HHhFLdjq3MFG"
   },
   "source": [
    "<p>It's a good practice to use meaningful variable names, so you and others can read the code and understand it more easily:</p>"
   ]
  },
  {
   "cell_type": "code",
   "execution_count": null,
   "metadata": {
    "id": "0ckYbyQy3MFG",
    "outputId": "75d37725-40d0-48e3-cf79-3d5f300c910a"
   },
   "outputs": [
    {
     "data": {
      "text/plain": [
       "142"
      ]
     },
     "execution_count": 67,
     "metadata": {
      "tags": []
     },
     "output_type": "execute_result"
    }
   ],
   "source": [
    "# Name the variables meaningfully\n",
    "\n",
    "total_min = 43 + 42 + 57 # Total length of albums in minutes\n",
    "total_min"
   ]
  },
  {
   "cell_type": "code",
   "execution_count": null,
   "metadata": {
    "id": "jUsWAozS3MFG",
    "outputId": "296c0a49-0c49-476a-c05e-eddac3cd3378"
   },
   "outputs": [
    {
     "data": {
      "text/plain": [
       "2.3666666666666667"
      ]
     },
     "execution_count": 68,
     "metadata": {
      "tags": []
     },
     "output_type": "execute_result"
    }
   ],
   "source": [
    "# Name the variables meaningfully\n",
    "\n",
    "total_hours = total_min / 60 # Total length of albums in hours \n",
    "total_hours"
   ]
  },
  {
   "cell_type": "markdown",
   "metadata": {
    "id": "jTTUdKEL3MFH"
   },
   "source": [
    "<p>In the cells above we added the length of three albums in minutes and stored it in <code>total_min</code>. We then divided it by 60 to calculate total length <code>total_hours</code> in hours. You can also do it all at once in a single expression, as long as you use parenthesis to add the albums length before you divide, as shown below.</p>"
   ]
  },
  {
   "cell_type": "code",
   "execution_count": null,
   "metadata": {
    "id": "CN3KYrw43MFH",
    "outputId": "6b336ab5-4004-40b1-9c83-3d218b465402"
   },
   "outputs": [
    {
     "data": {
      "text/plain": [
       "2.3666666666666667"
      ]
     },
     "execution_count": 69,
     "metadata": {
      "tags": []
     },
     "output_type": "execute_result"
    }
   ],
   "source": [
    "# Complicate expression\n",
    "\n",
    "total_hours = (43 + 42 + 57) / 60  # Total hours in a single expression\n",
    "total_hours"
   ]
  },
  {
   "cell_type": "markdown",
   "metadata": {
    "id": "1X0LOLvN3MFH"
   },
   "source": [
    "<p>If you'd rather have total hours as an integer, you can of course replace the floating point division with integer division (i.e., <code>//</code>).</p>"
   ]
  },
  {
   "cell_type": "markdown",
   "metadata": {
    "id": "PG-_YsFP3MFH"
   },
   "source": [
    "<h3 id=\"exer_exp_var\">Exercise: Expression and Variables in Python</h3>"
   ]
  },
  {
   "cell_type": "markdown",
   "metadata": {
    "id": "Dl4RKl1V3MFH"
   },
   "source": [
    "<p>What is the value of <code>x</code> where <code>x = 3 + 2 * 2</code></p>"
   ]
  },
  {
   "cell_type": "code",
   "execution_count": null,
   "metadata": {
    "id": "ugzcBChD3MFH",
    "outputId": "16e8445c-71ae-4101-afe6-92ac1f1feb7a"
   },
   "outputs": [
    {
     "data": {
      "text/plain": [
       "7"
      ]
     },
     "execution_count": 70,
     "metadata": {
      "tags": []
     },
     "output_type": "execute_result"
    }
   ],
   "source": [
    "# Write your code below. Don't forget to press Shift+Enter to execute the cell\n",
    "\n",
    "x = 3 + 2 * 2\n",
    "x"
   ]
  },
  {
   "cell_type": "markdown",
   "metadata": {
    "id": "W1kfewv63MFH"
   },
   "source": [
    "Double-click __here__ for the solution.\n",
    "\n",
    "<!-- Your answer is below:\n",
    "7\n",
    "-->\n"
   ]
  },
  {
   "cell_type": "markdown",
   "metadata": {
    "id": "LtcsmQuG3MFH"
   },
   "source": [
    "<p>What is the value of <code>y</code> where <code>y = (3 + 2) * 2</code>?</p>"
   ]
  },
  {
   "cell_type": "code",
   "execution_count": null,
   "metadata": {
    "id": "MmgRzZg23MFH",
    "outputId": "cde5a507-53ce-4156-c6a7-833e732fa3ad"
   },
   "outputs": [
    {
     "data": {
      "text/plain": [
       "10"
      ]
     },
     "execution_count": 71,
     "metadata": {
      "tags": []
     },
     "output_type": "execute_result"
    }
   ],
   "source": [
    "# Write your code below. Don't forget to press Shift+Enter to execute the cell\n",
    "\n",
    "y = (3+2) * 2\n",
    "y"
   ]
  },
  {
   "cell_type": "markdown",
   "metadata": {
    "id": "Cf-ghxd53MFI"
   },
   "source": [
    "Double-click __here__ for the solution.\n",
    "\n",
    "<!-- Your answer is below:\n",
    "10\n",
    "-->"
   ]
  },
  {
   "cell_type": "markdown",
   "metadata": {
    "id": "2EWojaA_3MFI"
   },
   "source": [
    "<p>What is the value of <code>z</code> where <code>z = x + y</code>?</p>"
   ]
  },
  {
   "cell_type": "code",
   "execution_count": null,
   "metadata": {
    "id": "46VzpShn3MFI",
    "outputId": "8afecbd1-79c8-405e-9205-06a93e888687"
   },
   "outputs": [
    {
     "data": {
      "text/plain": [
       "17"
      ]
     },
     "execution_count": 72,
     "metadata": {
      "tags": []
     },
     "output_type": "execute_result"
    }
   ],
   "source": [
    "# Write your code below. Don't forget to press Shift+Enter to execute the cell\n",
    "\n",
    "z = x + y\n",
    "z"
   ]
  },
  {
   "cell_type": "markdown",
   "metadata": {
    "id": "YwQWS-Y_3MFI"
   },
   "source": [
    "Double-click __here__ for the solution.\n",
    "\n",
    "<!-- Your answer is below:\n",
    "17\n",
    "-->"
   ]
  },
  {
   "cell_type": "markdown",
   "metadata": {
    "id": "25PQ_2RG3MFI"
   },
   "source": [
    "<hr>\n",
    "<h2>The last exercise!</h2>\n",
    "<p>Congratulations, you have completed your first lesson and hands-on lab in Python. However, there is one more thing you need to do. The Data Science community encourages sharing work. The best way to share and showcase your work is to share it on GitHub. By sharing your notebook on GitHub you are not only building your reputation with fellow data scientists, but you can also show it off when applying for a job. Even though this was your first piece of work, it is never too early to start building good habits. So, please read and follow <a href=\"https://cognitiveclass.ai/blog/data-scientists-stand-out-by-sharing-your-notebooks/\" target=\"_blank\">this article</a> to learn how to share your work.\n",
    "<hr>"
   ]
  },
  {
   "cell_type": "markdown",
   "metadata": {
    "id": "zAE1gDo_3MFI"
   },
   "source": [
    "<div class=\"alert alert-block alert-info\" style=\"margin-top: 20px\">\n",
    "<h2>Get IBM Watson Studio free of charge!</h2>\n",
    "    <p><a href=\"https://cocl.us/bottemNotebooksPython101Coursera\"><img src=\"https://s3-api.us-geo.objectstorage.softlayer.net/cf-courses-data/CognitiveClass/PY0101EN/Ad/BottomAd.png\" width=\"750\" align=\"center\"></a></p>\n",
    "</div>"
   ]
  },
  {
   "cell_type": "markdown",
   "metadata": {
    "id": "kChLT4Y03MFI"
   },
   "source": [
    "<h3>About the Authors:</h3>  \n",
    "<p><a href=\"https://www.linkedin.com/in/joseph-s-50398b136/\" target=\"_blank\">Joseph Santarcangelo</a> is a Data Scientist at IBM, and holds a PhD in Electrical Engineering. His research focused on using Machine Learning, Signal Processing, and Computer Vision to determine how videos impact human cognition. Joseph has been working for IBM since he completed his PhD.</p>"
   ]
  },
  {
   "cell_type": "markdown",
   "metadata": {
    "id": "UTEAUFz_3MFI"
   },
   "source": [
    "Other contributors: <a href=\"www.linkedin.com/in/jiahui-mavis-zhou-a4537814a\">Mavis Zhou</a>"
   ]
  },
  {
   "cell_type": "markdown",
   "metadata": {
    "id": "5eR9rWXJ3MFI"
   },
   "source": [
    "<hr>\n",
    "<p>Copyright &copy; 2018 IBM Developer Skills Network. This notebook and its source code are released under the terms of the <a href=\"https://cognitiveclass.ai/mit-license/\">MIT License</a>.</p>"
   ]
  }
 ],
 "metadata": {
  "colab": {
   "collapsed_sections": [],
   "name": "PY0101EN-1-1-Types.ipynb",
   "provenance": []
  },
  "kernelspec": {
   "display_name": "Python 3",
   "language": "python",
   "name": "python3"
  },
  "language_info": {
   "codemirror_mode": {
    "name": "ipython",
    "version": 3
   },
   "file_extension": ".py",
   "mimetype": "text/x-python",
   "name": "python",
   "nbconvert_exporter": "python",
   "pygments_lexer": "ipython3",
   "version": "3.8.8"
  }
 },
 "nbformat": 4,
 "nbformat_minor": 1
}
