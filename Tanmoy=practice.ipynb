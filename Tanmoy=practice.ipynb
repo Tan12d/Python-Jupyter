{
 "cells": [
  {
   "cell_type": "code",
   "execution_count": 1,
   "id": "5a4de037",
   "metadata": {},
   "outputs": [
    {
     "data": {
      "text/plain": [
       "'python'"
      ]
     },
     "execution_count": 1,
     "metadata": {},
     "output_type": "execute_result"
    }
   ],
   "source": [
    "x = 'I am learning python'\n",
    "x.upper()\n",
    "x.find('python')\n",
    "x.count('python')\n",
    "z = x.split(' ')\n",
    "'/'.join(z)\n",
    "x[-6:]"
   ]
  },
  {
   "cell_type": "code",
   "execution_count": 2,
   "id": "75418426",
   "metadata": {},
   "outputs": [
    {
     "data": {
      "text/plain": [
       "'I AM LEARNING PYTHON'"
      ]
     },
     "execution_count": 2,
     "metadata": {},
     "output_type": "execute_result"
    }
   ],
   "source": [
    "x = 'I am learning python'\n",
    "x.upper()"
   ]
  },
  {
   "cell_type": "code",
   "execution_count": 3,
   "id": "17adf2b8",
   "metadata": {},
   "outputs": [
    {
     "data": {
      "text/plain": [
       "14"
      ]
     },
     "execution_count": 3,
     "metadata": {},
     "output_type": "execute_result"
    }
   ],
   "source": [
    "x.find('python')"
   ]
  },
  {
   "cell_type": "code",
   "execution_count": 4,
   "id": "4cc29a17",
   "metadata": {},
   "outputs": [
    {
     "data": {
      "text/plain": [
       "1"
      ]
     },
     "execution_count": 4,
     "metadata": {},
     "output_type": "execute_result"
    }
   ],
   "source": [
    "x.count('python')"
   ]
  },
  {
   "cell_type": "code",
   "execution_count": 5,
   "id": "398f1c31",
   "metadata": {},
   "outputs": [
    {
     "data": {
      "text/plain": [
       "['I', 'am', 'learning', 'python']"
      ]
     },
     "execution_count": 5,
     "metadata": {},
     "output_type": "execute_result"
    }
   ],
   "source": [
    "z = x.split(' ')\n",
    "z"
   ]
  },
  {
   "cell_type": "code",
   "execution_count": 6,
   "id": "525e8117",
   "metadata": {},
   "outputs": [
    {
     "data": {
      "text/plain": [
       "'I/am/learning/python'"
      ]
     },
     "execution_count": 6,
     "metadata": {},
     "output_type": "execute_result"
    }
   ],
   "source": [
    "'/'.join(z)"
   ]
  },
  {
   "cell_type": "code",
   "execution_count": 7,
   "id": "a33f6982",
   "metadata": {},
   "outputs": [
    {
     "data": {
      "text/plain": [
       "'python'"
      ]
     },
     "execution_count": 7,
     "metadata": {},
     "output_type": "execute_result"
    }
   ],
   "source": [
    "x[-6:]"
   ]
  },
  {
   "cell_type": "code",
   "execution_count": 8,
   "id": "112068f6",
   "metadata": {},
   "outputs": [
    {
     "data": {
      "text/plain": [
       "' python'"
      ]
     },
     "execution_count": 8,
     "metadata": {},
     "output_type": "execute_result"
    }
   ],
   "source": [
    "x[-7:]"
   ]
  },
  {
   "cell_type": "code",
   "execution_count": 9,
   "id": "0497e6fb",
   "metadata": {},
   "outputs": [
    {
     "data": {
      "text/plain": [
       "'g python'"
      ]
     },
     "execution_count": 9,
     "metadata": {},
     "output_type": "execute_result"
    }
   ],
   "source": [
    "x[-8:]"
   ]
  },
  {
   "cell_type": "code",
   "execution_count": 10,
   "id": "c09b4e77",
   "metadata": {},
   "outputs": [
    {
     "data": {
      "text/plain": [
       "'I Am Learning Python'"
      ]
     },
     "execution_count": 10,
     "metadata": {},
     "output_type": "execute_result"
    }
   ],
   "source": [
    "x.title()"
   ]
  },
  {
   "cell_type": "code",
   "execution_count": 11,
   "id": "c64cdab8",
   "metadata": {},
   "outputs": [
    {
     "data": {
      "text/plain": [
       "2"
      ]
     },
     "execution_count": 11,
     "metadata": {},
     "output_type": "execute_result"
    }
   ],
   "source": [
    "5//2"
   ]
  },
  {
   "cell_type": "code",
   "execution_count": 12,
   "id": "70c0e7e0",
   "metadata": {},
   "outputs": [
    {
     "name": "stdout",
     "output_type": "stream",
     "text": [
      "15\n"
     ]
    }
   ],
   "source": [
    "print(10+5)"
   ]
  },
  {
   "cell_type": "code",
   "execution_count": 13,
   "id": "4e59d627",
   "metadata": {},
   "outputs": [
    {
     "name": "stdout",
     "output_type": "stream",
     "text": [
      "0.8\n"
     ]
    }
   ],
   "source": [
    "print(20/25)"
   ]
  },
  {
   "cell_type": "code",
   "execution_count": 14,
   "id": "db5376e5",
   "metadata": {},
   "outputs": [
    {
     "data": {
      "text/plain": [
       "'I'"
      ]
     },
     "execution_count": 14,
     "metadata": {},
     "output_type": "execute_result"
    }
   ],
   "source": [
    "x[:1]"
   ]
  },
  {
   "cell_type": "code",
   "execution_count": 15,
   "id": "741cb76c",
   "metadata": {},
   "outputs": [
    {
     "data": {
      "text/plain": [
       "'I '"
      ]
     },
     "execution_count": 15,
     "metadata": {},
     "output_type": "execute_result"
    }
   ],
   "source": [
    "x[0:2]"
   ]
  },
  {
   "cell_type": "code",
   "execution_count": 16,
   "id": "3cf11d83",
   "metadata": {},
   "outputs": [
    {
     "data": {
      "text/plain": [
       "''"
      ]
     },
     "execution_count": 16,
     "metadata": {},
     "output_type": "execute_result"
    }
   ],
   "source": [
    "x[2:0]"
   ]
  },
  {
   "cell_type": "code",
   "execution_count": null,
   "id": "7b021190",
   "metadata": {},
   "outputs": [],
   "source": []
  }
 ],
 "metadata": {
  "kernelspec": {
   "display_name": "Python 3",
   "language": "python",
   "name": "python3"
  },
  "language_info": {
   "codemirror_mode": {
    "name": "ipython",
    "version": 3
   },
   "file_extension": ".py",
   "mimetype": "text/x-python",
   "name": "python",
   "nbconvert_exporter": "python",
   "pygments_lexer": "ipython3",
   "version": "3.8.8"
  }
 },
 "nbformat": 4,
 "nbformat_minor": 5
}
