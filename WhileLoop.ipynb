{
 "cells": [
  {
   "cell_type": "markdown",
   "id": "41dfdd48",
   "metadata": {},
   "source": [
    "# While"
   ]
  },
  {
   "cell_type": "code",
   "execution_count": 5,
   "id": "099a6c56",
   "metadata": {},
   "outputs": [
    {
     "name": "stdout",
     "output_type": "stream",
     "text": [
      "10\n",
      "1\n",
      "2\n",
      "3\n",
      "4\n",
      "5\n",
      "6\n",
      "7\n",
      "8\n",
      "9\n",
      "10\n"
     ]
    }
   ],
   "source": [
    "n=int(input())\n",
    "i=1\n",
    "\n",
    "while i<=n:\n",
    "    print(i)\n",
    "    i=i+1"
   ]
  },
  {
   "cell_type": "code",
   "execution_count": 7,
   "id": "ae365845",
   "metadata": {},
   "outputs": [
    {
     "name": "stdout",
     "output_type": "stream",
     "text": [
      "10\n",
      "55\n"
     ]
    }
   ],
   "source": [
    "n=int(input())\n",
    "i=1\n",
    "sum=0\n",
    "\n",
    "if n<=100 and n>=1:\n",
    "    while i<=n:\n",
    "        sum+=i\n",
    "        i+=1\n",
    "        \n",
    "print(sum)"
   ]
  },
  {
   "cell_type": "code",
   "execution_count": 8,
   "id": "92f98bf8",
   "metadata": {},
   "outputs": [
    {
     "name": "stdout",
     "output_type": "stream",
     "text": [
      "6\n",
      "12\n"
     ]
    }
   ],
   "source": [
    "n=int(input())\n",
    "i=1\n",
    "sum=0\n",
    "\n",
    "while i<=n:\n",
    "    if i%2==0:\n",
    "        sum+=i\n",
    "    i+=1\n",
    "\n",
    "print(sum)"
   ]
  },
  {
   "cell_type": "code",
   "execution_count": 13,
   "id": "758145a0",
   "metadata": {},
   "outputs": [
    {
     "name": "stdout",
     "output_type": "stream",
     "text": [
      "43\n",
      "prime\n"
     ]
    }
   ],
   "source": [
    "#Prime or not\n",
    "n=int(input())\n",
    "d=2\n",
    "flag=1\n",
    "\n",
    "while d<n:\n",
    "    if n%d==0:\n",
    "        flag=0\n",
    "        break;\n",
    "    d+=1\n",
    "    \n",
    "if (flag==1):\n",
    "    print(\"prime\")\n",
    "else:\n",
    "    print(\"not prime\")"
   ]
  },
  {
   "cell_type": "code",
   "execution_count": 15,
   "id": "d0575e15",
   "metadata": {},
   "outputs": [
    {
     "name": "stdout",
     "output_type": "stream",
     "text": [
      "47\n",
      "prime\n"
     ]
    }
   ],
   "source": [
    "n=int(input())\n",
    "d=2\n",
    "flag=True\n",
    "\n",
    "while d<n:\n",
    "    if n%d==0:\n",
    "        flag=False\n",
    "        break;\n",
    "    d+=1\n",
    "    \n",
    "if flag:\n",
    "    print(\"prime\")\n",
    "else:\n",
    "    print(\"not prime\")"
   ]
  },
  {
   "cell_type": "markdown",
   "id": "d020b497",
   "metadata": {},
   "source": [
    "# Nested Loop"
   ]
  },
  {
   "cell_type": "code",
   "execution_count": 17,
   "id": "50fc18ae",
   "metadata": {},
   "outputs": [
    {
     "name": "stdout",
     "output_type": "stream",
     "text": [
      "20\n",
      "2\n",
      "3\n",
      "5\n",
      "7\n",
      "11\n",
      "13\n",
      "17\n",
      "19\n"
     ]
    }
   ],
   "source": [
    "n=int(input())\n",
    "k=2\n",
    "\n",
    "while k<=n:\n",
    "    d=2\n",
    "    flag=False\n",
    "    while d<k:\n",
    "        if k%d==0:\n",
    "            flag=True\n",
    "        d+=1\n",
    "    if not(flag):\n",
    "        print(k)\n",
    "    k+=1\n",
    "    "
   ]
  },
  {
   "cell_type": "code",
   "execution_count": null,
   "id": "480ff904",
   "metadata": {},
   "outputs": [],
   "source": [
    "#Fahrenheit to Celsius\n",
    "# Given three values - Start Fahrenheit Value (S), End Fahrenheit value (E) and Step Size (W), you need to convert all Fahrenheit values from Start to End at the gap of W, into their corresponding Celsius values and print the table.\n",
    "# Input Format :\n",
    "# 3 integers - S, E and W respectively \n",
    "# Output Format :\n",
    "# Fahrenheit to Celsius conversion table. One line for every Fahrenheit and corresponding Celsius value. The Fahrenheit value and its corresponding Celsius value should be separate by single space.\n",
    "# Constraints :\n",
    "# 0 <= S <= 90\n",
    "# S <= E <=  900\n",
    "# 0 <= W <= 80 \n",
    "# Sample Input 1:\n",
    "# 0 \n",
    "# 100 \n",
    "# 20\n",
    "# Sample Output 1:\n",
    "# 0   -17\n",
    "# 20  -6\n",
    "# 40  4\n",
    "# 60  15\n",
    "# 80  26\n",
    "# 100 37\n",
    "\n",
    "S=int(input())\n",
    "E=int(input())\n",
    "W=int(input())\n",
    "sp=\" \"\n",
    "C=0\n",
    "\n",
    "if S>=0 and S<=90:\n",
    "    if E>=S and E<=900:\n",
    "        if W>=0 and W<=80:\n",
    "            while S<=E:\n",
    "                C=int((S-32)*5/9)\n",
    "                print(S,\" \",C)\n",
    "                S+=W"
   ]
  },
  {
   "cell_type": "code",
   "execution_count": null,
   "id": "313688bd",
   "metadata": {},
   "outputs": [],
   "source": [
    "#Calculator\n",
    "# Write a program that performs the tasks of a simple calculator. The program should first take an integer as input and then based on that integer perform the task as given below.\n",
    "# 1. If the input is 1, then 2 integers are taken from the user and their sum is printed.\n",
    "# 2. If the input is 2, then 2 integers are taken from the user and their difference(1st number - 2nd number) is printed.\n",
    "# 3. If the input is 3, then 2 integers are taken from the user and their product is printed.\n",
    "# 4. If the input is 4, then 2 integers are taken from the user and the quotient obtained (on dividing 1st number by 2nd number) is printed.\n",
    "# 5. If the input is 5, then 2 integers are taken from the user and their remainder(1st number mod 2nd number) is printed.\n",
    "# 6. If the input is 6, then the program exits.\n",
    "# 7. For any other input, then print \"Invalid Operation\".\n",
    "# Note: Each answer in next line.\n",
    "# Input format:\n",
    "# Take integers as input, in accordance to the description of the question. \n",
    "# Constraints:\n",
    "# Time Limit: 1 second\n",
    "# Output format:\n",
    "# The output lines must be as prescribed in the description of the question.\n",
    "# Sample Input:\n",
    "# 3\n",
    "# 1\n",
    "# 2\n",
    "# 4\n",
    "# 4\n",
    "# 2\n",
    "# 1\n",
    "# 3\n",
    "# 2\n",
    "# 7\n",
    "# 6\n",
    "# Sample Output:\n",
    "# 2\n",
    "# 2\n",
    "# 5\n",
    "# Invalid Operation\n",
    "\n",
    "i=int(input())\n",
    "\n",
    "while True:\n",
    "    if i>=1 and i<=5:\n",
    "        a=int(input())\n",
    "        b=int(input())        \n",
    "        \n",
    "        if i==1:\n",
    "            print(a+b)        \n",
    "        elif i==2:\n",
    "            print(a-b)            \n",
    "        elif i==3:\n",
    "            print(a*b)            \n",
    "        elif i==4:\n",
    "            print(a/b)            \n",
    "        elif i==5:\n",
    "            print(a%b)            \n",
    "    elif i==6:\n",
    "        exit() \n",
    "    else:\n",
    "        print(\"Invalid Operation\")        \n",
    "    i=int(input())"
   ]
  },
  {
   "cell_type": "code",
   "execution_count": null,
   "id": "d03b2b9a",
   "metadata": {},
   "outputs": [],
   "source": [
    "n=int(input())\n",
    "print(n)\n",
    "i=n\n",
    "while n>0:\n",
    "    i=n%10\n",
    "    if i!=0:\n",
    "        while n>0:\n",
    "            i=n%10\n",
    "            print(i, end =\"\")\n",
    "            n//=10\n",
    "        break\n",
    "    n//=10"
   ]
  },
  {
   "cell_type": "code",
   "execution_count": null,
   "id": "ef9f27ea",
   "metadata": {},
   "outputs": [],
   "source": [
    "n=int(input())\n",
    "print(n)\n",
    "i=n\n",
    "while n>0:\n",
    "    i=n%10\n",
    "    if i!=0:\n",
    "        while n>0:\n",
    "            i=n%10\n",
    "            print(i, end =\"\")\n",
    "            n//=10\n",
    "        break\n",
    "    n//=10"
   ]
  },
  {
   "cell_type": "code",
   "execution_count": null,
   "id": "2268c208",
   "metadata": {},
   "outputs": [],
   "source": [
    "n=int(input())\n",
    "i=0\n",
    "r=0\n",
    "\n",
    "while n>0:\n",
    "    i=n%10\n",
    "    n/=10\n",
    "    r=r*10+i\n",
    "    \n",
    "print(r)"
   ]
  },
  {
   "cell_type": "code",
   "execution_count": null,
   "id": "c1a9f4c8",
   "metadata": {},
   "outputs": [],
   "source": []
  }
 ],
 "metadata": {
  "kernelspec": {
   "display_name": "Python 3",
   "language": "python",
   "name": "python3"
  },
  "language_info": {
   "codemirror_mode": {
    "name": "ipython",
    "version": 3
   },
   "file_extension": ".py",
   "mimetype": "text/x-python",
   "name": "python",
   "nbconvert_exporter": "python",
   "pygments_lexer": "ipython3",
   "version": "3.8.8"
  }
 },
 "nbformat": 4,
 "nbformat_minor": 5
}
