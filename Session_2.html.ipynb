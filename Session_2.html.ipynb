{
 "cells": [
  {
   "cell_type": "markdown",
   "metadata": {
    "id": "7o80jx6-cOnz"
   },
   "source": [
    "#### Arrays in python"
   ]
  },
  {
   "cell_type": "markdown",
   "metadata": {},
   "source": []
  },
  {
   "cell_type": "markdown",
   "metadata": {
    "id": "kI9fdbVDcOnx"
   },
   "source": [
    "### Data Structures in python\n",
    "Data structures stores a set of values."
   ]
  },
  {
   "cell_type": "markdown",
   "metadata": {
    "id": "knXrFAWJcOn0"
   },
   "source": [
    "Array consists of set of elements of the same type. Array is mutable that means we can change the elements inside the array or add or remove elements. Each item stored in an array is called an element and each location of an element in an array has a numerical index, which is used to identify the element. Index in array start from 0. In order to create array we use python array module. Arrays are generally defined in []."
   ]
  },
  {
   "cell_type": "code",
   "execution_count": null,
   "metadata": {
    "colab": {
     "base_uri": "https://localhost:8080/"
    },
    "executionInfo": {
     "elapsed": 346,
     "status": "ok",
     "timestamp": 1632323424414,
     "user": {
      "displayName": "Alok Yadav",
      "photoUrl": "https://lh3.googleusercontent.com/a-/AOh14GizZFMCB8-eVvEF7cC9zt8SGXsUNNmSz3Ka92VAXw=s64",
      "userId": "13695401162967392961"
     },
     "user_tz": -330
    },
    "id": "9nGBux4WcOn2",
    "outputId": "ca011bb9-0f7a-4d84-aa79-40cbca7dfbf1"
   },
   "outputs": [
    {
     "data": {
      "text/plain": [
       "array('b', [10, 20, 30, 40, 127, 60])"
      ]
     },
     "execution_count": 6,
     "metadata": {},
     "output_type": "execute_result"
    }
   ],
   "source": [
    "import array\n",
    "from array import *\n",
    "\n",
    "#to create an array we use :\n",
    "#array_name = array('typecode','initialisation') for eg:\n",
    "arr_ = array('b',[10,20,30,40,127,60])\n",
    "# the type code specifies the type of the array that we have created, 'b' represents integer type of the array.\n",
    "(arr_)"
   ]
  },
  {
   "cell_type": "code",
   "execution_count": null,
   "metadata": {
    "colab": {
     "base_uri": "https://localhost:8080/"
    },
    "executionInfo": {
     "elapsed": 378,
     "status": "ok",
     "timestamp": 1632323437176,
     "user": {
      "displayName": "Alok Yadav",
      "photoUrl": "https://lh3.googleusercontent.com/a-/AOh14GizZFMCB8-eVvEF7cC9zt8SGXsUNNmSz3Ka92VAXw=s64",
      "userId": "13695401162967392961"
     },
     "user_tz": -330
    },
    "id": "yH8sZq3ydVSK",
    "outputId": "b203ab53-ab94-4268-a173-27607790e43d"
   },
   "outputs": [
    {
     "data": {
      "text/plain": [
       "array.array"
      ]
     },
     "execution_count": 7,
     "metadata": {},
     "output_type": "execute_result"
    }
   ],
   "source": [
    "type(arr_)"
   ]
  },
  {
   "cell_type": "markdown",
   "metadata": {
    "id": "n5HnncbQcOn9"
   },
   "source": [
    "#### Operations on Array"
   ]
  },
  {
   "cell_type": "code",
   "execution_count": null,
   "metadata": {
    "colab": {
     "base_uri": "https://localhost:8080/"
    },
    "executionInfo": {
     "elapsed": 427,
     "status": "ok",
     "timestamp": 1632323442276,
     "user": {
      "displayName": "Alok Yadav",
      "photoUrl": "https://lh3.googleusercontent.com/a-/AOh14GizZFMCB8-eVvEF7cC9zt8SGXsUNNmSz3Ka92VAXw=s64",
      "userId": "13695401162967392961"
     },
     "user_tz": -330
    },
    "id": "pCxNYfdXV8Cb",
    "outputId": "a910996b-ae6b-4f58-8408-367de6b63925"
   },
   "outputs": [
    {
     "data": {
      "text/plain": [
       "array('b', [10, 20, 30, 40, 127, 60])"
      ]
     },
     "execution_count": 8,
     "metadata": {},
     "output_type": "execute_result"
    }
   ],
   "source": [
    "arr_"
   ]
  },
  {
   "cell_type": "code",
   "execution_count": null,
   "metadata": {
    "colab": {
     "base_uri": "https://localhost:8080/"
    },
    "executionInfo": {
     "elapsed": 391,
     "status": "ok",
     "timestamp": 1632323882439,
     "user": {
      "displayName": "Alok Yadav",
      "photoUrl": "https://lh3.googleusercontent.com/a-/AOh14GizZFMCB8-eVvEF7cC9zt8SGXsUNNmSz3Ka92VAXw=s64",
      "userId": "13695401162967392961"
     },
     "user_tz": -330
    },
    "id": "KDSxnKiHcOn_",
    "outputId": "4e247f8a-f092-49c6-c314-e861c388a6af"
   },
   "outputs": [
    {
     "data": {
      "text/plain": [
       "array('b', [20, 30])"
      ]
     },
     "execution_count": 13,
     "metadata": {},
     "output_type": "execute_result"
    }
   ],
   "source": [
    "arr_[-5:-3]#to access an element of the array we use array name and square brackets and pass the index number of the element\n"
   ]
  },
  {
   "cell_type": "code",
   "execution_count": null,
   "metadata": {
    "colab": {
     "base_uri": "https://localhost:8080/"
    },
    "executionInfo": {
     "elapsed": 384,
     "status": "ok",
     "timestamp": 1632323972736,
     "user": {
      "displayName": "Alok Yadav",
      "photoUrl": "https://lh3.googleusercontent.com/a-/AOh14GizZFMCB8-eVvEF7cC9zt8SGXsUNNmSz3Ka92VAXw=s64",
      "userId": "13695401162967392961"
     },
     "user_tz": -330
    },
    "id": "SbayBzy_jwQE",
    "outputId": "65b069ce-516a-41d8-beba-7f67e038e5af"
   },
   "outputs": [
    {
     "data": {
      "text/plain": [
       "array('b', [105, 110, 120])"
      ]
     },
     "execution_count": 15,
     "metadata": {},
     "output_type": "execute_result"
    }
   ],
   "source": [
    "arr1=array('b',[105,110,120])\n",
    "arr1"
   ]
  },
  {
   "cell_type": "code",
   "execution_count": null,
   "metadata": {
    "colab": {
     "base_uri": "https://localhost:8080/"
    },
    "executionInfo": {
     "elapsed": 375,
     "status": "ok",
     "timestamp": 1632323992088,
     "user": {
      "displayName": "Alok Yadav",
      "photoUrl": "https://lh3.googleusercontent.com/a-/AOh14GizZFMCB8-eVvEF7cC9zt8SGXsUNNmSz3Ka92VAXw=s64",
      "userId": "13695401162967392961"
     },
     "user_tz": -330
    },
    "id": "Bu-j7OscPFPL",
    "outputId": "8f0f18ab-e3b8-4118-fce0-58964c624899"
   },
   "outputs": [
    {
     "data": {
      "text/plain": [
       "array('b', [105, 100, 110, 120])"
      ]
     },
     "execution_count": 16,
     "metadata": {},
     "output_type": "execute_result"
    }
   ],
   "source": [
    "arr1.insert(1, 100)\n",
    "arr1"
   ]
  },
  {
   "cell_type": "code",
   "execution_count": null,
   "metadata": {
    "id": "icejsvPUSsOV"
   },
   "outputs": [],
   "source": [
    "arr_.insert(5, 100)"
   ]
  },
  {
   "cell_type": "code",
   "execution_count": null,
   "metadata": {
    "colab": {
     "base_uri": "https://localhost:8080/"
    },
    "executionInfo": {
     "elapsed": 381,
     "status": "ok",
     "timestamp": 1625397448158,
     "user": {
      "displayName": "Alok Yadav",
      "photoUrl": "https://lh3.googleusercontent.com/a-/AOh14GizZFMCB8-eVvEF7cC9zt8SGXsUNNmSz3Ka92VAXw=s64",
      "userId": "13695401162967392961"
     },
     "user_tz": -330
    },
    "id": "JmBv4xKRSrbh",
    "outputId": "cdd8a158-e735-4ca5-c6ca-88b6695773cf"
   },
   "outputs": [
    {
     "data": {
      "text/plain": [
       "array('b', [10, 20, 30, 40, 126, 100, 60])"
      ]
     },
     "execution_count": 21,
     "metadata": {
      "tags": []
     },
     "output_type": "execute_result"
    }
   ],
   "source": [
    "arr_"
   ]
  },
  {
   "cell_type": "code",
   "execution_count": null,
   "metadata": {
    "colab": {
     "base_uri": "https://localhost:8080/"
    },
    "executionInfo": {
     "elapsed": 384,
     "status": "ok",
     "timestamp": 1632324052825,
     "user": {
      "displayName": "Alok Yadav",
      "photoUrl": "https://lh3.googleusercontent.com/a-/AOh14GizZFMCB8-eVvEF7cC9zt8SGXsUNNmSz3Ka92VAXw=s64",
      "userId": "13695401162967392961"
     },
     "user_tz": -330
    },
    "id": "pVhyNB_UcOoE",
    "outputId": "dd20b2e7-26d3-4761-d0b6-bbea4fb02278"
   },
   "outputs": [
    {
     "data": {
      "text/plain": [
       "array('b', [10, 20, 30, 40, 127, 50, 60])"
      ]
     },
     "execution_count": 17,
     "metadata": {},
     "output_type": "execute_result"
    }
   ],
   "source": [
    "arr_.insert(5,50) #to insert an element in array we pass the index and the element that we have to insert.\n",
    "arr_"
   ]
  },
  {
   "cell_type": "code",
   "execution_count": null,
   "metadata": {
    "colab": {
     "base_uri": "https://localhost:8080/"
    },
    "executionInfo": {
     "elapsed": 360,
     "status": "ok",
     "timestamp": 1632324103407,
     "user": {
      "displayName": "Alok Yadav",
      "photoUrl": "https://lh3.googleusercontent.com/a-/AOh14GizZFMCB8-eVvEF7cC9zt8SGXsUNNmSz3Ka92VAXw=s64",
      "userId": "13695401162967392961"
     },
     "user_tz": -330
    },
    "id": "kahdyYKVcOoJ",
    "outputId": "8a49e059-72bd-4c03-bfee-713fbc39a816"
   },
   "outputs": [
    {
     "data": {
      "text/plain": [
       "4"
      ]
     },
     "execution_count": 19,
     "metadata": {},
     "output_type": "execute_result"
    }
   ],
   "source": [
    "arr_.index(127) #In order to search for an element inside an array we use index method and pass the element that you want to search"
   ]
  },
  {
   "cell_type": "code",
   "execution_count": null,
   "metadata": {
    "id": "3afTjcM8A251"
   },
   "outputs": [],
   "source": [
    "arr_[5]=110"
   ]
  },
  {
   "cell_type": "code",
   "execution_count": null,
   "metadata": {
    "colab": {
     "base_uri": "https://localhost:8080/"
    },
    "executionInfo": {
     "elapsed": 363,
     "status": "ok",
     "timestamp": 1632324169283,
     "user": {
      "displayName": "Alok Yadav",
      "photoUrl": "https://lh3.googleusercontent.com/a-/AOh14GizZFMCB8-eVvEF7cC9zt8SGXsUNNmSz3Ka92VAXw=s64",
      "userId": "13695401162967392961"
     },
     "user_tz": -330
    },
    "id": "p6QqdCAgjBp9",
    "outputId": "2f70ec52-9b20-4036-abe0-323bca85cd42"
   },
   "outputs": [
    {
     "data": {
      "text/plain": [
       "array('b', [10, 20, 30, 40, 127, 110, 60])"
      ]
     },
     "execution_count": 21,
     "metadata": {},
     "output_type": "execute_result"
    }
   ],
   "source": [
    "arr_"
   ]
  },
  {
   "cell_type": "code",
   "execution_count": null,
   "metadata": {
    "colab": {
     "base_uri": "https://localhost:8080/"
    },
    "executionInfo": {
     "elapsed": 358,
     "status": "ok",
     "timestamp": 1632324220359,
     "user": {
      "displayName": "Alok Yadav",
      "photoUrl": "https://lh3.googleusercontent.com/a-/AOh14GizZFMCB8-eVvEF7cC9zt8SGXsUNNmSz3Ka92VAXw=s64",
      "userId": "13695401162967392961"
     },
     "user_tz": -330
    },
    "id": "E_7RXHhFcOoP",
    "outputId": "6b5c2a99-c358-4635-9511-5a3be85f1013"
   },
   "outputs": [
    {
     "data": {
      "text/plain": [
       "array('b', [10, 20, 30, 40, 127, 120, 60])"
      ]
     },
     "execution_count": 22,
     "metadata": {},
     "output_type": "execute_result"
    }
   ],
   "source": [
    "arr_[5]=120 #In order to update any existing element we pass the index the element that has to updated and the new value\n",
    "arr_"
   ]
  },
  {
   "cell_type": "code",
   "execution_count": null,
   "metadata": {
    "colab": {
     "base_uri": "https://localhost:8080/"
    },
    "executionInfo": {
     "elapsed": 415,
     "status": "ok",
     "timestamp": 1632324316045,
     "user": {
      "displayName": "Alok Yadav",
      "photoUrl": "https://lh3.googleusercontent.com/a-/AOh14GizZFMCB8-eVvEF7cC9zt8SGXsUNNmSz3Ka92VAXw=s64",
      "userId": "13695401162967392961"
     },
     "user_tz": -330
    },
    "id": "3_-BC9LAcOoU",
    "outputId": "15dcfe1d-d68f-4bc9-f792-208cac9036e0"
   },
   "outputs": [
    {
     "data": {
      "text/plain": [
       "array('b', [10, 20, 30, 40, 127, 120, 60, 125])"
      ]
     },
     "execution_count": 23,
     "metadata": {},
     "output_type": "execute_result"
    }
   ],
   "source": [
    "arr_.append(125) # append() inserts the element towards the last of the array\n",
    "arr_"
   ]
  },
  {
   "cell_type": "code",
   "execution_count": null,
   "metadata": {
    "colab": {
     "base_uri": "https://localhost:8080/"
    },
    "executionInfo": {
     "elapsed": 366,
     "status": "ok",
     "timestamp": 1632324355849,
     "user": {
      "displayName": "Alok Yadav",
      "photoUrl": "https://lh3.googleusercontent.com/a-/AOh14GizZFMCB8-eVvEF7cC9zt8SGXsUNNmSz3Ka92VAXw=s64",
      "userId": "13695401162967392961"
     },
     "user_tz": -330
    },
    "id": "HgXG89IDcOoZ",
    "outputId": "45dad31c-3131-4829-9e9e-233ab046dda7"
   },
   "outputs": [
    {
     "data": {
      "text/plain": [
       "1"
      ]
     },
     "execution_count": 25,
     "metadata": {},
     "output_type": "execute_result"
    }
   ],
   "source": [
    "arr_.count(30) #return the count i.e, number of times the element has appeared"
   ]
  },
  {
   "cell_type": "code",
   "execution_count": null,
   "metadata": {
    "colab": {
     "base_uri": "https://localhost:8080/"
    },
    "executionInfo": {
     "elapsed": 358,
     "status": "ok",
     "timestamp": 1632324376316,
     "user": {
      "displayName": "Alok Yadav",
      "photoUrl": "https://lh3.googleusercontent.com/a-/AOh14GizZFMCB8-eVvEF7cC9zt8SGXsUNNmSz3Ka92VAXw=s64",
      "userId": "13695401162967392961"
     },
     "user_tz": -330
    },
    "id": "QquDS5CxcOod",
    "outputId": "e3412b13-658e-4638-8b33-679585ada2b1"
   },
   "outputs": [
    {
     "name": "stdout",
     "output_type": "stream",
     "text": [
      "array('b', [10, 20, 30, 40, 127, 120, 60, 125])\n",
      "array('b', [70, 80, 90])\n"
     ]
    },
    {
     "data": {
      "text/plain": [
       "array('b', [10, 20, 30, 40, 127, 120, 60, 125, 70, 80, 90])"
      ]
     },
     "execution_count": 26,
     "metadata": {},
     "output_type": "execute_result"
    }
   ],
   "source": [
    "#Concatenation and extending array\n",
    "#CONCATENATION\n",
    "#lets create one more array\n",
    "Arr_ = array('b',[70,80,90])\n",
    "concat_ = arr_ + Arr_\n",
    "print (arr_)\n",
    "print (Arr_)\n",
    "concat_ #it includes elements of both the arrays and stores it in concat_, but didnt changed the actual arrays arr_ and Arr_\n"
   ]
  },
  {
   "cell_type": "code",
   "execution_count": null,
   "metadata": {
    "colab": {
     "base_uri": "https://localhost:8080/"
    },
    "executionInfo": {
     "elapsed": 566,
     "status": "ok",
     "timestamp": 1632324469723,
     "user": {
      "displayName": "Alok Yadav",
      "photoUrl": "https://lh3.googleusercontent.com/a-/AOh14GizZFMCB8-eVvEF7cC9zt8SGXsUNNmSz3Ka92VAXw=s64",
      "userId": "13695401162967392961"
     },
     "user_tz": -330
    },
    "id": "V6Ax6op-HpdH",
    "outputId": "61a28634-7f3e-436e-9f13-010ec890551b"
   },
   "outputs": [
    {
     "data": {
      "text/plain": [
       "array('b', [70, 80, 90])"
      ]
     },
     "execution_count": 27,
     "metadata": {},
     "output_type": "execute_result"
    }
   ],
   "source": [
    "Arr_"
   ]
  },
  {
   "cell_type": "code",
   "execution_count": null,
   "metadata": {
    "colab": {
     "base_uri": "https://localhost:8080/"
    },
    "executionInfo": {
     "elapsed": 367,
     "status": "ok",
     "timestamp": 1632324479306,
     "user": {
      "displayName": "Alok Yadav",
      "photoUrl": "https://lh3.googleusercontent.com/a-/AOh14GizZFMCB8-eVvEF7cC9zt8SGXsUNNmSz3Ka92VAXw=s64",
      "userId": "13695401162967392961"
     },
     "user_tz": -330
    },
    "id": "gTfxJfXSHqgN",
    "outputId": "6f6ab712-bd64-4074-b895-fd74ff233423"
   },
   "outputs": [
    {
     "data": {
      "text/plain": [
       "array('b', [10, 20, 30, 40, 127, 120, 60, 125])"
      ]
     },
     "execution_count": 28,
     "metadata": {},
     "output_type": "execute_result"
    }
   ],
   "source": [
    "arr_"
   ]
  },
  {
   "cell_type": "code",
   "execution_count": null,
   "metadata": {
    "colab": {
     "base_uri": "https://localhost:8080/"
    },
    "executionInfo": {
     "elapsed": 391,
     "status": "ok",
     "timestamp": 1625397551371,
     "user": {
      "displayName": "Alok Yadav",
      "photoUrl": "https://lh3.googleusercontent.com/a-/AOh14GizZFMCB8-eVvEF7cC9zt8SGXsUNNmSz3Ka92VAXw=s64",
      "userId": "13695401162967392961"
     },
     "user_tz": -330
    },
    "id": "JN2xWl7rcOoj",
    "outputId": "70d37743-f30b-45ca-b724-8dbd2573b930"
   },
   "outputs": [
    {
     "name": "stdout",
     "output_type": "stream",
     "text": [
      "array('b', [10, 20, 30, 40, 126, 120, 100, 60, 125])\n",
      "array('b', [70, 80, 90, 10, 20, 30, 40, 126, 120, 100, 60, 125])\n"
     ]
    }
   ],
   "source": [
    "#EXTEND:\n",
    "#with extend command it changes one of the arrays as,\n",
    "Arr_.extend(arr_)\n",
    "print (arr_)\n",
    "print (Arr_)"
   ]
  },
  {
   "cell_type": "code",
   "execution_count": null,
   "metadata": {
    "colab": {
     "base_uri": "https://localhost:8080/"
    },
    "executionInfo": {
     "elapsed": 372,
     "status": "ok",
     "timestamp": 1632324510770,
     "user": {
      "displayName": "Alok Yadav",
      "photoUrl": "https://lh3.googleusercontent.com/a-/AOh14GizZFMCB8-eVvEF7cC9zt8SGXsUNNmSz3Ka92VAXw=s64",
      "userId": "13695401162967392961"
     },
     "user_tz": -330
    },
    "id": "Qq69H54bW3ty",
    "outputId": "c98f8da6-1c1e-4477-fb80-35e2bb789922"
   },
   "outputs": [
    {
     "data": {
      "text/plain": [
       "array('b', [10, 20, 30, 40, 127, 120, 60, 125])"
      ]
     },
     "execution_count": 29,
     "metadata": {},
     "output_type": "execute_result"
    }
   ],
   "source": [
    "arr_"
   ]
  },
  {
   "cell_type": "code",
   "execution_count": null,
   "metadata": {
    "colab": {
     "base_uri": "https://localhost:8080/"
    },
    "executionInfo": {
     "elapsed": 395,
     "status": "ok",
     "timestamp": 1632324516920,
     "user": {
      "displayName": "Alok Yadav",
      "photoUrl": "https://lh3.googleusercontent.com/a-/AOh14GizZFMCB8-eVvEF7cC9zt8SGXsUNNmSz3Ka92VAXw=s64",
      "userId": "13695401162967392961"
     },
     "user_tz": -330
    },
    "id": "MO_fddWccOop",
    "outputId": "ff1a0d33-4d03-4601-e2b4-4fcb8449e860"
   },
   "outputs": [
    {
     "data": {
      "text/plain": [
       "125"
      ]
     },
     "execution_count": 30,
     "metadata": {},
     "output_type": "execute_result"
    }
   ],
   "source": [
    "#pop: removes the element whose index is passed as a parameter, if no index is passed it removes the last element\n",
    "arr_.pop()"
   ]
  },
  {
   "cell_type": "code",
   "execution_count": null,
   "metadata": {
    "colab": {
     "base_uri": "https://localhost:8080/"
    },
    "executionInfo": {
     "elapsed": 362,
     "status": "ok",
     "timestamp": 1632324565162,
     "user": {
      "displayName": "Alok Yadav",
      "photoUrl": "https://lh3.googleusercontent.com/a-/AOh14GizZFMCB8-eVvEF7cC9zt8SGXsUNNmSz3Ka92VAXw=s64",
      "userId": "13695401162967392961"
     },
     "user_tz": -330
    },
    "id": "gSHv0zAHgOos",
    "outputId": "ec0a2477-6c60-4ba3-8641-b638b247347c"
   },
   "outputs": [
    {
     "data": {
      "text/plain": [
       "array('b', [10, 20, 30, 40, 127, 120, 60])"
      ]
     },
     "execution_count": 32,
     "metadata": {},
     "output_type": "execute_result"
    }
   ],
   "source": [
    "arr_"
   ]
  },
  {
   "cell_type": "code",
   "execution_count": null,
   "metadata": {
    "colab": {
     "base_uri": "https://localhost:8080/"
    },
    "executionInfo": {
     "elapsed": 345,
     "status": "ok",
     "timestamp": 1632324572751,
     "user": {
      "displayName": "Alok Yadav",
      "photoUrl": "https://lh3.googleusercontent.com/a-/AOh14GizZFMCB8-eVvEF7cC9zt8SGXsUNNmSz3Ka92VAXw=s64",
      "userId": "13695401162967392961"
     },
     "user_tz": -330
    },
    "id": "hB91Ljxcv443",
    "outputId": "e4d5fde6-cbb3-4428-bc33-271e70630e6d"
   },
   "outputs": [
    {
     "data": {
      "text/plain": [
       "127"
      ]
     },
     "execution_count": 33,
     "metadata": {},
     "output_type": "execute_result"
    }
   ],
   "source": [
    "arr_.pop(4)"
   ]
  },
  {
   "cell_type": "code",
   "execution_count": null,
   "metadata": {
    "colab": {
     "base_uri": "https://localhost:8080/"
    },
    "executionInfo": {
     "elapsed": 447,
     "status": "ok",
     "timestamp": 1632324576227,
     "user": {
      "displayName": "Alok Yadav",
      "photoUrl": "https://lh3.googleusercontent.com/a-/AOh14GizZFMCB8-eVvEF7cC9zt8SGXsUNNmSz3Ka92VAXw=s64",
      "userId": "13695401162967392961"
     },
     "user_tz": -330
    },
    "id": "fUle2rHz4k-G",
    "outputId": "51626f39-6b5c-456f-f4ed-f4cc3e37ff5a"
   },
   "outputs": [
    {
     "data": {
      "text/plain": [
       "array('b', [10, 20, 30, 40, 120, 60])"
      ]
     },
     "execution_count": 34,
     "metadata": {},
     "output_type": "execute_result"
    }
   ],
   "source": [
    "arr_"
   ]
  },
  {
   "cell_type": "code",
   "execution_count": null,
   "metadata": {
    "colab": {
     "base_uri": "https://localhost:8080/"
    },
    "executionInfo": {
     "elapsed": 374,
     "status": "ok",
     "timestamp": 1632324679148,
     "user": {
      "displayName": "Alok Yadav",
      "photoUrl": "https://lh3.googleusercontent.com/a-/AOh14GizZFMCB8-eVvEF7cC9zt8SGXsUNNmSz3Ka92VAXw=s64",
      "userId": "13695401162967392961"
     },
     "user_tz": -330
    },
    "id": "4_BckM5tcOot",
    "outputId": "1eac9b66-155b-486d-e13a-db17964b5a7d"
   },
   "outputs": [
    {
     "data": {
      "text/plain": [
       "array('b', [10, 20, 30, 40, 60])"
      ]
     },
     "execution_count": 35,
     "metadata": {},
     "output_type": "execute_result"
    }
   ],
   "source": [
    "arr_.remove(120)#removes the element whose value is passed as a parameter\n",
    "arr_"
   ]
  },
  {
   "cell_type": "code",
   "execution_count": null,
   "metadata": {
    "colab": {
     "base_uri": "https://localhost:8080/"
    },
    "executionInfo": {
     "elapsed": 1571,
     "status": "ok",
     "timestamp": 1616310099831,
     "user": {
      "displayName": "Alok Yadav",
      "photoUrl": "https://lh3.googleusercontent.com/a-/AOh14GizZFMCB8-eVvEF7cC9zt8SGXsUNNmSz3Ka92VAXw=s64",
      "userId": "13695401162967392961"
     },
     "user_tz": -330
    },
    "id": "ItAiq7BiR5BX",
    "outputId": "48cd3050-54e3-405e-96fe-c49a4e4156d6"
   },
   "outputs": [
    {
     "data": {
      "text/plain": [
       "array.array"
      ]
     },
     "execution_count": 37,
     "metadata": {
      "tags": []
     },
     "output_type": "execute_result"
    }
   ],
   "source": [
    "type(arr_)"
   ]
  },
  {
   "cell_type": "code",
   "execution_count": null,
   "metadata": {
    "id": "bAivljb4cOoy"
   },
   "outputs": [],
   "source": [
    "del(arr_)#to delete the array"
   ]
  },
  {
   "cell_type": "code",
   "execution_count": null,
   "metadata": {
    "colab": {
     "base_uri": "https://localhost:8080/",
     "height": 164
    },
    "executionInfo": {
     "elapsed": 16,
     "status": "error",
     "timestamp": 1632324698401,
     "user": {
      "displayName": "Alok Yadav",
      "photoUrl": "https://lh3.googleusercontent.com/a-/AOh14GizZFMCB8-eVvEF7cC9zt8SGXsUNNmSz3Ka92VAXw=s64",
      "userId": "13695401162967392961"
     },
     "user_tz": -330
    },
    "id": "vi-DpfgXPfoC",
    "outputId": "47eedad4-77e7-41e2-d150-96c9291c6070"
   },
   "outputs": [
    {
     "ename": "NameError",
     "evalue": "ignored",
     "output_type": "error",
     "traceback": [
      "\u001b[0;31m---------------------------------------------------------------------------\u001b[0m",
      "\u001b[0;31mNameError\u001b[0m                                 Traceback (most recent call last)",
      "\u001b[0;32m<ipython-input-37-5c911150f12e>\u001b[0m in \u001b[0;36m<module>\u001b[0;34m()\u001b[0m\n\u001b[0;32m----> 1\u001b[0;31m \u001b[0marr_\u001b[0m\u001b[0;34m\u001b[0m\u001b[0;34m\u001b[0m\u001b[0m\n\u001b[0m",
      "\u001b[0;31mNameError\u001b[0m: name 'arr_' is not defined"
     ]
    }
   ],
   "source": [
    "arr_"
   ]
  },
  {
   "cell_type": "markdown",
   "metadata": {
    "id": "WEH2ERq5cOo2"
   },
   "source": [
    "#### Lists:"
   ]
  },
  {
   "cell_type": "code",
   "execution_count": null,
   "metadata": {
    "id": "nShzIQtsZH83"
   },
   "outputs": [],
   "source": [
    "a=[]"
   ]
  },
  {
   "cell_type": "code",
   "execution_count": null,
   "metadata": {
    "colab": {
     "base_uri": "https://localhost:8080/"
    },
    "executionInfo": {
     "elapsed": 364,
     "status": "ok",
     "timestamp": 1632408717235,
     "user": {
      "displayName": "Alok Yadav",
      "photoUrl": "https://lh3.googleusercontent.com/a-/AOh14GizZFMCB8-eVvEF7cC9zt8SGXsUNNmSz3Ka92VAXw=s64",
      "userId": "13695401162967392961"
     },
     "user_tz": -330
    },
    "id": "Bk5DcENrZQcN",
    "outputId": "09d9af25-bca9-4267-c035-42efa3aa7721"
   },
   "outputs": [
    {
     "data": {
      "text/plain": [
       "list"
      ]
     },
     "execution_count": 2,
     "metadata": {},
     "output_type": "execute_result"
    }
   ],
   "source": [
    "type(a)"
   ]
  },
  {
   "cell_type": "markdown",
   "metadata": {
    "id": "hn9TiKQIcOo3"
   },
   "source": [
    "Lists consists of set of elements of the multiple type. Lists is mutable that means we can change the elements inside the lists or add or remove elements. Each item stored in list is called an element and each location of an element in list has a numerical index, which is used to identify the element. Index in list start from 0. List are generaly defined in []."
   ]
  },
  {
   "cell_type": "code",
   "execution_count": null,
   "metadata": {
    "colab": {
     "base_uri": "https://localhost:8080/"
    },
    "executionInfo": {
     "elapsed": 691,
     "status": "ok",
     "timestamp": 1632409660646,
     "user": {
      "displayName": "Alok Yadav",
      "photoUrl": "https://lh3.googleusercontent.com/a-/AOh14GizZFMCB8-eVvEF7cC9zt8SGXsUNNmSz3Ka92VAXw=s64",
      "userId": "13695401162967392961"
     },
     "user_tz": -330
    },
    "id": "ER-bFglAcOo5",
    "outputId": "aa103fe8-8f87-49c4-c6f1-36b52a25175e"
   },
   "outputs": [
    {
     "data": {
      "text/plain": [
       "list"
      ]
     },
     "execution_count": 20,
     "metadata": {},
     "output_type": "execute_result"
    }
   ],
   "source": [
    "lis_1 = ['abc','xyz','pqr',1,2,3,4,5]\n",
    "lis_2= [30,12,70,50]\n",
    "type(lis_1)"
   ]
  },
  {
   "cell_type": "markdown",
   "metadata": {
    "id": "8YI12EYgcOo9"
   },
   "source": [
    "#### Operation on lists"
   ]
  },
  {
   "cell_type": "code",
   "execution_count": null,
   "metadata": {
    "colab": {
     "base_uri": "https://localhost:8080/"
    },
    "executionInfo": {
     "elapsed": 354,
     "status": "ok",
     "timestamp": 1632408826632,
     "user": {
      "displayName": "Alok Yadav",
      "photoUrl": "https://lh3.googleusercontent.com/a-/AOh14GizZFMCB8-eVvEF7cC9zt8SGXsUNNmSz3Ka92VAXw=s64",
      "userId": "13695401162967392961"
     },
     "user_tz": -330
    },
    "id": "486NotAgDftU",
    "outputId": "b608c692-8142-4b4e-e1fe-b900e609749c"
   },
   "outputs": [
    {
     "data": {
      "text/plain": [
       "['abc', 'xyz', 'pqr', 1, 2, 3, 4, 5, 20]"
      ]
     },
     "execution_count": 4,
     "metadata": {},
     "output_type": "execute_result"
    }
   ],
   "source": [
    "lis_1.append(20) #append adds the element at the last of the list\n",
    "lis_1"
   ]
  },
  {
   "cell_type": "markdown",
   "metadata": {
    "id": "mrvAl_rU6V71"
   },
   "source": []
  },
  {
   "cell_type": "code",
   "execution_count": null,
   "metadata": {
    "colab": {
     "base_uri": "https://localhost:8080/"
    },
    "executionInfo": {
     "elapsed": 1006,
     "status": "ok",
     "timestamp": 1616246015170,
     "user": {
      "displayName": "Alok Yadav",
      "photoUrl": "https://lh3.googleusercontent.com/a-/AOh14GizZFMCB8-eVvEF7cC9zt8SGXsUNNmSz3Ka92VAXw=s64",
      "userId": "13695401162967392961"
     },
     "user_tz": -330
    },
    "id": "baUPlfBSDsP6",
    "outputId": "cd8c7689-1068-4be6-a3cb-f6e6c4816919"
   },
   "outputs": [
    {
     "data": {
      "text/plain": [
       "1"
      ]
     },
     "execution_count": 34,
     "metadata": {
      "tags": []
     },
     "output_type": "execute_result"
    }
   ],
   "source": [
    "lis_1.count(20) #returns the number of appearances of the given element"
   ]
  },
  {
   "cell_type": "code",
   "execution_count": null,
   "metadata": {
    "id": "oRVlCfF3DzWV"
   },
   "outputs": [],
   "source": [
    "lis_1.extend(lis_2)"
   ]
  },
  {
   "cell_type": "code",
   "execution_count": null,
   "metadata": {
    "colab": {
     "base_uri": "https://localhost:8080/"
    },
    "executionInfo": {
     "elapsed": 1017,
     "status": "ok",
     "timestamp": 1616246040785,
     "user": {
      "displayName": "Alok Yadav",
      "photoUrl": "https://lh3.googleusercontent.com/a-/AOh14GizZFMCB8-eVvEF7cC9zt8SGXsUNNmSz3Ka92VAXw=s64",
      "userId": "13695401162967392961"
     },
     "user_tz": -330
    },
    "id": "1ljhJSP-D7nM",
    "outputId": "fd0d8f5a-5f7c-4604-a2d1-e15ff7caa342"
   },
   "outputs": [
    {
     "data": {
      "text/plain": [
       "['abc', 'xyz', 'pqr', 1, 2, 3, 4, 5, 20, 30, 12, 70, 50]"
      ]
     },
     "execution_count": 36,
     "metadata": {
      "tags": []
     },
     "output_type": "execute_result"
    }
   ],
   "source": [
    "lis_1"
   ]
  },
  {
   "cell_type": "code",
   "execution_count": null,
   "metadata": {
    "colab": {
     "base_uri": "https://localhost:8080/"
    },
    "executionInfo": {
     "elapsed": 1062,
     "status": "ok",
     "timestamp": 1616246053820,
     "user": {
      "displayName": "Alok Yadav",
      "photoUrl": "https://lh3.googleusercontent.com/a-/AOh14GizZFMCB8-eVvEF7cC9zt8SGXsUNNmSz3Ka92VAXw=s64",
      "userId": "13695401162967392961"
     },
     "user_tz": -330
    },
    "id": "BSCyfgQ06qT7",
    "outputId": "d5c2aabf-e590-4275-f907-0182f9ee9f82"
   },
   "outputs": [
    {
     "data": {
      "text/plain": [
       "['abc', 'xyz', 'pqr', 1, 2, 3, 4, 5, 20, 30, 12, 70, 50, 30, 12, 70, 50]"
      ]
     },
     "execution_count": 37,
     "metadata": {
      "tags": []
     },
     "output_type": "execute_result"
    }
   ],
   "source": [
    "lis_1+lis_2"
   ]
  },
  {
   "cell_type": "code",
   "execution_count": null,
   "metadata": {
    "colab": {
     "base_uri": "https://localhost:8080/"
    },
    "executionInfo": {
     "elapsed": 391,
     "status": "ok",
     "timestamp": 1632409678581,
     "user": {
      "displayName": "Alok Yadav",
      "photoUrl": "https://lh3.googleusercontent.com/a-/AOh14GizZFMCB8-eVvEF7cC9zt8SGXsUNNmSz3Ka92VAXw=s64",
      "userId": "13695401162967392961"
     },
     "user_tz": -330
    },
    "id": "U7dlKwG0Ms0T",
    "outputId": "c2326edf-c9b6-432b-fac4-aa649bfa2be5"
   },
   "outputs": [
    {
     "data": {
      "text/plain": [
       "['abc', 'xyz', 'pqr', 1, 2, 3, 4, 5]"
      ]
     },
     "execution_count": 21,
     "metadata": {},
     "output_type": "execute_result"
    }
   ],
   "source": [
    "lis_1"
   ]
  },
  {
   "cell_type": "code",
   "execution_count": null,
   "metadata": {
    "colab": {
     "base_uri": "https://localhost:8080/"
    },
    "executionInfo": {
     "elapsed": 383,
     "status": "ok",
     "timestamp": 1632410047754,
     "user": {
      "displayName": "Alok Yadav",
      "photoUrl": "https://lh3.googleusercontent.com/a-/AOh14GizZFMCB8-eVvEF7cC9zt8SGXsUNNmSz3Ka92VAXw=s64",
      "userId": "13695401162967392961"
     },
     "user_tz": -330
    },
    "id": "xuImHjV7EA8r",
    "outputId": "3c5d8407-5b17-4ee2-c3c8-b89825e16864"
   },
   "outputs": [
    {
     "data": {
      "text/plain": [
       "['abc', 'xyz', 'pqr', 1, 2, [30, 20], [30], 30, 3, 4, 5]"
      ]
     },
     "execution_count": 28,
     "metadata": {},
     "output_type": "execute_result"
    }
   ],
   "source": [
    "lis_1.insert(5,[30,20])\n",
    "lis_1"
   ]
  },
  {
   "cell_type": "code",
   "execution_count": null,
   "metadata": {
    "colab": {
     "base_uri": "https://localhost:8080/"
    },
    "executionInfo": {
     "elapsed": 430,
     "status": "ok",
     "timestamp": 1632410089322,
     "user": {
      "displayName": "Alok Yadav",
      "photoUrl": "https://lh3.googleusercontent.com/a-/AOh14GizZFMCB8-eVvEF7cC9zt8SGXsUNNmSz3Ka92VAXw=s64",
      "userId": "13695401162967392961"
     },
     "user_tz": -330
    },
    "id": "RdOq2QsmOQeq",
    "outputId": "ec3fd066-77ac-4de0-cbef-519d6cf62acb"
   },
   "outputs": [
    {
     "data": {
      "text/plain": [
       "[30, 20]"
      ]
     },
     "execution_count": 29,
     "metadata": {},
     "output_type": "execute_result"
    }
   ],
   "source": [
    "lis_1[5]"
   ]
  },
  {
   "cell_type": "code",
   "execution_count": null,
   "metadata": {
    "colab": {
     "base_uri": "https://localhost:8080/"
    },
    "executionInfo": {
     "elapsed": 352,
     "status": "ok",
     "timestamp": 1632410014166,
     "user": {
      "displayName": "Alok Yadav",
      "photoUrl": "https://lh3.googleusercontent.com/a-/AOh14GizZFMCB8-eVvEF7cC9zt8SGXsUNNmSz3Ka92VAXw=s64",
      "userId": "13695401162967392961"
     },
     "user_tz": -330
    },
    "id": "bDQPvb1tNjcQ",
    "outputId": "66d99113-f065-4f94-e1f8-78810f090a7a"
   },
   "outputs": [
    {
     "data": {
      "text/plain": [
       "['abc', 'xyz', 'pqr', 1, 2, [30], 30, 3, 4, 5]"
      ]
     },
     "execution_count": 27,
     "metadata": {},
     "output_type": "execute_result"
    }
   ],
   "source": [
    "lis_1[5]=[30]\n",
    "lis_1"
   ]
  },
  {
   "cell_type": "code",
   "execution_count": null,
   "metadata": {
    "colab": {
     "base_uri": "https://localhost:8080/"
    },
    "executionInfo": {
     "elapsed": 363,
     "status": "ok",
     "timestamp": 1632409064717,
     "user": {
      "displayName": "Alok Yadav",
      "photoUrl": "https://lh3.googleusercontent.com/a-/AOh14GizZFMCB8-eVvEF7cC9zt8SGXsUNNmSz3Ka92VAXw=s64",
      "userId": "13695401162967392961"
     },
     "user_tz": -330
    },
    "id": "TqvDiTGA5cMl",
    "outputId": "b72023a7-8a3d-441f-ff0d-54b0504a8393"
   },
   "outputs": [
    {
     "data": {
      "text/plain": [
       "30"
      ]
     },
     "execution_count": 10,
     "metadata": {},
     "output_type": "execute_result"
    }
   ],
   "source": [
    "lis_1[5][1]"
   ]
  },
  {
   "cell_type": "code",
   "execution_count": null,
   "metadata": {
    "colab": {
     "base_uri": "https://localhost:8080/"
    },
    "executionInfo": {
     "elapsed": 1420,
     "status": "ok",
     "timestamp": 1615812087628,
     "user": {
      "displayName": "Alok Yadav",
      "photoUrl": "https://lh3.googleusercontent.com/a-/AOh14GizZFMCB8-eVvEF7cC9zt8SGXsUNNmSz3Ka92VAXw=s64",
      "userId": "13695401162967392961"
     },
     "user_tz": -330
    },
    "id": "kS6mY9VjIOPg",
    "outputId": "5da10e63-5977-497c-f2e3-f67e1a70ce7d"
   },
   "outputs": [
    {
     "data": {
      "text/plain": [
       "[30, 12, 70, 50]"
      ]
     },
     "execution_count": 14,
     "metadata": {
      "tags": []
     },
     "output_type": "execute_result"
    }
   ],
   "source": [
    "lis_2"
   ]
  },
  {
   "cell_type": "code",
   "execution_count": null,
   "metadata": {
    "colab": {
     "base_uri": "https://localhost:8080/"
    },
    "executionInfo": {
     "elapsed": 373,
     "status": "ok",
     "timestamp": 1632409101532,
     "user": {
      "displayName": "Alok Yadav",
      "photoUrl": "https://lh3.googleusercontent.com/a-/AOh14GizZFMCB8-eVvEF7cC9zt8SGXsUNNmSz3Ka92VAXw=s64",
      "userId": "13695401162967392961"
     },
     "user_tz": -330
    },
    "id": "DR4gpGvCtx1g",
    "outputId": "1c5571e6-bb54-4960-b9f1-dddea10702f9"
   },
   "outputs": [
    {
     "data": {
      "text/plain": [
       "['abc', 'xyz', 'pqr', 1, 2, [20, 30], 3, 4, 5, 20]"
      ]
     },
     "execution_count": 11,
     "metadata": {},
     "output_type": "execute_result"
    }
   ],
   "source": [
    "lis_1"
   ]
  },
  {
   "cell_type": "code",
   "execution_count": null,
   "metadata": {
    "colab": {
     "base_uri": "https://localhost:8080/"
    },
    "executionInfo": {
     "elapsed": 345,
     "status": "ok",
     "timestamp": 1632409180680,
     "user": {
      "displayName": "Alok Yadav",
      "photoUrl": "https://lh3.googleusercontent.com/a-/AOh14GizZFMCB8-eVvEF7cC9zt8SGXsUNNmSz3Ka92VAXw=s64",
      "userId": "13695401162967392961"
     },
     "user_tz": -330
    },
    "id": "roq4LhyVEbKT",
    "outputId": "95f53ccc-0a59-4324-e7e3-b0c36044fc4d"
   },
   "outputs": [
    {
     "data": {
      "text/plain": [
       "['abc', 'xyz', 'pqr', 1, 2, [20, 30], 4]"
      ]
     },
     "execution_count": 14,
     "metadata": {},
     "output_type": "execute_result"
    }
   ],
   "source": [
    "lis_1.pop()\n",
    "lis_1"
   ]
  },
  {
   "cell_type": "code",
   "execution_count": null,
   "metadata": {
    "colab": {
     "base_uri": "https://localhost:8080/"
    },
    "executionInfo": {
     "elapsed": 1034,
     "status": "ok",
     "timestamp": 1616246251897,
     "user": {
      "displayName": "Alok Yadav",
      "photoUrl": "https://lh3.googleusercontent.com/a-/AOh14GizZFMCB8-eVvEF7cC9zt8SGXsUNNmSz3Ka92VAXw=s64",
      "userId": "13695401162967392961"
     },
     "user_tz": -330
    },
    "id": "0GswYOSY6r8n",
    "outputId": "d7d0ed23-4357-4f6a-80f4-034040f34a40"
   },
   "outputs": [
    {
     "data": {
      "text/plain": [
       "[30, 12, 70, 50]"
      ]
     },
     "execution_count": 43,
     "metadata": {
      "tags": []
     },
     "output_type": "execute_result"
    }
   ],
   "source": [
    "lis_2"
   ]
  },
  {
   "cell_type": "code",
   "execution_count": null,
   "metadata": {
    "id": "T8k6sCCzEqr5"
   },
   "outputs": [],
   "source": [
    "lis_2.remove(30)"
   ]
  },
  {
   "cell_type": "code",
   "execution_count": null,
   "metadata": {
    "colab": {
     "base_uri": "https://localhost:8080/"
    },
    "executionInfo": {
     "elapsed": 445,
     "status": "ok",
     "timestamp": 1632409251931,
     "user": {
      "displayName": "Alok Yadav",
      "photoUrl": "https://lh3.googleusercontent.com/a-/AOh14GizZFMCB8-eVvEF7cC9zt8SGXsUNNmSz3Ka92VAXw=s64",
      "userId": "13695401162967392961"
     },
     "user_tz": -330
    },
    "id": "yFlARg3NEz0x",
    "outputId": "9e80cb75-e6fa-4749-8e2c-c91e0bdb1d53"
   },
   "outputs": [
    {
     "data": {
      "text/plain": [
       "[12, 70, 50]"
      ]
     },
     "execution_count": 16,
     "metadata": {},
     "output_type": "execute_result"
    }
   ],
   "source": [
    "lis_2"
   ]
  },
  {
   "cell_type": "code",
   "execution_count": null,
   "metadata": {
    "colab": {
     "base_uri": "https://localhost:8080/"
    },
    "executionInfo": {
     "elapsed": 379,
     "status": "ok",
     "timestamp": 1632409265699,
     "user": {
      "displayName": "Alok Yadav",
      "photoUrl": "https://lh3.googleusercontent.com/a-/AOh14GizZFMCB8-eVvEF7cC9zt8SGXsUNNmSz3Ka92VAXw=s64",
      "userId": "13695401162967392961"
     },
     "user_tz": -330
    },
    "id": "eTn-ZvAqyTR4",
    "outputId": "8497c755-26de-46e4-e8d9-365694f44fe3"
   },
   "outputs": [
    {
     "data": {
      "text/plain": [
       "[12, 70, 50]"
      ]
     },
     "execution_count": 17,
     "metadata": {},
     "output_type": "execute_result"
    }
   ],
   "source": [
    "lis_2"
   ]
  },
  {
   "cell_type": "code",
   "execution_count": null,
   "metadata": {
    "id": "FZ6PSqrz7p47"
   },
   "outputs": [],
   "source": [
    "lis_2[1]=10"
   ]
  },
  {
   "cell_type": "code",
   "execution_count": null,
   "metadata": {
    "colab": {
     "base_uri": "https://localhost:8080/"
    },
    "executionInfo": {
     "elapsed": 356,
     "status": "ok",
     "timestamp": 1632409344417,
     "user": {
      "displayName": "Alok Yadav",
      "photoUrl": "https://lh3.googleusercontent.com/a-/AOh14GizZFMCB8-eVvEF7cC9zt8SGXsUNNmSz3Ka92VAXw=s64",
      "userId": "13695401162967392961"
     },
     "user_tz": -330
    },
    "id": "85F2PCEfLbh2",
    "outputId": "9bb80f1e-0c13-4e9b-f877-bfa5a9804c76"
   },
   "outputs": [
    {
     "data": {
      "text/plain": [
       "[12, 10, 50]"
      ]
     },
     "execution_count": 19,
     "metadata": {},
     "output_type": "execute_result"
    }
   ],
   "source": [
    "lis_2"
   ]
  },
  {
   "cell_type": "code",
   "execution_count": null,
   "metadata": {
    "id": "zT8eB54Qgdxv"
   },
   "outputs": [],
   "source": [
    "lis_2.clear()"
   ]
  },
  {
   "cell_type": "code",
   "execution_count": null,
   "metadata": {
    "colab": {
     "base_uri": "https://localhost:8080/"
    },
    "executionInfo": {
     "elapsed": 348,
     "status": "ok",
     "timestamp": 1625397905484,
     "user": {
      "displayName": "Alok Yadav",
      "photoUrl": "https://lh3.googleusercontent.com/a-/AOh14GizZFMCB8-eVvEF7cC9zt8SGXsUNNmSz3Ka92VAXw=s64",
      "userId": "13695401162967392961"
     },
     "user_tz": -330
    },
    "id": "sxTuo-FZeNMV",
    "outputId": "aa9bf573-5564-44f8-ac93-5aad19cd3057"
   },
   "outputs": [
    {
     "data": {
      "text/plain": [
       "[]"
      ]
     },
     "execution_count": 39,
     "metadata": {
      "tags": []
     },
     "output_type": "execute_result"
    }
   ],
   "source": [
    "lis_2"
   ]
  },
  {
   "cell_type": "code",
   "execution_count": null,
   "metadata": {
    "id": "bfevuwsNeNDN"
   },
   "outputs": [],
   "source": []
  },
  {
   "cell_type": "code",
   "execution_count": null,
   "metadata": {
    "colab": {
     "base_uri": "https://localhost:8080/"
    },
    "executionInfo": {
     "elapsed": 345,
     "status": "ok",
     "timestamp": 1625397909934,
     "user": {
      "displayName": "Alok Yadav",
      "photoUrl": "https://lh3.googleusercontent.com/a-/AOh14GizZFMCB8-eVvEF7cC9zt8SGXsUNNmSz3Ka92VAXw=s64",
      "userId": "13695401162967392961"
     },
     "user_tz": -330
    },
    "id": "bDl_4wBcauEI",
    "outputId": "cb7be7f3-2476-4f54-970c-a9013dd85d1e"
   },
   "outputs": [
    {
     "data": {
      "text/plain": [
       "list"
      ]
     },
     "execution_count": 40,
     "metadata": {
      "tags": []
     },
     "output_type": "execute_result"
    }
   ],
   "source": [
    "type(lis_2)"
   ]
  },
  {
   "cell_type": "code",
   "execution_count": null,
   "metadata": {
    "id": "2K4tvVpugq6C"
   },
   "outputs": [],
   "source": [
    "del lis_2"
   ]
  },
  {
   "cell_type": "code",
   "execution_count": null,
   "metadata": {
    "colab": {
     "base_uri": "https://localhost:8080/",
     "height": 164
    },
    "executionInfo": {
     "elapsed": 9,
     "status": "error",
     "timestamp": 1625397917421,
     "user": {
      "displayName": "Alok Yadav",
      "photoUrl": "https://lh3.googleusercontent.com/a-/AOh14GizZFMCB8-eVvEF7cC9zt8SGXsUNNmSz3Ka92VAXw=s64",
      "userId": "13695401162967392961"
     },
     "user_tz": -330
    },
    "id": "GjPfdj2zFN9T",
    "outputId": "ee84deed-125f-4987-e481-846123b5fec8"
   },
   "outputs": [
    {
     "ename": "NameError",
     "evalue": "ignored",
     "output_type": "error",
     "traceback": [
      "\u001b[0;31m---------------------------------------------------------------------------\u001b[0m",
      "\u001b[0;31mNameError\u001b[0m                                 Traceback (most recent call last)",
      "\u001b[0;32m<ipython-input-42-e98ee822585f>\u001b[0m in \u001b[0;36m<module>\u001b[0;34m()\u001b[0m\n\u001b[0;32m----> 1\u001b[0;31m \u001b[0mtype\u001b[0m\u001b[0;34m(\u001b[0m\u001b[0mlis_2\u001b[0m\u001b[0;34m)\u001b[0m\u001b[0;34m\u001b[0m\u001b[0;34m\u001b[0m\u001b[0m\n\u001b[0m",
      "\u001b[0;31mNameError\u001b[0m: name 'lis_2' is not defined"
     ]
    }
   ],
   "source": [
    "type(lis_2)"
   ]
  },
  {
   "cell_type": "markdown",
   "metadata": {
    "id": "JEyrlzPyhEKE"
   },
   "source": []
  },
  {
   "cell_type": "code",
   "execution_count": null,
   "metadata": {
    "colab": {
     "base_uri": "https://localhost:8080/",
     "height": 164
    },
    "executionInfo": {
     "elapsed": 870,
     "status": "error",
     "timestamp": 1616174040244,
     "user": {
      "displayName": "Alok Yadav",
      "photoUrl": "https://lh3.googleusercontent.com/a-/AOh14GizZFMCB8-eVvEF7cC9zt8SGXsUNNmSz3Ka92VAXw=s64",
      "userId": "13695401162967392961"
     },
     "user_tz": -330
    },
    "id": "1NSz3mvEFQ13",
    "outputId": "ae109cd1-9515-41a8-992c-f09b32c9fbc2"
   },
   "outputs": [
    {
     "ename": "NameError",
     "evalue": "ignored",
     "output_type": "error",
     "traceback": [
      "\u001b[0;31m---------------------------------------------------------------------------\u001b[0m",
      "\u001b[0;31mNameError\u001b[0m                                 Traceback (most recent call last)",
      "\u001b[0;32m<ipython-input-28-b597601fa195>\u001b[0m in \u001b[0;36m<module>\u001b[0;34m()\u001b[0m\n\u001b[0;32m----> 1\u001b[0;31m \u001b[0mtype\u001b[0m\u001b[0;34m(\u001b[0m\u001b[0mlis_1\u001b[0m\u001b[0;34m)\u001b[0m\u001b[0;34m\u001b[0m\u001b[0;34m\u001b[0m\u001b[0m\n\u001b[0m",
      "\u001b[0;31mNameError\u001b[0m: name 'lis_1' is not defined"
     ]
    }
   ],
   "source": [
    "type(lis_1)"
   ]
  },
  {
   "cell_type": "markdown",
   "metadata": {
    "id": "bz8ns3dmcOo-"
   },
   "source": [
    "Lists has the same operations as an array"
   ]
  },
  {
   "cell_type": "code",
   "execution_count": null,
   "metadata": {
    "colab": {
     "base_uri": "https://localhost:8080/",
     "height": 54
    },
    "executionInfo": {
     "elapsed": 1567,
     "status": "ok",
     "timestamp": 1585577694415,
     "user": {
      "displayName": "Alok Yadav",
      "photoUrl": "https://lh3.googleusercontent.com/a-/AOh14GizZFMCB8-eVvEF7cC9zt8SGXsUNNmSz3Ka92VAXw=s64",
      "userId": "13695401162967392961"
     },
     "user_tz": -330
    },
    "id": "aw5qsi5kcOpA",
    "outputId": "72cf1276-ae0c-49cd-a611-bf125b0b97ee"
   },
   "outputs": [
    {
     "name": "stdout",
     "output_type": "stream",
     "text": [
      "[70, 50, 30, 12]\n",
      "4\n"
     ]
    }
   ],
   "source": [
    "lis_1.append(10) #append adds the element at the last of the list\n",
    "lis_1.count(2) #returns the number of appearances of the given element\n",
    "lis_1.extend(lis_2) #adds elements of the second list in the first list\n",
    "lis_1.insert(5,50) #inserts the element 50 at index 5\n",
    "lis_1.pop(2) #pops out the element at index 2\n",
    "lis_1.remove(3) #remove element = 3\n",
    "lis_2.sort(reverse = True) #sort the list in an increasing order\n",
    "print(lis_2)\n",
    "print (len(lis_2)) #len() function returns the length of the list that is passed"
   ]
  },
  {
   "cell_type": "code",
   "execution_count": null,
   "metadata": {
    "colab": {
     "base_uri": "https://localhost:8080/",
     "height": 35
    },
    "executionInfo": {
     "elapsed": 692,
     "status": "ok",
     "timestamp": 1594608263846,
     "user": {
      "displayName": "Alok Yadav",
      "photoUrl": "https://lh3.googleusercontent.com/a-/AOh14GizZFMCB8-eVvEF7cC9zt8SGXsUNNmSz3Ka92VAXw=s64",
      "userId": "13695401162967392961"
     },
     "user_tz": -330
    },
    "id": "ZkUXulzFQ-k5",
    "outputId": "150f03ce-63fb-4232-cba1-a31489f9cef3"
   },
   "outputs": [
    {
     "data": {
      "text/plain": [
       "0"
      ]
     },
     "execution_count": 23,
     "metadata": {
      "tags": []
     },
     "output_type": "execute_result"
    }
   ],
   "source": [
    "len(lis_2)"
   ]
  },
  {
   "cell_type": "code",
   "execution_count": null,
   "metadata": {
    "colab": {
     "base_uri": "https://localhost:8080/",
     "height": 35
    },
    "executionInfo": {
     "elapsed": 1281,
     "status": "ok",
     "timestamp": 1578287624201,
     "user": {
      "displayName": "Alok Yadav",
      "photoUrl": "https://lh3.googleusercontent.com/a-/AAuE7mCoOPX57BUgY2lDZ55QM_P9IlAdFR6kykkAi76Yaw=s64",
      "userId": "13695401162967392961"
     },
     "user_tz": -330
    },
    "id": "RiU_sDOZRRvs",
    "outputId": "fd2db575-ed92-42d6-fba4-884ccd242942"
   },
   "outputs": [
    {
     "name": "stdout",
     "output_type": "stream",
     "text": [
      "None\n"
     ]
    }
   ],
   "source": [
    "print(lis_3)"
   ]
  },
  {
   "cell_type": "code",
   "execution_count": null,
   "metadata": {
    "id": "mjaGuKQvcOpF"
   },
   "outputs": [],
   "source": [
    "lis_1.clear() #clears all the elements of the list\n",
    "del(lis_1) #deletes the whole list (no instance in the memory left)"
   ]
  },
  {
   "cell_type": "markdown",
   "metadata": {
    "id": "ps_EwYFbcOpJ"
   },
   "source": [
    "#### Tuples"
   ]
  },
  {
   "cell_type": "markdown",
   "metadata": {
    "id": "rSFB1cfvcOpK"
   },
   "source": [
    "In tuples alse we can store elements of any datatype. Only difference is that we cannot manipulate the tuple or in \n",
    "other words tuples are immutable. Tuples are generally defined in ()."
   ]
  },
  {
   "cell_type": "code",
   "execution_count": null,
   "metadata": {
    "colab": {
     "base_uri": "https://localhost:8080/"
    },
    "executionInfo": {
     "elapsed": 369,
     "status": "ok",
     "timestamp": 1632410699597,
     "user": {
      "displayName": "Alok Yadav",
      "photoUrl": "https://lh3.googleusercontent.com/a-/AOh14GizZFMCB8-eVvEF7cC9zt8SGXsUNNmSz3Ka92VAXw=s64",
      "userId": "13695401162967392961"
     },
     "user_tz": -330
    },
    "id": "4Gi9Kt3mTB8V",
    "outputId": "73de3449-1908-44d7-c552-5c6d36f5e69b"
   },
   "outputs": [
    {
     "data": {
      "text/plain": [
       "list"
      ]
     },
     "execution_count": 31,
     "metadata": {},
     "output_type": "execute_result"
    }
   ],
   "source": [
    "list_1 = [1,2,3,4,'abc','pqr']\n",
    "type(list_1)"
   ]
  },
  {
   "cell_type": "code",
   "execution_count": null,
   "metadata": {
    "colab": {
     "base_uri": "https://localhost:8080/"
    },
    "executionInfo": {
     "elapsed": 13,
     "status": "ok",
     "timestamp": 1632410702242,
     "user": {
      "displayName": "Alok Yadav",
      "photoUrl": "https://lh3.googleusercontent.com/a-/AOh14GizZFMCB8-eVvEF7cC9zt8SGXsUNNmSz3Ka92VAXw=s64",
      "userId": "13695401162967392961"
     },
     "user_tz": -330
    },
    "id": "8L-WLurT0-a5",
    "outputId": "a0b38a61-3181-4596-9bb6-e30c752451a7"
   },
   "outputs": [
    {
     "data": {
      "text/plain": [
       "tuple"
      ]
     },
     "execution_count": 32,
     "metadata": {},
     "output_type": "execute_result"
    }
   ],
   "source": [
    "tuple1=tuple(list_1)\n",
    "type(tuple1)"
   ]
  },
  {
   "cell_type": "code",
   "execution_count": null,
   "metadata": {
    "colab": {
     "base_uri": "https://localhost:8080/"
    },
    "executionInfo": {
     "elapsed": 480,
     "status": "ok",
     "timestamp": 1625398052160,
     "user": {
      "displayName": "Alok Yadav",
      "photoUrl": "https://lh3.googleusercontent.com/a-/AOh14GizZFMCB8-eVvEF7cC9zt8SGXsUNNmSz3Ka92VAXw=s64",
      "userId": "13695401162967392961"
     },
     "user_tz": -330
    },
    "id": "B84z41IWcOpM",
    "outputId": "41c8ad9d-1bc5-4f92-c040-3615e289d6e9"
   },
   "outputs": [
    {
     "name": "stdout",
     "output_type": "stream",
     "text": [
      "(1, 2, 3, 4, 'abc', 'pqr')\n",
      "(60, 70, 80)\n",
      "(1, 2, 3, 4, 'abc', 'pqr', 60, 70, 80)\n"
     ]
    }
   ],
   "source": [
    "tup_1 = (1,2,3,4,'abc','pqr')\n",
    "tup_2 = (60,70,80)\n",
    "#we can concatenate two tuples as it wont affect the actual tuples\n",
    "concat_ = tup_1 + tup_2\n",
    "print (tup_1)\n",
    "print (tup_2)\n",
    "print (concat_)"
   ]
  },
  {
   "cell_type": "code",
   "execution_count": null,
   "metadata": {
    "colab": {
     "base_uri": "https://localhost:8080/",
     "height": 164
    },
    "executionInfo": {
     "elapsed": 362,
     "status": "error",
     "timestamp": 1632410783082,
     "user": {
      "displayName": "Alok Yadav",
      "photoUrl": "https://lh3.googleusercontent.com/a-/AOh14GizZFMCB8-eVvEF7cC9zt8SGXsUNNmSz3Ka92VAXw=s64",
      "userId": "13695401162967392961"
     },
     "user_tz": -330
    },
    "id": "qDyErl7pEs-I",
    "outputId": "2fb88871-209d-4ff0-bb53-3484e7219646"
   },
   "outputs": [
    {
     "ename": "NameError",
     "evalue": "ignored",
     "output_type": "error",
     "traceback": [
      "\u001b[0;31m---------------------------------------------------------------------------\u001b[0m",
      "\u001b[0;31mNameError\u001b[0m                                 Traceback (most recent call last)",
      "\u001b[0;32m<ipython-input-34-3e63113d4d3c>\u001b[0m in \u001b[0;36m<module>\u001b[0;34m()\u001b[0m\n\u001b[0;32m----> 1\u001b[0;31m \u001b[0mconcat_\u001b[0m\u001b[0;34m.\u001b[0m\u001b[0mpop\u001b[0m\u001b[0;34m(\u001b[0m\u001b[0;34m)\u001b[0m\u001b[0;34m\u001b[0m\u001b[0;34m\u001b[0m\u001b[0m\n\u001b[0m",
      "\u001b[0;31mNameError\u001b[0m: name 'concat_' is not defined"
     ]
    }
   ],
   "source": [
    "concat_.pop()"
   ]
  },
  {
   "cell_type": "code",
   "execution_count": null,
   "metadata": {
    "colab": {
     "base_uri": "https://localhost:8080/",
     "height": 164
    },
    "executionInfo": {
     "elapsed": 382,
     "status": "error",
     "timestamp": 1632410805479,
     "user": {
      "displayName": "Alok Yadav",
      "photoUrl": "https://lh3.googleusercontent.com/a-/AOh14GizZFMCB8-eVvEF7cC9zt8SGXsUNNmSz3Ka92VAXw=s64",
      "userId": "13695401162967392961"
     },
     "user_tz": -330
    },
    "id": "Yqc35xldeTRS",
    "outputId": "482a0796-b055-4eee-a000-8d8ef05dd8a9"
   },
   "outputs": [
    {
     "ename": "NameError",
     "evalue": "ignored",
     "output_type": "error",
     "traceback": [
      "\u001b[0;31m---------------------------------------------------------------------------\u001b[0m",
      "\u001b[0;31mNameError\u001b[0m                                 Traceback (most recent call last)",
      "\u001b[0;32m<ipython-input-35-0d0535af245a>\u001b[0m in \u001b[0;36m<module>\u001b[0;34m()\u001b[0m\n\u001b[0;32m----> 1\u001b[0;31m \u001b[0mconcat_\u001b[0m\u001b[0;34m[\u001b[0m\u001b[0;36m4\u001b[0m\u001b[0;34m]\u001b[0m\u001b[0;34m=\u001b[0m\u001b[0;36m100\u001b[0m\u001b[0;34m\u001b[0m\u001b[0;34m\u001b[0m\u001b[0m\n\u001b[0m",
      "\u001b[0;31mNameError\u001b[0m: name 'concat_' is not defined"
     ]
    }
   ],
   "source": [
    "concat_[4]=100"
   ]
  },
  {
   "cell_type": "markdown",
   "metadata": {
    "id": "tzUq9ePxcOpQ"
   },
   "source": [
    "#### Dictionary:"
   ]
  },
  {
   "cell_type": "markdown",
   "metadata": {
    "id": "wJKZAc1-cOpS"
   },
   "source": [
    "Dictionary store values in key and value format. In order to access values in dictionary we use key's instead of indices."
   ]
  },
  {
   "cell_type": "markdown",
   "metadata": {
    "id": "OCjYjAl3cOpV"
   },
   "source": [
    "#### Operation on dictionary:"
   ]
  },
  {
   "cell_type": "code",
   "execution_count": null,
   "metadata": {
    "colab": {
     "base_uri": "https://localhost:8080/"
    },
    "executionInfo": {
     "elapsed": 2247,
     "status": "ok",
     "timestamp": 1616604050274,
     "user": {
      "displayName": "Alok Yadav",
      "photoUrl": "https://lh3.googleusercontent.com/a-/AOh14GizZFMCB8-eVvEF7cC9zt8SGXsUNNmSz3Ka92VAXw=s64",
      "userId": "13695401162967392961"
     },
     "user_tz": -330
    },
    "id": "aw2MFZYhhpVw",
    "outputId": "6f766762-0dff-4978-8218-2b8693137fb6"
   },
   "outputs": [
    {
     "data": {
      "text/plain": [
       "dict"
      ]
     },
     "execution_count": 2,
     "metadata": {
      "tags": []
     },
     "output_type": "execute_result"
    }
   ],
   "source": [
    "dict1={ 1:100, 2:200}\n",
    "type(dict1)"
   ]
  },
  {
   "cell_type": "code",
   "execution_count": 1,
   "metadata": {
    "colab": {
     "base_uri": "https://localhost:8080/"
    },
    "executionInfo": {
     "elapsed": 1643,
     "status": "ok",
     "timestamp": 1632494650685,
     "user": {
      "displayName": "Alok Yadav",
      "photoUrl": "https://lh3.googleusercontent.com/a-/AOh14GizZFMCB8-eVvEF7cC9zt8SGXsUNNmSz3Ka92VAXw=s64",
      "userId": "13695401162967392961"
     },
     "user_tz": -330
    },
    "id": "PkyXkchRcOpW",
    "outputId": "c8c8027a-27bb-40c3-f0c5-34ac9e92d4b8"
   },
   "outputs": [
    {
     "name": "stdout",
     "output_type": "stream",
     "text": [
      "12345\n"
     ]
    }
   ],
   "source": [
    "dict_ = {'john':12345,'michael':67890,'Abrahm':45678,'David':89234,'Smith':23789}\n",
    "print (dict_['john']) #accessing a value in dictionary we need to call by key"
   ]
  },
  {
   "cell_type": "markdown",
   "metadata": {
    "id": "Tm35nlIw2psZ"
   },
   "source": []
  },
  {
   "cell_type": "code",
   "execution_count": 2,
   "metadata": {
    "colab": {
     "base_uri": "https://localhost:8080/"
    },
    "executionInfo": {
     "elapsed": 10,
     "status": "ok",
     "timestamp": 1632494650687,
     "user": {
      "displayName": "Alok Yadav",
      "photoUrl": "https://lh3.googleusercontent.com/a-/AOh14GizZFMCB8-eVvEF7cC9zt8SGXsUNNmSz3Ka92VAXw=s64",
      "userId": "13695401162967392961"
     },
     "user_tz": -330
    },
    "id": "Fo-1Y-C9p9ij",
    "outputId": "ed63eae7-c66f-4d89-f150-384d524e65d0"
   },
   "outputs": [
    {
     "data": {
      "text/plain": [
       "{'Abrahm': 45678,\n",
       " 'David': 89234,\n",
       " 'Smith': 23789,\n",
       " 'john': 12345,\n",
       " 'michael': 67890}"
      ]
     },
     "execution_count": 2,
     "metadata": {},
     "output_type": "execute_result"
    }
   ],
   "source": [
    "dict_"
   ]
  },
  {
   "cell_type": "code",
   "execution_count": 3,
   "metadata": {
    "colab": {
     "base_uri": "https://localhost:8080/"
    },
    "executionInfo": {
     "elapsed": 369,
     "status": "ok",
     "timestamp": 1632494665640,
     "user": {
      "displayName": "Alok Yadav",
      "photoUrl": "https://lh3.googleusercontent.com/a-/AOh14GizZFMCB8-eVvEF7cC9zt8SGXsUNNmSz3Ka92VAXw=s64",
      "userId": "13695401162967392961"
     },
     "user_tz": -330
    },
    "id": "O1HTWqL7cOpg",
    "outputId": "687b0b27-80ef-457f-f52d-9b258635fda4"
   },
   "outputs": [
    {
     "data": {
      "text/plain": [
       "{'Abrahm': 12345678,\n",
       " 'David': 89234,\n",
       " 'Smith': 23789,\n",
       " 'john': 12345,\n",
       " 'michael': 67890}"
      ]
     },
     "execution_count": 3,
     "metadata": {},
     "output_type": "execute_result"
    }
   ],
   "source": [
    "dict_['Abrahm'] = 12345678 #to change value in dictionary, we directly give new value to that perticular key\n",
    "dict_"
   ]
  },
  {
   "cell_type": "code",
   "execution_count": 4,
   "metadata": {
    "colab": {
     "base_uri": "https://localhost:8080/"
    },
    "executionInfo": {
     "elapsed": 398,
     "status": "ok",
     "timestamp": 1632494672499,
     "user": {
      "displayName": "Alok Yadav",
      "photoUrl": "https://lh3.googleusercontent.com/a-/AOh14GizZFMCB8-eVvEF7cC9zt8SGXsUNNmSz3Ka92VAXw=s64",
      "userId": "13695401162967392961"
     },
     "user_tz": -330
    },
    "id": "20z30Z5mcOpm",
    "outputId": "6faff8dd-2697-4451-fc6b-f40b1da5dce5"
   },
   "outputs": [
    {
     "data": {
      "text/plain": [
       "dict_keys(['john', 'michael', 'Abrahm', 'David', 'Smith'])"
      ]
     },
     "execution_count": 4,
     "metadata": {},
     "output_type": "execute_result"
    }
   ],
   "source": [
    "dict_.keys() #to get all keys"
   ]
  },
  {
   "cell_type": "code",
   "execution_count": 5,
   "metadata": {
    "colab": {
     "base_uri": "https://localhost:8080/"
    },
    "executionInfo": {
     "elapsed": 6,
     "status": "ok",
     "timestamp": 1632494674197,
     "user": {
      "displayName": "Alok Yadav",
      "photoUrl": "https://lh3.googleusercontent.com/a-/AOh14GizZFMCB8-eVvEF7cC9zt8SGXsUNNmSz3Ka92VAXw=s64",
      "userId": "13695401162967392961"
     },
     "user_tz": -330
    },
    "id": "C-jJNRVmcOpq",
    "outputId": "c8e50951-348c-4b3f-de20-ce766e130cfd"
   },
   "outputs": [
    {
     "data": {
      "text/plain": [
       "dict_values([12345, 67890, 12345678, 89234, 23789])"
      ]
     },
     "execution_count": 5,
     "metadata": {},
     "output_type": "execute_result"
    }
   ],
   "source": [
    "dict_.values() #to get all values"
   ]
  },
  {
   "cell_type": "code",
   "execution_count": 6,
   "metadata": {
    "colab": {
     "base_uri": "https://localhost:8080/"
    },
    "executionInfo": {
     "elapsed": 374,
     "status": "ok",
     "timestamp": 1632494681485,
     "user": {
      "displayName": "Alok Yadav",
      "photoUrl": "https://lh3.googleusercontent.com/a-/AOh14GizZFMCB8-eVvEF7cC9zt8SGXsUNNmSz3Ka92VAXw=s64",
      "userId": "13695401162967392961"
     },
     "user_tz": -330
    },
    "id": "2N0KRzvNcOpv",
    "outputId": "56d728a4-9bd5-4a75-825c-1f39a343c9df"
   },
   "outputs": [
    {
     "data": {
      "text/plain": [
       "{'Abrahm': 12345678,\n",
       " 'David': 89234,\n",
       " 'Smith': 23789,\n",
       " 'john': '00000',\n",
       " 'michael': 67890}"
      ]
     },
     "execution_count": 6,
     "metadata": {},
     "output_type": "execute_result"
    }
   ],
   "source": [
    "dict_['john'] = '00000' #to add new value to dictionary we specify the new key and the new value\n",
    "dict_"
   ]
  },
  {
   "cell_type": "code",
   "execution_count": 8,
   "metadata": {
    "colab": {
     "base_uri": "https://localhost:8080/",
     "height": 35
    },
    "executionInfo": {
     "elapsed": 359,
     "status": "ok",
     "timestamp": 1632494703569,
     "user": {
      "displayName": "Alok Yadav",
      "photoUrl": "https://lh3.googleusercontent.com/a-/AOh14GizZFMCB8-eVvEF7cC9zt8SGXsUNNmSz3Ka92VAXw=s64",
      "userId": "13695401162967392961"
     },
     "user_tz": -330
    },
    "id": "lrXLHLLxcOp0",
    "outputId": "19907ba8-fb20-4868-f7c3-d97006f825b4"
   },
   "outputs": [
    {
     "data": {
      "application/vnd.google.colaboratory.intrinsic+json": {
       "type": "string"
      },
      "text/plain": [
       "'00000'"
      ]
     },
     "execution_count": 8,
     "metadata": {},
     "output_type": "execute_result"
    }
   ],
   "source": [
    "dict_.pop('john') #pops out the value of the key that has been passed"
   ]
  },
  {
   "cell_type": "code",
   "execution_count": 11,
   "metadata": {
    "colab": {
     "base_uri": "https://localhost:8080/"
    },
    "executionInfo": {
     "elapsed": 377,
     "status": "ok",
     "timestamp": 1632494723373,
     "user": {
      "displayName": "Alok Yadav",
      "photoUrl": "https://lh3.googleusercontent.com/a-/AOh14GizZFMCB8-eVvEF7cC9zt8SGXsUNNmSz3Ka92VAXw=s64",
      "userId": "13695401162967392961"
     },
     "user_tz": -330
    },
    "id": "5C4HWeywF_mv",
    "outputId": "b25e94fa-a924-427e-bbb1-e7a8281f32b5"
   },
   "outputs": [
    {
     "data": {
      "text/plain": [
       "{'Abrahm': 12345678, 'David': 89234, 'Smith': 23789, 'michael': 67890}"
      ]
     },
     "execution_count": 11,
     "metadata": {},
     "output_type": "execute_result"
    }
   ],
   "source": [
    "dict_"
   ]
  },
  {
   "cell_type": "code",
   "execution_count": 12,
   "metadata": {
    "colab": {
     "base_uri": "https://localhost:8080/"
    },
    "executionInfo": {
     "elapsed": 367,
     "status": "ok",
     "timestamp": 1632494742166,
     "user": {
      "displayName": "Alok Yadav",
      "photoUrl": "https://lh3.googleusercontent.com/a-/AOh14GizZFMCB8-eVvEF7cC9zt8SGXsUNNmSz3Ka92VAXw=s64",
      "userId": "13695401162967392961"
     },
     "user_tz": -330
    },
    "id": "K8B7BWGCcOp4",
    "outputId": "90723ddf-71e3-4da9-b219-8f3cc4e70180"
   },
   "outputs": [
    {
     "data": {
      "text/plain": [
       "{}"
      ]
     },
     "execution_count": 12,
     "metadata": {},
     "output_type": "execute_result"
    }
   ],
   "source": [
    "dict_.clear() # clears all the element of the dictionary but the instance of the dictionary still remains in the memory\n",
    "dict_"
   ]
  },
  {
   "cell_type": "code",
   "execution_count": 13,
   "metadata": {
    "executionInfo": {
     "elapsed": 368,
     "status": "ok",
     "timestamp": 1632494766446,
     "user": {
      "displayName": "Alok Yadav",
      "photoUrl": "https://lh3.googleusercontent.com/a-/AOh14GizZFMCB8-eVvEF7cC9zt8SGXsUNNmSz3Ka92VAXw=s64",
      "userId": "13695401162967392961"
     },
     "user_tz": -330
    },
    "id": "bKW4AuXrcOp8"
   },
   "outputs": [],
   "source": [
    "del(dict_) #deletes the dictionary, i.e no values remain inside the dictionary"
   ]
  },
  {
   "cell_type": "code",
   "execution_count": 14,
   "metadata": {
    "colab": {
     "base_uri": "https://localhost:8080/",
     "height": 164
    },
    "executionInfo": {
     "elapsed": 370,
     "status": "error",
     "timestamp": 1632494780271,
     "user": {
      "displayName": "Alok Yadav",
      "photoUrl": "https://lh3.googleusercontent.com/a-/AOh14GizZFMCB8-eVvEF7cC9zt8SGXsUNNmSz3Ka92VAXw=s64",
      "userId": "13695401162967392961"
     },
     "user_tz": -330
    },
    "id": "YCGgds9ZRVgo",
    "outputId": "aaae6a9a-99a2-40f6-c879-b19197956a6c"
   },
   "outputs": [
    {
     "ename": "NameError",
     "evalue": "ignored",
     "output_type": "error",
     "traceback": [
      "\u001b[0;31m---------------------------------------------------------------------------\u001b[0m",
      "\u001b[0;31mNameError\u001b[0m                                 Traceback (most recent call last)",
      "\u001b[0;32m<ipython-input-14-9cb73149bc78>\u001b[0m in \u001b[0;36m<module>\u001b[0;34m()\u001b[0m\n\u001b[0;32m----> 1\u001b[0;31m \u001b[0mdict_\u001b[0m\u001b[0;34m\u001b[0m\u001b[0;34m\u001b[0m\u001b[0m\n\u001b[0m",
      "\u001b[0;31mNameError\u001b[0m: name 'dict_' is not defined"
     ]
    }
   ],
   "source": [
    "dict_"
   ]
  },
  {
   "cell_type": "markdown",
   "metadata": {
    "id": "WtyIIosRcOp_"
   },
   "source": [
    "#### Converting list to tuple and vice-versa"
   ]
  },
  {
   "cell_type": "code",
   "execution_count": null,
   "metadata": {
    "colab": {
     "base_uri": "https://localhost:8080/",
     "height": 35
    },
    "executionInfo": {
     "elapsed": 941,
     "status": "ok",
     "timestamp": 1594608919446,
     "user": {
      "displayName": "Alok Yadav",
      "photoUrl": "https://lh3.googleusercontent.com/a-/AOh14GizZFMCB8-eVvEF7cC9zt8SGXsUNNmSz3Ka92VAXw=s64",
      "userId": "13695401162967392961"
     },
     "user_tz": -330
    },
    "id": "2l9a-0V7cOqA",
    "outputId": "2632fcfe-7263-47b2-b388-9dc7d7aba48a"
   },
   "outputs": [
    {
     "data": {
      "text/plain": [
       "list"
      ]
     },
     "execution_count": 37,
     "metadata": {
      "tags": []
     },
     "output_type": "execute_result"
    }
   ],
   "source": [
    "x = (1,2,3,4) #tuple\n",
    "# 'x' is a tuple ,in order to convert tuple to list we use\n",
    "y = list(x)\n",
    "type(y)\n",
    "#Now 'y' is a list, similarly we use tuple() to convert a list to tuple"
   ]
  },
  {
   "cell_type": "markdown",
   "metadata": {
    "id": "k4FncmLzcOqF"
   },
   "source": [
    "###### Practise Questions:"
   ]
  },
  {
   "cell_type": "code",
   "execution_count": null,
   "metadata": {
    "id": "gqDwCyoGcOqH"
   },
   "outputs": [],
   "source": [
    "#perform the following operations on the given list.\n",
    "x = [1,2,3,4,5,6]\n",
    "# update the element at index 0 by 150\n",
    "# add an element 50 between 2 and 3\n",
    "# add an element 100 at the end\n",
    "# remove element 3 by passing index as parameter\n",
    "# copy the elements of z = [10,20] in x"
   ]
  },
  {
   "cell_type": "code",
   "execution_count": null,
   "metadata": {
    "id": "eEqC9XjMcOqK"
   },
   "outputs": [],
   "source": [
    "# Perform the following operations on the dictionary:\n",
    "## create a dictionary containing 5 names and their ages\n",
    "## update the age of one of the person\n",
    "## insert one more name with age 30\n",
    "## clear all the elements of this dict"
   ]
  }
 ],
 "metadata": {
  "colab": {
   "name": "Session_2 DS.ipynb",
   "provenance": []
  },
  "kernelspec": {
   "display_name": "Python 3",
   "language": "python",
   "name": "python3"
  },
  "language_info": {
   "codemirror_mode": {
    "name": "ipython",
    "version": 3
   },
   "file_extension": ".py",
   "mimetype": "text/x-python",
   "name": "python",
   "nbconvert_exporter": "python",
   "pygments_lexer": "ipython3",
   "version": "3.8.8"
  }
 },
 "nbformat": 4,
 "nbformat_minor": 2
}
