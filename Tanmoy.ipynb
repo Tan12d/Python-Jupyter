{
 "cells": [
  {
   "cell_type": "code",
   "execution_count": 8,
   "id": "b0a2d97d",
   "metadata": {},
   "outputs": [
    {
     "name": "stdout",
     "output_type": "stream",
     "text": [
      "hello world\n",
      "python demo\n",
      "5\n"
     ]
    }
   ],
   "source": [
    "# A simple print statement is \n",
    "print ('hello world') #whatever message you want to print is given in quotes (single/double)\n",
    "# if you want to print the varible value, pass the name of the variable without any quotes\n",
    "print_ = 'python demo' #print_ is a varibale having value 'python demo'\n",
    "a=2+3\n",
    "print (print_)\n",
    "print(a)\n"
   ]
  },
  {
   "cell_type": "code",
   "execution_count": 9,
   "id": "a6c6847d",
   "metadata": {},
   "outputs": [
    {
     "data": {
      "text/plain": [
       "int"
      ]
     },
     "execution_count": 9,
     "metadata": {},
     "output_type": "execute_result"
    }
   ],
   "source": [
    "x = 12 # stores an integer value\n",
    "type (x) #type(): use to check type of the value that is stored"
   ]
  },
  {
   "cell_type": "code",
   "execution_count": 10,
   "id": "2c0f7446",
   "metadata": {},
   "outputs": [
    {
     "ename": "NameError",
     "evalue": "name 'true' is not defined",
     "output_type": "error",
     "traceback": [
      "\u001b[1;31m---------------------------------------------------------------------------\u001b[0m",
      "\u001b[1;31mNameError\u001b[0m                                 Traceback (most recent call last)",
      "\u001b[1;32m<ipython-input-10-8bcfb115349a>\u001b[0m in \u001b[0;36m<module>\u001b[1;34m\u001b[0m\n\u001b[1;32m----> 1\u001b[1;33m \u001b[0mx\u001b[0m \u001b[1;33m=\u001b[0m \u001b[0mtrue\u001b[0m \u001b[1;31m# stores an integer value\u001b[0m\u001b[1;33m\u001b[0m\u001b[1;33m\u001b[0m\u001b[0m\n\u001b[0m\u001b[0;32m      2\u001b[0m \u001b[0mtype\u001b[0m \u001b[1;33m(\u001b[0m\u001b[0mx\u001b[0m\u001b[1;33m)\u001b[0m \u001b[1;31m#type(): use to check type of the value that is stored\u001b[0m\u001b[1;33m\u001b[0m\u001b[1;33m\u001b[0m\u001b[0m\n",
      "\u001b[1;31mNameError\u001b[0m: name 'true' is not defined"
     ]
    }
   ],
   "source": [
    "x = true # stores an integer value\n",
    "type (x) #type(): use to check type of the value that is stored"
   ]
  },
  {
   "cell_type": "code",
   "execution_count": 11,
   "id": "1a67c6a8",
   "metadata": {},
   "outputs": [
    {
     "ename": "NameError",
     "evalue": "name 'hello' is not defined",
     "output_type": "error",
     "traceback": [
      "\u001b[1;31m---------------------------------------------------------------------------\u001b[0m",
      "\u001b[1;31mNameError\u001b[0m                                 Traceback (most recent call last)",
      "\u001b[1;32m<ipython-input-11-c20ed81dc6ec>\u001b[0m in \u001b[0;36m<module>\u001b[1;34m\u001b[0m\n\u001b[1;32m----> 1\u001b[1;33m \u001b[0mx\u001b[0m \u001b[1;33m=\u001b[0m \u001b[0mhello\u001b[0m \u001b[1;31m# stores an integer value\u001b[0m\u001b[1;33m\u001b[0m\u001b[1;33m\u001b[0m\u001b[0m\n\u001b[0m\u001b[0;32m      2\u001b[0m \u001b[0mtype\u001b[0m \u001b[1;33m(\u001b[0m\u001b[0mx\u001b[0m\u001b[1;33m)\u001b[0m \u001b[1;31m#type(): use to check type of the value that is stored\u001b[0m\u001b[1;33m\u001b[0m\u001b[1;33m\u001b[0m\u001b[0m\n\u001b[0;32m      3\u001b[0m \u001b[0mint\u001b[0m\u001b[1;33m\u001b[0m\u001b[1;33m\u001b[0m\u001b[0m\n",
      "\u001b[1;31mNameError\u001b[0m: name 'hello' is not defined"
     ]
    }
   ],
   "source": [
    "x = hello # stores an integer value\n",
    "type (x) #type(): use to check type of the value that is stored\n",
    "int"
   ]
  },
  {
   "cell_type": "code",
   "execution_count": 12,
   "id": "f2efb145",
   "metadata": {},
   "outputs": [
    {
     "data": {
      "text/plain": [
       "float"
      ]
     },
     "execution_count": 12,
     "metadata": {},
     "output_type": "execute_result"
    }
   ],
   "source": [
    "x = 12.5 #stores a decimal value\n",
    "type(x)\n",
    "# In above eg we have used x to store 12 and here also we used the same x to store value 12.5, hence the variable value \n",
    "# is now modified to 12.5"
   ]
  },
  {
   "cell_type": "code",
   "execution_count": 13,
   "id": "3f8f20e6",
   "metadata": {},
   "outputs": [
    {
     "data": {
      "text/plain": [
       "float"
      ]
     },
     "execution_count": 13,
     "metadata": {},
     "output_type": "execute_result"
    }
   ],
   "source": [
    "x = 12.56789729213383849384864 #stores a decimal value\n",
    "type(x)\n",
    "# In above eg we have used x to store 12 and here also we used the same x to store value 12.5, hence the variable value \n",
    "# is now modified to 12.5"
   ]
  },
  {
   "cell_type": "code",
   "execution_count": 14,
   "id": "ab29f8a7",
   "metadata": {},
   "outputs": [
    {
     "data": {
      "text/plain": [
       "complex"
      ]
     },
     "execution_count": 14,
     "metadata": {},
     "output_type": "execute_result"
    }
   ],
   "source": [
    "#In python we store complex values as a+bj\n",
    "comp_ = 3+4j\n",
    "type(comp_)"
   ]
  },
  {
   "cell_type": "code",
   "execution_count": 2,
   "id": "48316b7b",
   "metadata": {
    "scrolled": true
   },
   "outputs": [
    {
     "name": "stdout",
     "output_type": "stream",
     "text": [
      "7\n",
      "3\n",
      "12\n",
      "3.3333333333333335\n",
      "3\n",
      "2\n"
     ]
    }
   ],
   "source": [
    "#Arithmatic Operators: (+,-,*,/,//,%)\n",
    "print (3+4) #addition\n",
    "print (5-2) #Subtraction\n",
    "print (6*2) #Multiplication\n",
    "print (10/3) #Division\n",
    "print (10//3) #Floor division (quotient is rounded off to nearest integer)\n",
    "print (14%3) #Returns the remainder of the division"
   ]
  },
  {
   "cell_type": "code",
   "execution_count": 16,
   "id": "76f1cdfa",
   "metadata": {},
   "outputs": [
    {
     "name": "stdout",
     "output_type": "stream",
     "text": [
      "True\n",
      "False\n",
      "True\n",
      "False\n",
      "True\n",
      "False\n"
     ]
    }
   ],
   "source": [
    "#comparision operators:\n",
    "#comparision operators compare the two values and return boolean (True and False)\n",
    "a = 9\n",
    "b = 3\n",
    "print (a > b) #greater then\n",
    "print (a < b) #less then\n",
    "print (a >= b) #greater then equal to\n",
    "print (a <= b) #less then equal to\n",
    "print (a != b) #Not equals to\n",
    "print (a == b) #equals to"
   ]
  },
  {
   "cell_type": "code",
   "execution_count": 3,
   "id": "a635ff8e",
   "metadata": {},
   "outputs": [
    {
     "name": "stdout",
     "output_type": "stream",
     "text": [
      "11\n"
     ]
    }
   ],
   "source": [
    "# Assignment Operators:\n",
    "# it assigns the value to whatever variable on the left side\n",
    "a = 5 #assigning value to variable a\n",
    "b = 6 #assigning value to variable b\n",
    "a += b #assigning value to a after addition of b to it\n",
    "print (a)\n",
    "#Similarly we have a-=b , a*=b , a/=b, a//=b and a%=b"
   ]
  },
  {
   "cell_type": "code",
   "execution_count": 4,
   "id": "fd8f6cd7",
   "metadata": {},
   "outputs": [
    {
     "name": "stdout",
     "output_type": "stream",
     "text": [
      "True\n",
      "False\n",
      "True\n",
      "False\n"
     ]
    }
   ],
   "source": [
    "#Logical operators: (and, or, not)\n",
    "#and returns true when all conditions with and are true for eg:\n",
    "a = 5\n",
    "b = 6 \n",
    "c = 'demo'\n",
    "print (a!=b and c=='demo') #since both conditions are True it returns True\n",
    "print (a==b and c=='demo') #since one condition is false it returns False\n",
    "#or return true if any of the conditions given is True for eg:\n",
    "print (a==b or c=='demo') #since any of the conditions given is true it returns true\n",
    "#not returns the inverse of true or false for eg\n",
    "print (not(True)) #inverse of true is false"
   ]
  },
  {
   "cell_type": "code",
   "execution_count": 5,
   "id": "59a6faba",
   "metadata": {},
   "outputs": [
    {
     "ename": "AttributeError",
     "evalue": "'str' object has no attribute 'lowercase'",
     "output_type": "error",
     "traceback": [
      "\u001b[1;31m---------------------------------------------------------------------------\u001b[0m",
      "\u001b[1;31mAttributeError\u001b[0m                            Traceback (most recent call last)",
      "\u001b[1;32m<ipython-input-5-71aa4b48cd19>\u001b[0m in \u001b[0;36m<module>\u001b[1;34m\u001b[0m\n\u001b[0;32m      1\u001b[0m \u001b[0ma\u001b[0m\u001b[1;33m=\u001b[0m\u001b[1;34m\"I AM A BOY\"\u001b[0m\u001b[1;33m\u001b[0m\u001b[1;33m\u001b[0m\u001b[0m\n\u001b[1;32m----> 2\u001b[1;33m \u001b[0ma\u001b[0m\u001b[1;33m.\u001b[0m\u001b[0mlowercase\u001b[0m\u001b[1;33m(\u001b[0m\u001b[1;33m)\u001b[0m\u001b[1;33m\u001b[0m\u001b[1;33m\u001b[0m\u001b[0m\n\u001b[0m",
      "\u001b[1;31mAttributeError\u001b[0m: 'str' object has no attribute 'lowercase'"
     ]
    }
   ],
   "source": [
    "a=\"I AM A BOY\"\n",
    "a.lowercase()\n"
   ]
  },
  {
   "cell_type": "code",
   "execution_count": 6,
   "id": "206838fb",
   "metadata": {},
   "outputs": [
    {
     "ename": "AttributeError",
     "evalue": "'str' object has no attribute 'lowercase'",
     "output_type": "error",
     "traceback": [
      "\u001b[1;31m---------------------------------------------------------------------------\u001b[0m",
      "\u001b[1;31mAttributeError\u001b[0m                            Traceback (most recent call last)",
      "\u001b[1;32m<ipython-input-6-a321af006a01>\u001b[0m in \u001b[0;36m<module>\u001b[1;34m\u001b[0m\n\u001b[0;32m      1\u001b[0m \u001b[0ma\u001b[0m\u001b[1;33m=\u001b[0m\u001b[1;34m\"I AM A BOY\"\u001b[0m\u001b[1;33m\u001b[0m\u001b[1;33m\u001b[0m\u001b[0m\n\u001b[1;32m----> 2\u001b[1;33m \u001b[0ma\u001b[0m\u001b[1;33m.\u001b[0m\u001b[0mlowercase\u001b[0m\u001b[1;33m\u001b[0m\u001b[1;33m\u001b[0m\u001b[0m\n\u001b[0m",
      "\u001b[1;31mAttributeError\u001b[0m: 'str' object has no attribute 'lowercase'"
     ]
    }
   ],
   "source": [
    "a=\"I AM A BOY\"\n",
    "a.lowercase"
   ]
  },
  {
   "cell_type": "code",
   "execution_count": null,
   "id": "e1acc2ef",
   "metadata": {},
   "outputs": [],
   "source": [
    "a=\"I AM A BOY\""
   ]
  },
  {
   "cell_type": "code",
   "execution_count": 7,
   "id": "a4314746",
   "metadata": {},
   "outputs": [
    {
     "ename": "AttributeError",
     "evalue": "'str' object has no attribute 'lowercase'",
     "output_type": "error",
     "traceback": [
      "\u001b[1;31m---------------------------------------------------------------------------\u001b[0m",
      "\u001b[1;31mAttributeError\u001b[0m                            Traceback (most recent call last)",
      "\u001b[1;32m<ipython-input-7-9019dfe9101d>\u001b[0m in \u001b[0;36m<module>\u001b[1;34m\u001b[0m\n\u001b[1;32m----> 1\u001b[1;33m \u001b[0ma\u001b[0m\u001b[1;33m.\u001b[0m\u001b[0mlowercase\u001b[0m\u001b[1;33m\u001b[0m\u001b[1;33m\u001b[0m\u001b[0m\n\u001b[0m",
      "\u001b[1;31mAttributeError\u001b[0m: 'str' object has no attribute 'lowercase'"
     ]
    }
   ],
   "source": [
    "a.lowercase"
   ]
  },
  {
   "cell_type": "code",
   "execution_count": 8,
   "id": "34054ef9",
   "metadata": {},
   "outputs": [
    {
     "data": {
      "text/plain": [
       "<function str.lower()>"
      ]
     },
     "execution_count": 8,
     "metadata": {},
     "output_type": "execute_result"
    }
   ],
   "source": [
    "a=\"I AM A BOY\"\n",
    "a.lower"
   ]
  },
  {
   "cell_type": "code",
   "execution_count": null,
   "id": "9d4b31a9",
   "metadata": {},
   "outputs": [],
   "source": [
    "a=\"I AM A BOY\""
   ]
  },
  {
   "cell_type": "code",
   "execution_count": 12,
   "id": "3eb04de9",
   "metadata": {},
   "outputs": [
    {
     "data": {
      "text/plain": [
       "'python is top most programming language'"
      ]
     },
     "execution_count": 12,
     "metadata": {},
     "output_type": "execute_result"
    }
   ],
   "source": [
    "a.lower()"
   ]
  },
  {
   "cell_type": "code",
   "execution_count": 10,
   "id": "653c2c3f",
   "metadata": {},
   "outputs": [
    {
     "data": {
      "text/plain": [
       "'python is top most programming language'"
      ]
     },
     "execution_count": 10,
     "metadata": {},
     "output_type": "execute_result"
    }
   ],
   "source": [
    "a='Python is top most programming language' \n",
    "a.lower()"
   ]
  },
  {
   "cell_type": "code",
   "execution_count": 13,
   "id": "14dc9096",
   "metadata": {},
   "outputs": [
    {
     "data": {
      "text/plain": [
       "'i am a boy'"
      ]
     },
     "execution_count": 13,
     "metadata": {},
     "output_type": "execute_result"
    }
   ],
   "source": [
    "a=\"I AM A BOY\"\n",
    "a.lower()"
   ]
  },
  {
   "cell_type": "code",
   "execution_count": 14,
   "id": "e3be67e4",
   "metadata": {},
   "outputs": [
    {
     "data": {
      "text/plain": [
       "'I AM A BOY'"
      ]
     },
     "execution_count": 14,
     "metadata": {},
     "output_type": "execute_result"
    }
   ],
   "source": [
    "a.upper()"
   ]
  },
  {
   "cell_type": "code",
   "execution_count": 15,
   "id": "ef3fb97b",
   "metadata": {},
   "outputs": [],
   "source": [
    "b=\"He is a man\""
   ]
  },
  {
   "cell_type": "code",
   "execution_count": 16,
   "id": "9e945cee",
   "metadata": {},
   "outputs": [
    {
     "data": {
      "text/plain": [
       "'HE IS A MAN'"
      ]
     },
     "execution_count": 16,
     "metadata": {},
     "output_type": "execute_result"
    }
   ],
   "source": [
    "b.upper()"
   ]
  },
  {
   "cell_type": "code",
   "execution_count": 17,
   "id": "cccfda3a",
   "metadata": {},
   "outputs": [
    {
     "data": {
      "text/plain": [
       "'He is a man'"
      ]
     },
     "execution_count": 17,
     "metadata": {},
     "output_type": "execute_result"
    }
   ],
   "source": [
    "b.capitalize()"
   ]
  },
  {
   "cell_type": "code",
   "execution_count": 19,
   "id": "df439178",
   "metadata": {},
   "outputs": [
    {
     "name": "stdout",
     "output_type": "stream",
     "text": [
      "True\n",
      "False\n"
     ]
    }
   ],
   "source": [
    "# Python code for implementation of isupper()\n",
    "  \n",
    "# checking for uppercase characters\n",
    "string1 = 'GEEKSFORGEEKS'\n",
    "print(string1.isupper())\n",
    "  \n",
    "string2 = 'GeeksforGeeks'\n",
    "print(string2.isupper())"
   ]
  },
  {
   "cell_type": "code",
   "execution_count": 20,
   "id": "f02cd583",
   "metadata": {},
   "outputs": [
    {
     "name": "stdout",
     "output_type": "stream",
     "text": [
      "False\n"
     ]
    }
   ],
   "source": [
    "string2 = 'GeeksforGeeks'\n",
    "print(string2.islower())"
   ]
  },
  {
   "cell_type": "code",
   "execution_count": 21,
   "id": "4e26e4a0",
   "metadata": {},
   "outputs": [
    {
     "name": "stdout",
     "output_type": "stream",
     "text": [
      "True\n"
     ]
    }
   ],
   "source": [
    "string2 = 'geeksforgeeks'\n",
    "print(string2.islower())"
   ]
  },
  {
   "cell_type": "code",
   "execution_count": 22,
   "id": "a50ad3ba",
   "metadata": {},
   "outputs": [
    {
     "data": {
      "text/plain": [
       "'g'"
      ]
     },
     "execution_count": 22,
     "metadata": {},
     "output_type": "execute_result"
    }
   ],
   "source": [
    "string2[0:7:8]"
   ]
  },
  {
   "cell_type": "code",
   "execution_count": 24,
   "id": "b8ca6334",
   "metadata": {},
   "outputs": [
    {
     "data": {
      "text/plain": [
       "'g'"
      ]
     },
     "execution_count": 24,
     "metadata": {},
     "output_type": "execute_result"
    }
   ],
   "source": [
    "string2[0:8:9]"
   ]
  },
  {
   "cell_type": "code",
   "execution_count": 25,
   "id": "cb14e981",
   "metadata": {},
   "outputs": [
    {
     "data": {
      "text/plain": [
       "''"
      ]
     },
     "execution_count": 25,
     "metadata": {},
     "output_type": "execute_result"
    }
   ],
   "source": [
    "string2[8:7:9]"
   ]
  },
  {
   "cell_type": "code",
   "execution_count": 26,
   "id": "64950146",
   "metadata": {},
   "outputs": [
    {
     "data": {
      "text/plain": [
       "'e'"
      ]
     },
     "execution_count": 26,
     "metadata": {},
     "output_type": "execute_result"
    }
   ],
   "source": [
    "string2[1:7:9]"
   ]
  },
  {
   "cell_type": "code",
   "execution_count": 27,
   "id": "6f034c66",
   "metadata": {},
   "outputs": [
    {
     "data": {
      "text/plain": [
       "'e'"
      ]
     },
     "execution_count": 27,
     "metadata": {},
     "output_type": "execute_result"
    }
   ],
   "source": [
    "string2[1:8:9]"
   ]
  },
  {
   "cell_type": "code",
   "execution_count": 28,
   "id": "ef0bcdb6",
   "metadata": {},
   "outputs": [
    {
     "name": "stdout",
     "output_type": "stream",
     "text": [
      "   this is a demo string to show string operations.  \n",
      "   THIS IS A DEMO STRING TO SHOW STRING OPERATIONS.  \n"
     ]
    },
    {
     "data": {
      "text/plain": [
       "'This is a demo string to show string operations.  '"
      ]
     },
     "execution_count": 28,
     "metadata": {},
     "output_type": "execute_result"
    }
   ],
   "source": [
    "#A string is simply defined in single quotes or double quotes as follows: \n",
    "x = '   This is a demo string to show string operations.  '\n",
    "print (x.lower()) #Converts string to lower case\n",
    "print (x.upper()) #converts string to upper case\n",
    "x.lstrip() #remove unwanted spaces from the left side"
   ]
  },
  {
   "cell_type": "code",
   "execution_count": 29,
   "id": "2b1d7c99",
   "metadata": {},
   "outputs": [
    {
     "name": "stdout",
     "output_type": "stream",
     "text": [
      "   this is a demo string to show string operations.  \n",
      "   THIS IS A DEMO STRING TO SHOW STRING OPERATIONS.  \n"
     ]
    },
    {
     "data": {
      "text/plain": [
       "'This is a demo string to show string operations.'"
      ]
     },
     "execution_count": 29,
     "metadata": {},
     "output_type": "execute_result"
    }
   ],
   "source": [
    "#A string is simply defined in single quotes or double quotes as follows: \n",
    "x = '   This is a demo string to show string operations.  '\n",
    "print (x.lower()) #Converts string to lower case\n",
    "print (x.upper()) #converts string to upper case\n",
    "x.strip() #remove unwanted spaces from the left side"
   ]
  },
  {
   "cell_type": "code",
   "execution_count": 30,
   "id": "6fc2a5bc",
   "metadata": {},
   "outputs": [
    {
     "name": "stdout",
     "output_type": "stream",
     "text": [
      "   this is a demo string to show string operations.  \n",
      "   THIS IS A DEMO STRING TO SHOW STRING OPERATIONS.  \n"
     ]
    },
    {
     "data": {
      "text/plain": [
       "'   This is a demo string to show string operations.'"
      ]
     },
     "execution_count": 30,
     "metadata": {},
     "output_type": "execute_result"
    }
   ],
   "source": [
    "#A string is simply defined in single quotes or double quotes as follows: \n",
    "x = '   This is a demo string to show string operations.  '\n",
    "print (x.lower()) #Converts string to lower case\n",
    "print (x.upper()) #converts string to upper case\n",
    "x.rstrip() #remove unwanted spaces from the right side"
   ]
  },
  {
   "cell_type": "code",
   "execution_count": 31,
   "id": "ceca1a9a",
   "metadata": {},
   "outputs": [
    {
     "name": "stdout",
     "output_type": "stream",
     "text": [
      "True\n",
      "True\n"
     ]
    }
   ],
   "source": [
    "print (x.startswith(' ')) #checks whether the string starts with given initials and return boolean\n",
    "print (x.endswith(' ')) #checks whether string ends with given initials and return boolean"
   ]
  },
  {
   "cell_type": "code",
   "execution_count": 2,
   "id": "c9b80799",
   "metadata": {},
   "outputs": [
    {
     "data": {
      "text/plain": [
       "'This is a demo string to show string operations.  '"
      ]
     },
     "execution_count": 2,
     "metadata": {},
     "output_type": "execute_result"
    }
   ],
   "source": [
    "x"
   ]
  },
  {
   "cell_type": "code",
   "execution_count": 33,
   "id": "14eeaa15",
   "metadata": {},
   "outputs": [
    {
     "data": {
      "text/plain": [
       "18"
      ]
     },
     "execution_count": 33,
     "metadata": {},
     "output_type": "execute_result"
    }
   ],
   "source": [
    "x.find('string') #finds the given string in the whole string and returns its starting index"
   ]
  },
  {
   "cell_type": "code",
   "execution_count": 35,
   "id": "b4587986",
   "metadata": {},
   "outputs": [
    {
     "data": {
      "text/plain": [
       "8"
      ]
     },
     "execution_count": 35,
     "metadata": {},
     "output_type": "execute_result"
    }
   ],
   "source": [
    "x=\"thia ia ai\"\n",
    "x.find('ai')"
   ]
  },
  {
   "cell_type": "code",
   "execution_count": 36,
   "id": "c522a8bd",
   "metadata": {},
   "outputs": [
    {
     "data": {
      "text/plain": [
       "1"
      ]
     },
     "execution_count": 36,
     "metadata": {},
     "output_type": "execute_result"
    }
   ],
   "source": [
    "x.count(\"ai\")"
   ]
  },
  {
   "cell_type": "code",
   "execution_count": 37,
   "id": "28e9c8b3",
   "metadata": {},
   "outputs": [
    {
     "data": {
      "text/plain": [
       "'this is ai'"
      ]
     },
     "execution_count": 37,
     "metadata": {},
     "output_type": "execute_result"
    }
   ],
   "source": [
    "x.replace('ia','is') #replaces old string with the new string"
   ]
  },
  {
   "cell_type": "code",
   "execution_count": 40,
   "id": "eb913ebd",
   "metadata": {},
   "outputs": [
    {
     "data": {
      "text/plain": [
       "['thia', 'ia', 'ai']"
      ]
     },
     "execution_count": 40,
     "metadata": {},
     "output_type": "execute_result"
    }
   ],
   "source": [
    "p = x.split(' ') #split the give string and returns a list \n",
    "p"
   ]
  },
  {
   "cell_type": "code",
   "execution_count": 41,
   "id": "3d7e7e32",
   "metadata": {},
   "outputs": [
    {
     "data": {
      "text/plain": [
       "'thia ia ai'"
      ]
     },
     "execution_count": 41,
     "metadata": {},
     "output_type": "execute_result"
    }
   ],
   "source": [
    "\" \".join(p)"
   ]
  },
  {
   "cell_type": "code",
   "execution_count": 42,
   "id": "ecc6b11b",
   "metadata": {},
   "outputs": [
    {
     "data": {
      "text/plain": [
       "'thia #ia #ai'"
      ]
     },
     "execution_count": 42,
     "metadata": {},
     "output_type": "execute_result"
    }
   ],
   "source": [
    "' #'.join(p)"
   ]
  },
  {
   "cell_type": "code",
   "execution_count": 44,
   "id": "533c4177",
   "metadata": {},
   "outputs": [
    {
     "name": "stdout",
     "output_type": "stream",
     "text": [
      "a\n"
     ]
    }
   ],
   "source": [
    "print(x[-2:-1])"
   ]
  },
  {
   "cell_type": "code",
   "execution_count": 3,
   "id": "6afd014d",
   "metadata": {},
   "outputs": [
    {
     "ename": "NameError",
     "evalue": "name 'y' is not defined",
     "output_type": "error",
     "traceback": [
      "\u001b[1;31m---------------------------------------------------------------------------\u001b[0m",
      "\u001b[1;31mNameError\u001b[0m                                 Traceback (most recent call last)",
      "\u001b[1;32m<ipython-input-3-abdfc3ec61bd>\u001b[0m in \u001b[0;36m<module>\u001b[1;34m\u001b[0m\n\u001b[1;32m----> 1\u001b[1;33m \u001b[0mprint\u001b[0m\u001b[1;33m(\u001b[0m\u001b[0my\u001b[0m\u001b[1;33m[\u001b[0m\u001b[1;36m0\u001b[0m\u001b[1;33m:\u001b[0m\u001b[1;33m]\u001b[0m\u001b[1;33m)\u001b[0m\u001b[1;33m\u001b[0m\u001b[1;33m\u001b[0m\u001b[0m\n\u001b[0m",
      "\u001b[1;31mNameError\u001b[0m: name 'y' is not defined"
     ]
    }
   ],
   "source": [
    "print(y[0:])"
   ]
  },
  {
   "cell_type": "code",
   "execution_count": 4,
   "id": "efd5d55f",
   "metadata": {},
   "outputs": [
    {
     "name": "stdout",
     "output_type": "stream",
     "text": [
      "This is a demo string to show string operations\n",
      "This \n",
      "operations\n",
      "This is a demo string to show string operation\n"
     ]
    }
   ],
   "source": [
    "#Slicing: (Start:stop:step)\n",
    "#Gives a part of a string it takes three values, bascially the start is the starting point of the string (default is index 0 )\n",
    "#Stop is the ending point of part if not given default is the last of the string\n",
    "#value of step by default is 1\n",
    "y ='This is a demo string to show string operations'\n",
    "#    0123456789\n",
    "print (y[0:])\n",
    "print (y[0:5])\n",
    "print (y[-10:])\n",
    "print (y[:-1])"
   ]
  },
  {
   "cell_type": "code",
   "execution_count": 5,
   "id": "5cd33433",
   "metadata": {},
   "outputs": [
    {
     "name": "stdout",
     "output_type": "stream",
     "text": [
      "This is a demo string to show string operatio\n"
     ]
    }
   ],
   "source": [
    "print (y[:-2])"
   ]
  },
  {
   "cell_type": "code",
   "execution_count": 6,
   "id": "c56d6e8c",
   "metadata": {},
   "outputs": [
    {
     "name": "stdout",
     "output_type": "stream",
     "text": [
      "is is a demo string to show string operations\n"
     ]
    }
   ],
   "source": [
    "print (y[2:])"
   ]
  },
  {
   "cell_type": "code",
   "execution_count": 7,
   "id": "bf92f944",
   "metadata": {},
   "outputs": [
    {
     "name": "stdout",
     "output_type": "stream",
     "text": [
      "his is a demo string to show string operations\n"
     ]
    }
   ],
   "source": [
    "print (y[1:])"
   ]
  },
  {
   "cell_type": "code",
   "execution_count": 8,
   "id": "af5d6ddd",
   "metadata": {},
   "outputs": [
    {
     "name": "stdout",
     "output_type": "stream",
     "text": [
      "s\n"
     ]
    }
   ],
   "source": [
    "print (y[-1:])"
   ]
  },
  {
   "cell_type": "code",
   "execution_count": 1,
   "id": "daf8b1d1",
   "metadata": {},
   "outputs": [
    {
     "ename": "NameError",
     "evalue": "name 'y' is not defined",
     "output_type": "error",
     "traceback": [
      "\u001b[1;31m---------------------------------------------------------------------------\u001b[0m",
      "\u001b[1;31mNameError\u001b[0m                                 Traceback (most recent call last)",
      "\u001b[1;32m<ipython-input-1-a7cb493e6112>\u001b[0m in \u001b[0;36m<module>\u001b[1;34m\u001b[0m\n\u001b[1;32m----> 1\u001b[1;33m \u001b[0mprint\u001b[0m \u001b[1;33m(\u001b[0m\u001b[0my\u001b[0m\u001b[1;33m[\u001b[0m\u001b[1;33m-\u001b[0m\u001b[1;36m2\u001b[0m\u001b[1;33m:\u001b[0m\u001b[1;33m]\u001b[0m\u001b[1;33m)\u001b[0m\u001b[1;33m\u001b[0m\u001b[1;33m\u001b[0m\u001b[0m\n\u001b[0m",
      "\u001b[1;31mNameError\u001b[0m: name 'y' is not defined"
     ]
    }
   ],
   "source": [
    "print (y[-2:])"
   ]
  },
  {
   "cell_type": "code",
   "execution_count": null,
   "id": "f82ac85c",
   "metadata": {},
   "outputs": [],
   "source": []
  }
 ],
 "metadata": {
  "kernelspec": {
   "display_name": "Python 3",
   "language": "python",
   "name": "python3"
  },
  "language_info": {
   "codemirror_mode": {
    "name": "ipython",
    "version": 3
   },
   "file_extension": ".py",
   "mimetype": "text/x-python",
   "name": "python",
   "nbconvert_exporter": "python",
   "pygments_lexer": "ipython3",
   "version": "3.8.8"
  }
 },
 "nbformat": 4,
 "nbformat_minor": 5
}
