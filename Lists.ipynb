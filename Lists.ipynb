{
 "cells": [
  {
   "cell_type": "markdown",
   "id": "fdfffb45",
   "metadata": {},
   "source": [
    "Create a list"
   ]
  },
  {
   "cell_type": "code",
   "execution_count": null,
   "id": "b8d70610",
   "metadata": {},
   "outputs": [],
   "source": [
    "li=[]"
   ]
  },
  {
   "cell_type": "code",
   "execution_count": 2,
   "id": "1cc9982b",
   "metadata": {},
   "outputs": [],
   "source": [
    "a=[1,2,3]"
   ]
  },
  {
   "cell_type": "code",
   "execution_count": 3,
   "id": "fd6b1546",
   "metadata": {},
   "outputs": [
    {
     "data": {
      "text/plain": [
       "list"
      ]
     },
     "execution_count": 3,
     "metadata": {},
     "output_type": "execute_result"
    }
   ],
   "source": [
    "type(a)"
   ]
  },
  {
   "cell_type": "code",
   "execution_count": 4,
   "id": "e67fe5a8",
   "metadata": {},
   "outputs": [],
   "source": [
    "li=[1,2,\"kio\",5.4]"
   ]
  },
  {
   "cell_type": "code",
   "execution_count": 5,
   "id": "0bdb4324",
   "metadata": {},
   "outputs": [
    {
     "data": {
      "text/plain": [
       "[1, 2, 'kio', 5.4]"
      ]
     },
     "execution_count": 5,
     "metadata": {},
     "output_type": "execute_result"
    }
   ],
   "source": [
    "li"
   ]
  },
  {
   "cell_type": "markdown",
   "id": "77ff516a",
   "metadata": {},
   "source": [
    "Access and Change Elements in Lists"
   ]
  },
  {
   "cell_type": "code",
   "execution_count": 6,
   "id": "eb10cf7b",
   "metadata": {},
   "outputs": [
    {
     "data": {
      "text/plain": [
       "1"
      ]
     },
     "execution_count": 6,
     "metadata": {},
     "output_type": "execute_result"
    }
   ],
   "source": [
    "li[0]"
   ]
  },
  {
   "cell_type": "code",
   "execution_count": 7,
   "id": "b902d979",
   "metadata": {},
   "outputs": [
    {
     "data": {
      "text/plain": [
       "'kio'"
      ]
     },
     "execution_count": 7,
     "metadata": {},
     "output_type": "execute_result"
    }
   ],
   "source": [
    "li[2]"
   ]
  },
  {
   "cell_type": "code",
   "execution_count": 8,
   "id": "986566fc",
   "metadata": {},
   "outputs": [
    {
     "ename": "IndexError",
     "evalue": "list index out of range",
     "output_type": "error",
     "traceback": [
      "\u001b[1;31m---------------------------------------------------------------------------\u001b[0m",
      "\u001b[1;31mIndexError\u001b[0m                                Traceback (most recent call last)",
      "\u001b[1;32m<ipython-input-8-7c1e0168bf87>\u001b[0m in \u001b[0;36m<module>\u001b[1;34m\u001b[0m\n\u001b[1;32m----> 1\u001b[1;33m \u001b[0mli\u001b[0m\u001b[1;33m[\u001b[0m\u001b[1;36m5\u001b[0m\u001b[1;33m]\u001b[0m\u001b[1;33m\u001b[0m\u001b[1;33m\u001b[0m\u001b[0m\n\u001b[0m",
      "\u001b[1;31mIndexError\u001b[0m: list index out of range"
     ]
    }
   ],
   "source": [
    "li[5]"
   ]
  },
  {
   "cell_type": "markdown",
   "id": "8ae842e7",
   "metadata": {},
   "source": [
    "Change Elements"
   ]
  },
  {
   "cell_type": "code",
   "execution_count": 9,
   "id": "750d9d46",
   "metadata": {},
   "outputs": [],
   "source": [
    "li[0]=\"Hello\""
   ]
  },
  {
   "cell_type": "code",
   "execution_count": 10,
   "id": "3ef5c9ab",
   "metadata": {},
   "outputs": [
    {
     "data": {
      "text/plain": [
       "['Hello', 2, 'kio', 5.4]"
      ]
     },
     "execution_count": 10,
     "metadata": {},
     "output_type": "execute_result"
    }
   ],
   "source": [
    "li"
   ]
  },
  {
   "cell_type": "code",
   "execution_count": 11,
   "id": "af34c49f",
   "metadata": {},
   "outputs": [
    {
     "ename": "IndexError",
     "evalue": "list assignment index out of range",
     "output_type": "error",
     "traceback": [
      "\u001b[1;31m---------------------------------------------------------------------------\u001b[0m",
      "\u001b[1;31mIndexError\u001b[0m                                Traceback (most recent call last)",
      "\u001b[1;32m<ipython-input-11-6dbe10d01950>\u001b[0m in \u001b[0;36m<module>\u001b[1;34m\u001b[0m\n\u001b[1;32m----> 1\u001b[1;33m \u001b[0mli\u001b[0m\u001b[1;33m[\u001b[0m\u001b[1;36m4\u001b[0m\u001b[1;33m]\u001b[0m\u001b[1;33m=\u001b[0m\u001b[1;36m9\u001b[0m\u001b[1;33m\u001b[0m\u001b[1;33m\u001b[0m\u001b[0m\n\u001b[0m",
      "\u001b[1;31mIndexError\u001b[0m: list assignment index out of range"
     ]
    }
   ],
   "source": [
    "li[4]=9"
   ]
  },
  {
   "cell_type": "markdown",
   "id": "4654d562",
   "metadata": {},
   "source": [
    "Slicing of a list"
   ]
  },
  {
   "cell_type": "code",
   "execution_count": 12,
   "id": "f93964b2",
   "metadata": {},
   "outputs": [
    {
     "data": {
      "text/plain": [
       "[2, 'kio']"
      ]
     },
     "execution_count": 12,
     "metadata": {},
     "output_type": "execute_result"
    }
   ],
   "source": [
    "li[1:3]"
   ]
  },
  {
   "cell_type": "code",
   "execution_count": 13,
   "id": "6827374d",
   "metadata": {},
   "outputs": [
    {
     "data": {
      "text/plain": [
       "['Hello', 2]"
      ]
     },
     "execution_count": 13,
     "metadata": {},
     "output_type": "execute_result"
    }
   ],
   "source": [
    "li[:2]"
   ]
  },
  {
   "cell_type": "code",
   "execution_count": 14,
   "id": "78c3d49a",
   "metadata": {},
   "outputs": [
    {
     "data": {
      "text/plain": [
       "[2, 'kio', 5.4]"
      ]
     },
     "execution_count": 14,
     "metadata": {},
     "output_type": "execute_result"
    }
   ],
   "source": [
    "li[1:]"
   ]
  },
  {
   "cell_type": "code",
   "execution_count": 15,
   "id": "3c86092d",
   "metadata": {},
   "outputs": [
    {
     "data": {
      "text/plain": [
       "['Hello', 2, 'kio', 5.4]"
      ]
     },
     "execution_count": 15,
     "metadata": {},
     "output_type": "execute_result"
    }
   ],
   "source": [
    "li[:]"
   ]
  },
  {
   "cell_type": "code",
   "execution_count": 16,
   "id": "a1122c2e",
   "metadata": {},
   "outputs": [
    {
     "data": {
      "text/plain": [
       "[2, 'kio', 5.4]"
      ]
     },
     "execution_count": 16,
     "metadata": {},
     "output_type": "execute_result"
    }
   ],
   "source": [
    "li[1:10]"
   ]
  },
  {
   "cell_type": "markdown",
   "id": "5dad1d38",
   "metadata": {},
   "source": [
    "Append and Insert elements in Lists"
   ]
  },
  {
   "cell_type": "code",
   "execution_count": 17,
   "id": "2464a14c",
   "metadata": {},
   "outputs": [],
   "source": [
    "li.append(\"pio\")"
   ]
  },
  {
   "cell_type": "code",
   "execution_count": 18,
   "id": "2d162c02",
   "metadata": {},
   "outputs": [
    {
     "data": {
      "text/plain": [
       "['Hello', 2, 'kio', 5.4, 'pio']"
      ]
     },
     "execution_count": 18,
     "metadata": {},
     "output_type": "execute_result"
    }
   ],
   "source": [
    "li"
   ]
  },
  {
   "cell_type": "code",
   "execution_count": 19,
   "id": "6f8d976e",
   "metadata": {},
   "outputs": [],
   "source": [
    "li.insert(1,2333)"
   ]
  },
  {
   "cell_type": "code",
   "execution_count": 20,
   "id": "ffd26b3b",
   "metadata": {},
   "outputs": [
    {
     "data": {
      "text/plain": [
       "['Hello', 2333, 2, 'kio', 5.4, 'pio']"
      ]
     },
     "execution_count": 20,
     "metadata": {},
     "output_type": "execute_result"
    }
   ],
   "source": [
    "li"
   ]
  },
  {
   "cell_type": "code",
   "execution_count": 21,
   "id": "77da2f7e",
   "metadata": {},
   "outputs": [],
   "source": [
    "li.insert(6,100)"
   ]
  },
  {
   "cell_type": "code",
   "execution_count": 22,
   "id": "d833d7b9",
   "metadata": {},
   "outputs": [
    {
     "data": {
      "text/plain": [
       "['Hello', 2333, 2, 'kio', 5.4, 'pio', 100]"
      ]
     },
     "execution_count": 22,
     "metadata": {},
     "output_type": "execute_result"
    }
   ],
   "source": [
    "li"
   ]
  },
  {
   "cell_type": "code",
   "execution_count": 23,
   "id": "f75e4ea9",
   "metadata": {},
   "outputs": [],
   "source": [
    "li.insert(8,11000) #if that index is not present, then it'll insert at last"
   ]
  },
  {
   "cell_type": "code",
   "execution_count": 24,
   "id": "bed06b64",
   "metadata": {},
   "outputs": [
    {
     "data": {
      "text/plain": [
       "['Hello', 2333, 2, 'kio', 5.4, 'pio', 100, 11000]"
      ]
     },
     "execution_count": 24,
     "metadata": {},
     "output_type": "execute_result"
    }
   ],
   "source": [
    "li"
   ]
  },
  {
   "cell_type": "code",
   "execution_count": 25,
   "id": "cac500bd",
   "metadata": {},
   "outputs": [],
   "source": [
    "li.append([1,2,3,4])"
   ]
  },
  {
   "cell_type": "code",
   "execution_count": 26,
   "id": "2f01b9e9",
   "metadata": {},
   "outputs": [
    {
     "data": {
      "text/plain": [
       "['Hello', 2333, 2, 'kio', 5.4, 'pio', 100, 11000, [1, 2, 3, 4]]"
      ]
     },
     "execution_count": 26,
     "metadata": {},
     "output_type": "execute_result"
    }
   ],
   "source": [
    "li"
   ]
  },
  {
   "cell_type": "code",
   "execution_count": 27,
   "id": "e01caf13",
   "metadata": {},
   "outputs": [],
   "source": [
    "li.extend([9,10,11])"
   ]
  },
  {
   "cell_type": "code",
   "execution_count": 28,
   "id": "19a0b479",
   "metadata": {},
   "outputs": [
    {
     "data": {
      "text/plain": [
       "['Hello', 2333, 2, 'kio', 5.4, 'pio', 100, 11000, [1, 2, 3, 4], 9, 10, 11]"
      ]
     },
     "execution_count": 28,
     "metadata": {},
     "output_type": "execute_result"
    }
   ],
   "source": [
    "li"
   ]
  },
  {
   "cell_type": "markdown",
   "id": "6fe7bdc2",
   "metadata": {},
   "source": [
    "Removing Elements in lists"
   ]
  },
  {
   "cell_type": "code",
   "execution_count": 29,
   "id": "42b80abd",
   "metadata": {},
   "outputs": [],
   "source": [
    "li.remove(100)"
   ]
  },
  {
   "cell_type": "code",
   "execution_count": 30,
   "id": "a7be55e8",
   "metadata": {},
   "outputs": [
    {
     "data": {
      "text/plain": [
       "['Hello', 2333, 2, 'kio', 5.4, 'pio', 11000, [1, 2, 3, 4], 9, 10, 11]"
      ]
     },
     "execution_count": 30,
     "metadata": {},
     "output_type": "execute_result"
    }
   ],
   "source": [
    "li"
   ]
  },
  {
   "cell_type": "code",
   "execution_count": 31,
   "id": "cab77329",
   "metadata": {},
   "outputs": [],
   "source": [
    "li.remove(2)"
   ]
  },
  {
   "cell_type": "code",
   "execution_count": 32,
   "id": "610c8556",
   "metadata": {},
   "outputs": [
    {
     "data": {
      "text/plain": [
       "['Hello', 2333, 'kio', 5.4, 'pio', 11000, [1, 2, 3, 4], 9, 10, 11]"
      ]
     },
     "execution_count": 32,
     "metadata": {},
     "output_type": "execute_result"
    }
   ],
   "source": [
    "li"
   ]
  },
  {
   "cell_type": "code",
   "execution_count": 33,
   "id": "8b99b283",
   "metadata": {},
   "outputs": [],
   "source": [
    "li.append(\"Hello\")"
   ]
  },
  {
   "cell_type": "code",
   "execution_count": 34,
   "id": "36b0454f",
   "metadata": {},
   "outputs": [
    {
     "data": {
      "text/plain": [
       "['Hello', 2333, 'kio', 5.4, 'pio', 11000, [1, 2, 3, 4], 9, 10, 11, 'Hello']"
      ]
     },
     "execution_count": 34,
     "metadata": {},
     "output_type": "execute_result"
    }
   ],
   "source": [
    "li"
   ]
  },
  {
   "cell_type": "code",
   "execution_count": 35,
   "id": "292b2f2a",
   "metadata": {},
   "outputs": [],
   "source": [
    "li.remove(\"Hello\")"
   ]
  },
  {
   "cell_type": "code",
   "execution_count": 36,
   "id": "988a6f11",
   "metadata": {},
   "outputs": [
    {
     "data": {
      "text/plain": [
       "[2333, 'kio', 5.4, 'pio', 11000, [1, 2, 3, 4], 9, 10, 11, 'Hello']"
      ]
     },
     "execution_count": 36,
     "metadata": {},
     "output_type": "execute_result"
    }
   ],
   "source": [
    "li"
   ]
  },
  {
   "cell_type": "code",
   "execution_count": 37,
   "id": "149f9f37",
   "metadata": {},
   "outputs": [
    {
     "ename": "ValueError",
     "evalue": "list.remove(x): x not in list",
     "output_type": "error",
     "traceback": [
      "\u001b[1;31m---------------------------------------------------------------------------\u001b[0m",
      "\u001b[1;31mValueError\u001b[0m                                Traceback (most recent call last)",
      "\u001b[1;32m<ipython-input-37-8994932300e7>\u001b[0m in \u001b[0;36m<module>\u001b[1;34m\u001b[0m\n\u001b[1;32m----> 1\u001b[1;33m \u001b[0mli\u001b[0m\u001b[1;33m.\u001b[0m\u001b[0mremove\u001b[0m\u001b[1;33m(\u001b[0m\u001b[1;36m19\u001b[0m\u001b[1;33m)\u001b[0m\u001b[1;33m\u001b[0m\u001b[1;33m\u001b[0m\u001b[0m\n\u001b[0m",
      "\u001b[1;31mValueError\u001b[0m: list.remove(x): x not in list"
     ]
    }
   ],
   "source": [
    "li.remove(19)"
   ]
  },
  {
   "cell_type": "code",
   "execution_count": 38,
   "id": "281551bf",
   "metadata": {},
   "outputs": [
    {
     "data": {
      "text/plain": [
       "[2333, 'kio', 5.4, 'pio', 11000, [1, 2, 3, 4], 9, 10, 11, 'Hello']"
      ]
     },
     "execution_count": 38,
     "metadata": {},
     "output_type": "execute_result"
    }
   ],
   "source": [
    "li"
   ]
  },
  {
   "cell_type": "code",
   "execution_count": 39,
   "id": "9f6f750b",
   "metadata": {},
   "outputs": [
    {
     "data": {
      "text/plain": [
       "'Hello'"
      ]
     },
     "execution_count": 39,
     "metadata": {},
     "output_type": "execute_result"
    }
   ],
   "source": [
    "li.pop()"
   ]
  },
  {
   "cell_type": "code",
   "execution_count": 40,
   "id": "49196d12",
   "metadata": {},
   "outputs": [
    {
     "data": {
      "text/plain": [
       "[2333, 'kio', 5.4, 'pio', 11000, [1, 2, 3, 4], 9, 10, 11]"
      ]
     },
     "execution_count": 40,
     "metadata": {},
     "output_type": "execute_result"
    }
   ],
   "source": [
    "li"
   ]
  },
  {
   "cell_type": "code",
   "execution_count": 41,
   "id": "28308ee0",
   "metadata": {},
   "outputs": [
    {
     "data": {
      "text/plain": [
       "'kio'"
      ]
     },
     "execution_count": 41,
     "metadata": {},
     "output_type": "execute_result"
    }
   ],
   "source": [
    "li.pop(1)"
   ]
  },
  {
   "cell_type": "code",
   "execution_count": 42,
   "id": "a39ba44e",
   "metadata": {},
   "outputs": [
    {
     "data": {
      "text/plain": [
       "[2333, 5.4, 'pio', 11000, [1, 2, 3, 4], 9, 10, 11]"
      ]
     },
     "execution_count": 42,
     "metadata": {},
     "output_type": "execute_result"
    }
   ],
   "source": [
    "li"
   ]
  },
  {
   "cell_type": "code",
   "execution_count": 43,
   "id": "07b0e8cb",
   "metadata": {},
   "outputs": [
    {
     "ename": "IndexError",
     "evalue": "pop index out of range",
     "output_type": "error",
     "traceback": [
      "\u001b[1;31m---------------------------------------------------------------------------\u001b[0m",
      "\u001b[1;31mIndexError\u001b[0m                                Traceback (most recent call last)",
      "\u001b[1;32m<ipython-input-43-1d176d6d5db7>\u001b[0m in \u001b[0;36m<module>\u001b[1;34m\u001b[0m\n\u001b[1;32m----> 1\u001b[1;33m \u001b[0mli\u001b[0m\u001b[1;33m.\u001b[0m\u001b[0mpop\u001b[0m\u001b[1;33m(\u001b[0m\u001b[1;36m12\u001b[0m\u001b[1;33m)\u001b[0m\u001b[1;33m\u001b[0m\u001b[1;33m\u001b[0m\u001b[0m\n\u001b[0m",
      "\u001b[1;31mIndexError\u001b[0m: pop index out of range"
     ]
    }
   ],
   "source": [
    "li.pop(12)"
   ]
  },
  {
   "cell_type": "code",
   "execution_count": 44,
   "id": "3c0c5ba1",
   "metadata": {},
   "outputs": [
    {
     "data": {
      "text/plain": [
       "8"
      ]
     },
     "execution_count": 44,
     "metadata": {},
     "output_type": "execute_result"
    }
   ],
   "source": [
    "len(li)"
   ]
  },
  {
   "cell_type": "code",
   "execution_count": 45,
   "id": "bc15a965",
   "metadata": {},
   "outputs": [
    {
     "data": {
      "text/plain": [
       "[2333, 5.4, 'pio', 11000, [1, 2, 3, 4], 9, 10, 11]"
      ]
     },
     "execution_count": 45,
     "metadata": {},
     "output_type": "execute_result"
    }
   ],
   "source": [
    "li"
   ]
  },
  {
   "cell_type": "code",
   "execution_count": 47,
   "id": "d4d040d1",
   "metadata": {},
   "outputs": [
    {
     "name": "stdout",
     "output_type": "stream",
     "text": [
      "['abcd', 'def', 5]\n"
     ]
    }
   ],
   "source": [
    "li =['abcd','def']\n",
    "li.insert(4,5)\n",
    "print(li)"
   ]
  },
  {
   "cell_type": "markdown",
   "id": "aca873d0",
   "metadata": {},
   "source": [
    "Looping on Lists"
   ]
  },
  {
   "cell_type": "code",
   "execution_count": 48,
   "id": "155d8bef",
   "metadata": {},
   "outputs": [],
   "source": [
    "li=[1,2,\"you\",22,9.2,\"hell\",\"ball\"]"
   ]
  },
  {
   "cell_type": "code",
   "execution_count": 49,
   "id": "514ca23d",
   "metadata": {},
   "outputs": [
    {
     "data": {
      "text/plain": [
       "[1, 2, 'you', 22, 9.2, 'hell', 'ball']"
      ]
     },
     "execution_count": 49,
     "metadata": {},
     "output_type": "execute_result"
    }
   ],
   "source": [
    "li"
   ]
  },
  {
   "cell_type": "code",
   "execution_count": 50,
   "id": "ab04ae28",
   "metadata": {},
   "outputs": [
    {
     "name": "stdout",
     "output_type": "stream",
     "text": [
      "1\n",
      "2\n",
      "you\n",
      "22\n",
      "9.2\n",
      "hell\n",
      "ball\n"
     ]
    }
   ],
   "source": [
    "for i in range(len(li)):\n",
    "    print(li[i])"
   ]
  },
  {
   "cell_type": "code",
   "execution_count": 52,
   "id": "2f79fc48",
   "metadata": {},
   "outputs": [
    {
     "name": "stdout",
     "output_type": "stream",
     "text": [
      "1 2 you 22 9.2 hell ball "
     ]
    }
   ],
   "source": [
    "for i in range(len(li)):\n",
    "    print(li[i],end=' ')"
   ]
  },
  {
   "cell_type": "code",
   "execution_count": 53,
   "id": "c2c3a335",
   "metadata": {},
   "outputs": [
    {
     "name": "stdout",
     "output_type": "stream",
     "text": [
      "you\n",
      "22\n",
      "9.2\n",
      "hell\n",
      "ball\n"
     ]
    }
   ],
   "source": [
    "for i in range(2,len(li)):\n",
    "    print(li[i])"
   ]
  },
  {
   "cell_type": "code",
   "execution_count": 54,
   "id": "77eb1423",
   "metadata": {},
   "outputs": [
    {
     "name": "stdout",
     "output_type": "stream",
     "text": [
      "you\n",
      "9.2\n",
      "ball\n"
     ]
    }
   ],
   "source": [
    "for i in range(2,len(li),2):\n",
    "    print(li[i])"
   ]
  },
  {
   "cell_type": "code",
   "execution_count": 55,
   "id": "ec70fde4",
   "metadata": {},
   "outputs": [
    {
     "name": "stdout",
     "output_type": "stream",
     "text": [
      "1\n",
      "2\n",
      "you\n",
      "22\n",
      "9.2\n",
      "hell\n",
      "ball\n"
     ]
    }
   ],
   "source": [
    "for i in li:\n",
    "    print(i)"
   ]
  },
  {
   "cell_type": "code",
   "execution_count": 56,
   "id": "8d67250d",
   "metadata": {},
   "outputs": [
    {
     "name": "stdout",
     "output_type": "stream",
     "text": [
      "you\n",
      "22\n",
      "9.2\n",
      "hell\n",
      "ball\n"
     ]
    }
   ],
   "source": [
    "for i in li[2:]:\n",
    "    print(i)"
   ]
  },
  {
   "cell_type": "code",
   "execution_count": 57,
   "id": "6db0682c",
   "metadata": {},
   "outputs": [
    {
     "name": "stdout",
     "output_type": "stream",
     "text": [
      "you\n",
      "22\n",
      "9.2\n"
     ]
    }
   ],
   "source": [
    "for i in li[2:5]:\n",
    "    print(i)"
   ]
  },
  {
   "cell_type": "code",
   "execution_count": 61,
   "id": "35a20010",
   "metadata": {},
   "outputs": [
    {
     "name": "stdout",
     "output_type": "stream",
     "text": [
      "26\n"
     ]
    }
   ],
   "source": [
    "N=3\n",
    "sum=0\n",
    "li= [9,8,9]\n",
    "\n",
    "for i in range(N):\n",
    "    sum=sum+li[i]\n",
    "print(sum)"
   ]
  },
  {
   "cell_type": "code",
   "execution_count": 64,
   "id": "ff6ed8e3",
   "metadata": {},
   "outputs": [
    {
     "name": "stdout",
     "output_type": "stream",
     "text": [
      "3\n"
     ]
    },
    {
     "ename": "TypeError",
     "evalue": "'int' object is not callable",
     "output_type": "error",
     "traceback": [
      "\u001b[1;31m---------------------------------------------------------------------------\u001b[0m",
      "\u001b[1;31mTypeError\u001b[0m                                 Traceback (most recent call last)",
      "\u001b[1;32m<ipython-input-64-12f9fee2cc77>\u001b[0m in \u001b[0;36m<module>\u001b[1;34m\u001b[0m\n\u001b[0;32m      1\u001b[0m \u001b[0mN\u001b[0m\u001b[1;33m=\u001b[0m\u001b[0mint\u001b[0m\u001b[1;33m(\u001b[0m\u001b[0minput\u001b[0m\u001b[1;33m(\u001b[0m\u001b[1;33m)\u001b[0m\u001b[1;33m)\u001b[0m\u001b[1;33m\u001b[0m\u001b[1;33m\u001b[0m\u001b[0m\n\u001b[0;32m      2\u001b[0m \u001b[0mli\u001b[0m\u001b[1;33m=\u001b[0m\u001b[1;33m[\u001b[0m\u001b[1;36m3\u001b[0m\u001b[1;33m,\u001b[0m\u001b[1;36m4\u001b[0m\u001b[1;33m,\u001b[0m\u001b[1;36m5\u001b[0m\u001b[1;33m]\u001b[0m\u001b[1;33m\u001b[0m\u001b[1;33m\u001b[0m\u001b[0m\n\u001b[1;32m----> 3\u001b[1;33m \u001b[0mprint\u001b[0m\u001b[1;33m(\u001b[0m\u001b[0msum\u001b[0m\u001b[1;33m(\u001b[0m\u001b[0mli\u001b[0m\u001b[1;33m)\u001b[0m\u001b[1;33m)\u001b[0m\u001b[1;33m\u001b[0m\u001b[1;33m\u001b[0m\u001b[0m\n\u001b[0m",
      "\u001b[1;31mTypeError\u001b[0m: 'int' object is not callable"
     ]
    }
   ],
   "source": [
    "N=int(input())\n",
    "li=[3,4,5]\n",
    "print(sum(li))"
   ]
  },
  {
   "cell_type": "code",
   "execution_count": 65,
   "id": "98625d71",
   "metadata": {},
   "outputs": [
    {
     "ename": "TypeError",
     "evalue": "'int' object is not callable",
     "output_type": "error",
     "traceback": [
      "\u001b[1;31m---------------------------------------------------------------------------\u001b[0m",
      "\u001b[1;31mTypeError\u001b[0m                                 Traceback (most recent call last)",
      "\u001b[1;32m<ipython-input-65-d43f4d49995d>\u001b[0m in \u001b[0;36m<module>\u001b[1;34m\u001b[0m\n\u001b[0;32m      6\u001b[0m \u001b[0mn\u001b[0m \u001b[1;33m=\u001b[0m \u001b[0mlen\u001b[0m\u001b[1;33m(\u001b[0m\u001b[0marr\u001b[0m\u001b[1;33m)\u001b[0m\u001b[1;33m\u001b[0m\u001b[1;33m\u001b[0m\u001b[0m\n\u001b[0;32m      7\u001b[0m \u001b[1;33m\u001b[0m\u001b[0m\n\u001b[1;32m----> 8\u001b[1;33m \u001b[0mans\u001b[0m \u001b[1;33m=\u001b[0m \u001b[0m_sum\u001b[0m\u001b[1;33m(\u001b[0m\u001b[0marr\u001b[0m\u001b[1;33m,\u001b[0m\u001b[0mn\u001b[0m\u001b[1;33m)\u001b[0m\u001b[1;33m\u001b[0m\u001b[1;33m\u001b[0m\u001b[0m\n\u001b[0m\u001b[0;32m      9\u001b[0m \u001b[1;33m\u001b[0m\u001b[0m\n\u001b[0;32m     10\u001b[0m \u001b[0mprint\u001b[0m \u001b[1;33m(\u001b[0m\u001b[1;34m'Sum of the array is '\u001b[0m\u001b[1;33m,\u001b[0m\u001b[0mans\u001b[0m\u001b[1;33m)\u001b[0m\u001b[1;33m\u001b[0m\u001b[1;33m\u001b[0m\u001b[0m\n",
      "\u001b[1;32m<ipython-input-65-d43f4d49995d>\u001b[0m in \u001b[0;36m_sum\u001b[1;34m(arr, n)\u001b[0m\n\u001b[0;32m      1\u001b[0m \u001b[1;32mdef\u001b[0m \u001b[0m_sum\u001b[0m\u001b[1;33m(\u001b[0m\u001b[0marr\u001b[0m\u001b[1;33m,\u001b[0m\u001b[0mn\u001b[0m\u001b[1;33m)\u001b[0m\u001b[1;33m:\u001b[0m\u001b[1;33m\u001b[0m\u001b[1;33m\u001b[0m\u001b[0m\n\u001b[1;32m----> 2\u001b[1;33m     \u001b[1;32mreturn\u001b[0m\u001b[1;33m(\u001b[0m\u001b[0msum\u001b[0m\u001b[1;33m(\u001b[0m\u001b[0marr\u001b[0m\u001b[1;33m)\u001b[0m\u001b[1;33m)\u001b[0m\u001b[1;33m\u001b[0m\u001b[1;33m\u001b[0m\u001b[0m\n\u001b[0m\u001b[0;32m      3\u001b[0m \u001b[1;33m\u001b[0m\u001b[0m\n\u001b[0;32m      4\u001b[0m \u001b[0marr\u001b[0m\u001b[1;33m=\u001b[0m\u001b[1;33m[\u001b[0m\u001b[1;33m]\u001b[0m\u001b[1;33m\u001b[0m\u001b[1;33m\u001b[0m\u001b[0m\n\u001b[0;32m      5\u001b[0m \u001b[0marr\u001b[0m \u001b[1;33m=\u001b[0m \u001b[1;33m[\u001b[0m\u001b[1;36m12\u001b[0m\u001b[1;33m,\u001b[0m \u001b[1;36m3\u001b[0m\u001b[1;33m,\u001b[0m \u001b[1;36m4\u001b[0m\u001b[1;33m,\u001b[0m \u001b[1;36m15\u001b[0m\u001b[1;33m]\u001b[0m\u001b[1;33m\u001b[0m\u001b[1;33m\u001b[0m\u001b[0m\n",
      "\u001b[1;31mTypeError\u001b[0m: 'int' object is not callable"
     ]
    }
   ],
   "source": [
    "def _sum(arr,n):\n",
    "    return(sum(arr))\n",
    "\n",
    "arr=[]\n",
    "arr = [12, 3, 4, 15]\n",
    "n = len(arr)\n",
    " \n",
    "ans = _sum(arr,n)\n",
    "\n",
    "print ('Sum of the array is ',ans)"
   ]
  },
  {
   "cell_type": "markdown",
   "id": "e5540089",
   "metadata": {},
   "source": [
    "Negative Indexing "
   ]
  },
  {
   "cell_type": "code",
   "execution_count": 66,
   "id": "edc30bc6",
   "metadata": {},
   "outputs": [],
   "source": [
    "li=[1,2,3,4,5]"
   ]
  },
  {
   "cell_type": "code",
   "execution_count": 67,
   "id": "c3ff7720",
   "metadata": {},
   "outputs": [
    {
     "data": {
      "text/plain": [
       "1"
      ]
     },
     "execution_count": 67,
     "metadata": {},
     "output_type": "execute_result"
    }
   ],
   "source": [
    "li[0]"
   ]
  },
  {
   "cell_type": "code",
   "execution_count": 68,
   "id": "78eb6bc6",
   "metadata": {},
   "outputs": [
    {
     "data": {
      "text/plain": [
       "5"
      ]
     },
     "execution_count": 68,
     "metadata": {},
     "output_type": "execute_result"
    }
   ],
   "source": [
    "li[-1]"
   ]
  },
  {
   "cell_type": "code",
   "execution_count": 69,
   "id": "c35f1b73",
   "metadata": {},
   "outputs": [
    {
     "data": {
      "text/plain": [
       "[1, 2, 3, 4]"
      ]
     },
     "execution_count": 69,
     "metadata": {},
     "output_type": "execute_result"
    }
   ],
   "source": [
    "li[:-1]"
   ]
  },
  {
   "cell_type": "code",
   "execution_count": 70,
   "id": "4b58d3a6",
   "metadata": {},
   "outputs": [
    {
     "ename": "IndexError",
     "evalue": "list index out of range",
     "output_type": "error",
     "traceback": [
      "\u001b[1;31m---------------------------------------------------------------------------\u001b[0m",
      "\u001b[1;31mIndexError\u001b[0m                                Traceback (most recent call last)",
      "\u001b[1;32m<ipython-input-70-cbc4bd69bbfb>\u001b[0m in \u001b[0;36m<module>\u001b[1;34m\u001b[0m\n\u001b[1;32m----> 1\u001b[1;33m \u001b[0mli\u001b[0m\u001b[1;33m[\u001b[0m\u001b[1;33m-\u001b[0m\u001b[1;36m6\u001b[0m\u001b[1;33m]\u001b[0m\u001b[1;33m\u001b[0m\u001b[1;33m\u001b[0m\u001b[0m\n\u001b[0m",
      "\u001b[1;31mIndexError\u001b[0m: list index out of range"
     ]
    }
   ],
   "source": [
    "li[-6]"
   ]
  },
  {
   "cell_type": "markdown",
   "id": "d50d408f",
   "metadata": {},
   "source": [
    "Sequencing In list"
   ]
  },
  {
   "cell_type": "code",
   "execution_count": 71,
   "id": "72d65fd6",
   "metadata": {},
   "outputs": [
    {
     "data": {
      "text/plain": [
       "[1, 2, 3, 4, 5]"
      ]
     },
     "execution_count": 71,
     "metadata": {},
     "output_type": "execute_result"
    }
   ],
   "source": [
    "li"
   ]
  },
  {
   "cell_type": "code",
   "execution_count": 72,
   "id": "c8be9e59",
   "metadata": {},
   "outputs": [
    {
     "data": {
      "text/plain": [
       "[2, 3, 4, 5]"
      ]
     },
     "execution_count": 72,
     "metadata": {},
     "output_type": "execute_result"
    }
   ],
   "source": [
    "li[1:5:1]"
   ]
  },
  {
   "cell_type": "code",
   "execution_count": 73,
   "id": "e75bd0fa",
   "metadata": {},
   "outputs": [
    {
     "data": {
      "text/plain": [
       "[2, 3, 4, 5]"
      ]
     },
     "execution_count": 73,
     "metadata": {},
     "output_type": "execute_result"
    }
   ],
   "source": [
    "li[1:]"
   ]
  },
  {
   "cell_type": "code",
   "execution_count": 74,
   "id": "6d11dedb",
   "metadata": {},
   "outputs": [
    {
     "data": {
      "text/plain": [
       "[2, 4]"
      ]
     },
     "execution_count": 74,
     "metadata": {},
     "output_type": "execute_result"
    }
   ],
   "source": [
    "li[1::2] #start=1,end=len(li) ,step=2"
   ]
  },
  {
   "cell_type": "code",
   "execution_count": 75,
   "id": "c217c2cc",
   "metadata": {},
   "outputs": [
    {
     "data": {
      "text/plain": [
       "[1, 2, 3]"
      ]
     },
     "execution_count": 75,
     "metadata": {},
     "output_type": "execute_result"
    }
   ],
   "source": [
    "li[:3] #start=0 ,end=3, step=1"
   ]
  },
  {
   "cell_type": "code",
   "execution_count": 76,
   "id": "b1395f72",
   "metadata": {},
   "outputs": [
    {
     "data": {
      "text/plain": [
       "[5]"
      ]
     },
     "execution_count": 76,
     "metadata": {},
     "output_type": "execute_result"
    }
   ],
   "source": [
    "li[-1:]"
   ]
  },
  {
   "cell_type": "code",
   "execution_count": 77,
   "id": "5c2791d6",
   "metadata": {},
   "outputs": [
    {
     "data": {
      "text/plain": [
       "[3, 4, 5]"
      ]
     },
     "execution_count": 77,
     "metadata": {},
     "output_type": "execute_result"
    }
   ],
   "source": [
    "li[-3:]"
   ]
  },
  {
   "cell_type": "code",
   "execution_count": 79,
   "id": "c040a7ca",
   "metadata": {},
   "outputs": [
    {
     "data": {
      "text/plain": [
       "[3, 4]"
      ]
     },
     "execution_count": 79,
     "metadata": {},
     "output_type": "execute_result"
    }
   ],
   "source": [
    "li[-3:-1]"
   ]
  },
  {
   "cell_type": "markdown",
   "id": "a02e7ca4",
   "metadata": {},
   "source": [
    "Line Seperated Input of List"
   ]
  },
  {
   "cell_type": "code",
   "execution_count": 80,
   "id": "b1b92b13",
   "metadata": {},
   "outputs": [
    {
     "name": "stdout",
     "output_type": "stream",
     "text": [
      "4\n",
      "2\n",
      "5\n",
      "7\n",
      "4\n"
     ]
    }
   ],
   "source": [
    "n=int(input())\n",
    "li=[]\n",
    "for i in range(n):\n",
    "    curr= int(input())\n",
    "    li.append(curr)"
   ]
  },
  {
   "cell_type": "code",
   "execution_count": 81,
   "id": "b4c22c90",
   "metadata": {},
   "outputs": [
    {
     "data": {
      "text/plain": [
       "[2, 5, 7, 4]"
      ]
     },
     "execution_count": 81,
     "metadata": {},
     "output_type": "execute_result"
    }
   ],
   "source": [
    "li"
   ]
  },
  {
   "cell_type": "code",
   "execution_count": 83,
   "id": "7a4bbb72",
   "metadata": {},
   "outputs": [
    {
     "name": "stdout",
     "output_type": "stream",
     "text": [
      "3\n",
      "1\n",
      "2\n",
      "3\n",
      "4\n",
      "10\n"
     ]
    }
   ],
   "source": [
    "N=int(input())\n",
    "l=[]\n",
    "add=0\n",
    "for i in range(n):\n",
    "    c=int(input())\n",
    "    l.append(c)\n",
    "    add+=l[i]\n",
    "print(add)"
   ]
  },
  {
   "cell_type": "code",
   "execution_count": 84,
   "id": "19e00f66",
   "metadata": {},
   "outputs": [
    {
     "name": "stdout",
     "output_type": "stream",
     "text": [
      "9\n",
      "8\n",
      "9\n",
      "1\n"
     ]
    }
   ],
   "source": [
    "for i in li:\n",
    "    print(i)"
   ]
  },
  {
   "cell_type": "code",
   "execution_count": 86,
   "id": "abf2d7e0",
   "metadata": {},
   "outputs": [
    {
     "name": "stdout",
     "output_type": "stream",
     "text": [
      "5\n",
      "1\n",
      "2\n",
      "3\n",
      "4\n",
      "5\n",
      "['1', '2', '3', '4', '5']\n"
     ]
    }
   ],
   "source": [
    "n = int(input())\n",
    "li = []\n",
    "for i in range(n):\n",
    "    li.append(input())\n",
    "print(li)"
   ]
  },
  {
   "cell_type": "markdown",
   "id": "7fd4d13e",
   "metadata": {},
   "source": [
    "Space Seperated Input in List"
   ]
  },
  {
   "cell_type": "code",
   "execution_count": 87,
   "id": "75cce12d",
   "metadata": {},
   "outputs": [
    {
     "name": "stdout",
     "output_type": "stream",
     "text": [
      "5\n"
     ]
    }
   ],
   "source": [
    "n=int(input())"
   ]
  },
  {
   "cell_type": "code",
   "execution_count": 88,
   "id": "154ffdaa",
   "metadata": {},
   "outputs": [
    {
     "name": "stdout",
     "output_type": "stream",
     "text": [
      "1 2 3 4 5\n"
     ]
    }
   ],
   "source": [
    "str =input()"
   ]
  },
  {
   "cell_type": "code",
   "execution_count": 89,
   "id": "473ab99a",
   "metadata": {},
   "outputs": [
    {
     "data": {
      "text/plain": [
       "'1 2 3 4 5'"
      ]
     },
     "execution_count": 89,
     "metadata": {},
     "output_type": "execute_result"
    }
   ],
   "source": [
    "str"
   ]
  },
  {
   "cell_type": "code",
   "execution_count": 90,
   "id": "a23fa644",
   "metadata": {},
   "outputs": [],
   "source": [
    "li=[]"
   ]
  },
  {
   "cell_type": "code",
   "execution_count": 91,
   "id": "fcc68f5e",
   "metadata": {},
   "outputs": [],
   "source": [
    "str_list= str.split(\" \")"
   ]
  },
  {
   "cell_type": "code",
   "execution_count": 92,
   "id": "556b1451",
   "metadata": {},
   "outputs": [
    {
     "data": {
      "text/plain": [
       "['1', '2', '3', '4', '5']"
      ]
     },
     "execution_count": 92,
     "metadata": {},
     "output_type": "execute_result"
    }
   ],
   "source": [
    "str_list"
   ]
  },
  {
   "cell_type": "code",
   "execution_count": 95,
   "id": "d47bb8aa",
   "metadata": {},
   "outputs": [
    {
     "name": "stdout",
     "output_type": "stream",
     "text": [
      "1,2,3,4,5\n"
     ]
    }
   ],
   "source": [
    "str1=input()"
   ]
  },
  {
   "cell_type": "code",
   "execution_count": 97,
   "id": "7d27e41c",
   "metadata": {},
   "outputs": [],
   "source": [
    "str1_list= str1.split(\",\")"
   ]
  },
  {
   "cell_type": "code",
   "execution_count": 98,
   "id": "087b1f79",
   "metadata": {},
   "outputs": [
    {
     "data": {
      "text/plain": [
       "['1', '2', '3', '4', '5']"
      ]
     },
     "execution_count": 98,
     "metadata": {},
     "output_type": "execute_result"
    }
   ],
   "source": [
    "str1_list"
   ]
  },
  {
   "cell_type": "code",
   "execution_count": 99,
   "id": "be2147e4",
   "metadata": {},
   "outputs": [
    {
     "name": "stdout",
     "output_type": "stream",
     "text": [
      "1 2 3 4 5\n"
     ]
    }
   ],
   "source": [
    "str3= input()"
   ]
  },
  {
   "cell_type": "code",
   "execution_count": 100,
   "id": "e2d67f3a",
   "metadata": {},
   "outputs": [],
   "source": [
    "str3_list= str3.split()"
   ]
  },
  {
   "cell_type": "code",
   "execution_count": 102,
   "id": "e7c70eb0",
   "metadata": {},
   "outputs": [
    {
     "data": {
      "text/plain": [
       "['1', '2', '3', '4', '5']"
      ]
     },
     "execution_count": 102,
     "metadata": {},
     "output_type": "execute_result"
    }
   ],
   "source": [
    "str3_list"
   ]
  },
  {
   "cell_type": "code",
   "execution_count": 103,
   "id": "2516969d",
   "metadata": {},
   "outputs": [],
   "source": [
    "#converting this string list into integer list\n",
    "\n",
    "li=[]"
   ]
  },
  {
   "cell_type": "code",
   "execution_count": 104,
   "id": "05748c20",
   "metadata": {},
   "outputs": [
    {
     "name": "stdout",
     "output_type": "stream",
     "text": [
      "1\n",
      "2\n",
      "3\n",
      "4\n",
      "5\n"
     ]
    }
   ],
   "source": [
    "for i in str3_list:\n",
    "    print(int(i))"
   ]
  },
  {
   "cell_type": "code",
   "execution_count": 105,
   "id": "e91612a3",
   "metadata": {},
   "outputs": [
    {
     "name": "stdout",
     "output_type": "stream",
     "text": [
      "1 2 3 4 5\n"
     ]
    }
   ],
   "source": [
    "li = [ int(x) for x in input().split()]"
   ]
  },
  {
   "cell_type": "code",
   "execution_count": 106,
   "id": "1b375578",
   "metadata": {},
   "outputs": [
    {
     "data": {
      "text/plain": [
       "[1, 2, 3, 4, 5]"
      ]
     },
     "execution_count": 106,
     "metadata": {},
     "output_type": "execute_result"
    }
   ],
   "source": [
    "li"
   ]
  },
  {
   "cell_type": "code",
   "execution_count": 107,
   "id": "6ed2ab1a",
   "metadata": {},
   "outputs": [
    {
     "name": "stdout",
     "output_type": "stream",
     "text": [
      "1\n",
      "2\n",
      "3\n",
      "4\n",
      "5\n"
     ]
    }
   ],
   "source": [
    "for i in li:\n",
    "    print(i)"
   ]
  },
  {
   "cell_type": "code",
   "execution_count": 109,
   "id": "e3ce61de",
   "metadata": {},
   "outputs": [
    {
     "name": "stdout",
     "output_type": "stream",
     "text": [
      "5\n",
      "1 2 3 4 5\n",
      "1\n",
      "2\n",
      "3\n",
      "4\n",
      "5\n"
     ]
    }
   ],
   "source": [
    "n=int(input())\n",
    "li= [int(x) for x in input().split()]\n",
    "for i in li:\n",
    "    print(i)"
   ]
  },
  {
   "cell_type": "code",
   "execution_count": 111,
   "id": "a60d7d41",
   "metadata": {},
   "outputs": [
    {
     "name": "stdout",
     "output_type": "stream",
     "text": [
      "1 3 6 8 9\n",
      "['1', '3', '6', '8', '9']\n"
     ]
    }
   ],
   "source": [
    "\n",
    "li = [x for x in input().split()]\n",
    "print(li)"
   ]
  },
  {
   "cell_type": "markdown",
   "id": "daaa2bb6",
   "metadata": {},
   "source": [
    "Linear Search"
   ]
  },
  {
   "cell_type": "code",
   "execution_count": 112,
   "id": "5bd485e3",
   "metadata": {},
   "outputs": [
    {
     "name": "stdout",
     "output_type": "stream",
     "text": [
      "6\n"
     ]
    }
   ],
   "source": [
    "n=int(input())"
   ]
  },
  {
   "cell_type": "code",
   "execution_count": 113,
   "id": "8be466cb",
   "metadata": {},
   "outputs": [
    {
     "name": "stdout",
     "output_type": "stream",
     "text": [
      "2 4 7 9 10 13\n"
     ]
    }
   ],
   "source": [
    "li = [int(x) for x in input().split()]"
   ]
  },
  {
   "cell_type": "code",
   "execution_count": 118,
   "id": "fcf848fc",
   "metadata": {},
   "outputs": [
    {
     "name": "stdout",
     "output_type": "stream",
     "text": [
      "99\n"
     ]
    }
   ],
   "source": [
    "ele=int(input())"
   ]
  },
  {
   "cell_type": "code",
   "execution_count": 119,
   "id": "65a0ecf3",
   "metadata": {},
   "outputs": [
    {
     "name": "stdout",
     "output_type": "stream",
     "text": [
      "-1\n"
     ]
    }
   ],
   "source": [
    "isFound=False\n",
    "for i in range(len(li)):\n",
    "    if li[i]==ele:\n",
    "        print(i)\n",
    "        isFound=True\n",
    "        break\n",
    "if isFound is False:\n",
    "    print(-1)"
   ]
  },
  {
   "cell_type": "markdown",
   "id": "ab0e974f",
   "metadata": {},
   "source": [
    "Linear Search Through Function"
   ]
  },
  {
   "cell_type": "code",
   "execution_count": 121,
   "id": "a43301d9",
   "metadata": {},
   "outputs": [
    {
     "name": "stdout",
     "output_type": "stream",
     "text": [
      "-1\n"
     ]
    }
   ],
   "source": [
    "def linear_search(li,ele):\n",
    "    for i in range(len(li)):\n",
    "        if li[i]==ele:\n",
    "            return i\n",
    "    return -1\n",
    "\n",
    "li= [1,2,3,6,5]\n",
    "index=linear_search(li,9)\n",
    "print(index)"
   ]
  },
  {
   "cell_type": "markdown",
   "id": "ede48464",
   "metadata": {},
   "source": [
    "Immutable"
   ]
  },
  {
   "cell_type": "code",
   "execution_count": 122,
   "id": "5c43b864",
   "metadata": {},
   "outputs": [
    {
     "name": "stdout",
     "output_type": "stream",
     "text": [
      "3\n"
     ]
    }
   ],
   "source": [
    "x=3\n",
    "a=3\n",
    "print(x)"
   ]
  },
  {
   "cell_type": "code",
   "execution_count": 123,
   "id": "3d83384b",
   "metadata": {},
   "outputs": [
    {
     "data": {
      "text/plain": [
       "140722128758640"
      ]
     },
     "execution_count": 123,
     "metadata": {},
     "output_type": "execute_result"
    }
   ],
   "source": [
    "id(x)"
   ]
  },
  {
   "cell_type": "code",
   "execution_count": 124,
   "id": "66fc4fd1",
   "metadata": {},
   "outputs": [
    {
     "data": {
      "text/plain": [
       "140722128758640"
      ]
     },
     "execution_count": 124,
     "metadata": {},
     "output_type": "execute_result"
    }
   ],
   "source": [
    "id(a)"
   ]
  },
  {
   "cell_type": "code",
   "execution_count": 125,
   "id": "a49b3fc7",
   "metadata": {},
   "outputs": [],
   "source": [
    "a=4"
   ]
  },
  {
   "cell_type": "code",
   "execution_count": 126,
   "id": "24b436ce",
   "metadata": {},
   "outputs": [
    {
     "data": {
      "text/plain": [
       "140722128758672"
      ]
     },
     "execution_count": 126,
     "metadata": {},
     "output_type": "execute_result"
    }
   ],
   "source": [
    "id(a)"
   ]
  },
  {
   "cell_type": "markdown",
   "id": "7853d2e0",
   "metadata": {},
   "source": [
    "Mutable"
   ]
  },
  {
   "cell_type": "code",
   "execution_count": 128,
   "id": "7956261f",
   "metadata": {},
   "outputs": [
    {
     "name": "stdout",
     "output_type": "stream",
     "text": [
      "[1, 2, 3, 4]\n"
     ]
    }
   ],
   "source": [
    "li=[1,2,3,4]\n",
    "li2=li\n",
    "print(li)"
   ]
  },
  {
   "cell_type": "code",
   "execution_count": 129,
   "id": "e59f6c29",
   "metadata": {},
   "outputs": [
    {
     "name": "stdout",
     "output_type": "stream",
     "text": [
      "[1, 2, 3, 4]\n"
     ]
    }
   ],
   "source": [
    "print(li2)"
   ]
  },
  {
   "cell_type": "code",
   "execution_count": 130,
   "id": "36d41d91",
   "metadata": {},
   "outputs": [
    {
     "name": "stdout",
     "output_type": "stream",
     "text": [
      "2711194624064\n",
      "2711194624064\n"
     ]
    }
   ],
   "source": [
    "print(id(li))\n",
    "print(id(li2))"
   ]
  },
  {
   "cell_type": "code",
   "execution_count": 131,
   "id": "9e6cc7e6",
   "metadata": {},
   "outputs": [],
   "source": [
    "li2[1]=4"
   ]
  },
  {
   "cell_type": "code",
   "execution_count": 132,
   "id": "936744da",
   "metadata": {},
   "outputs": [
    {
     "name": "stdout",
     "output_type": "stream",
     "text": [
      "[1, 4, 3, 4]\n"
     ]
    }
   ],
   "source": [
    "print(li)"
   ]
  },
  {
   "cell_type": "code",
   "execution_count": 133,
   "id": "53d5990f",
   "metadata": {},
   "outputs": [
    {
     "name": "stdout",
     "output_type": "stream",
     "text": [
      "[1, 4, 3, 4]\n",
      "[3, 5, 3]\n"
     ]
    }
   ],
   "source": [
    "li2=[3,4,3]\n",
    "li2[1]=5\n",
    "print(li)\n",
    "print(li2)"
   ]
  },
  {
   "cell_type": "markdown",
   "id": "976afc63",
   "metadata": {},
   "source": [
    "Passing Variables through functions"
   ]
  },
  {
   "cell_type": "code",
   "execution_count": 134,
   "id": "dac581e7",
   "metadata": {},
   "outputs": [
    {
     "name": "stdout",
     "output_type": "stream",
     "text": [
      "2\n"
     ]
    }
   ],
   "source": [
    "def increment(a):\n",
    "    a=a+2\n",
    "    return \n",
    "\n",
    "a=2\n",
    "increment(a)\n",
    "print(a)"
   ]
  },
  {
   "cell_type": "code",
   "execution_count": 135,
   "id": "5d926569",
   "metadata": {},
   "outputs": [
    {
     "name": "stdout",
     "output_type": "stream",
     "text": [
      "4\n"
     ]
    }
   ],
   "source": [
    "def increment(a):\n",
    "    a=a+2\n",
    "    return a\n",
    "\n",
    "a=2\n",
    "a= increment(a)\n",
    "print(a)"
   ]
  },
  {
   "cell_type": "markdown",
   "id": "7f1c22a2",
   "metadata": {},
   "source": [
    "Passing list through Functions"
   ]
  },
  {
   "cell_type": "code",
   "execution_count": 136,
   "id": "a653dba7",
   "metadata": {},
   "outputs": [
    {
     "name": "stdout",
     "output_type": "stream",
     "text": [
      "[3, 2, 3, 4]\n"
     ]
    }
   ],
   "source": [
    "def increment(li):\n",
    "    li[0]=li[0]+2\n",
    "    return\n",
    "\n",
    "li =[1,2,3,4]\n",
    "increment(li)\n",
    "print(li)"
   ]
  },
  {
   "cell_type": "code",
   "execution_count": 137,
   "id": "7fb66c06",
   "metadata": {},
   "outputs": [
    {
     "name": "stdout",
     "output_type": "stream",
     "text": [
      "[1, 2, 3, 4]\n"
     ]
    }
   ],
   "source": [
    "def increment(li):\n",
    "    li=[3,3,4]\n",
    "    return\n",
    "\n",
    "li =[1,2,3,4]\n",
    "increment(li)\n",
    "print(li)"
   ]
  },
  {
   "cell_type": "code",
   "execution_count": 138,
   "id": "11d32d06",
   "metadata": {},
   "outputs": [
    {
     "name": "stdout",
     "output_type": "stream",
     "text": [
      "[3, 3, 4]\n"
     ]
    }
   ],
   "source": [
    "def increment(li):\n",
    "    li=[3,3,4]\n",
    "    return li\n",
    "\n",
    "li =[1,2,3,4]\n",
    "li=increment(li)\n",
    "print(li)"
   ]
  },
  {
   "cell_type": "markdown",
   "id": "8bf6b8dd",
   "metadata": {},
   "source": [
    "Reversing list"
   ]
  },
  {
   "cell_type": "code",
   "execution_count": 143,
   "id": "ddec9cc8",
   "metadata": {},
   "outputs": [
    {
     "name": "stdout",
     "output_type": "stream",
     "text": [
      "[6, 5, 4, 3, 2, 1]\n"
     ]
    }
   ],
   "source": [
    "def reverse(li):\n",
    "    length=len(li)\n",
    "    for i in range(length//2):\n",
    "        li[i],li[length-i-1]=li[length-i-1],li[i]\n",
    "\n",
    "\n",
    "li=[1,2,3,4,5,6]\n",
    "reverse(li)\n",
    "print(li)"
   ]
  },
  {
   "cell_type": "code",
   "execution_count": 145,
   "id": "0a160cef",
   "metadata": {},
   "outputs": [
    {
     "name": "stdout",
     "output_type": "stream",
     "text": [
      "[6, 5, 4, 3, 2, 1]\n"
     ]
    }
   ],
   "source": [
    "def reverse_1(li):\n",
    "    length=len(li)\n",
    "    for i in range(length//2):\n",
    "        li[i],li[-i-1]=li[-i-1],li[i]\n",
    "\n",
    "\n",
    "li=[1,2,3,4,5,6]\n",
    "reverse_1(li)\n",
    "print(li)"
   ]
  },
  {
   "cell_type": "code",
   "execution_count": 147,
   "id": "2f5cb59b",
   "metadata": {},
   "outputs": [
    {
     "name": "stdout",
     "output_type": "stream",
     "text": [
      "[6, 5, 4, 3, 2, 1]\n"
     ]
    }
   ],
   "source": [
    "li=[1,2,3,4,5,6]\n",
    "li=li[::-1]\n",
    "print(li)"
   ]
  },
  {
   "cell_type": "code",
   "execution_count": null,
   "id": "13a17c94",
   "metadata": {},
   "outputs": [],
   "source": [
    "li=[2,4,7,2,7]\n",
    "\n",
    "for i in range(len(li)-1):\n",
    "    for j in range(i+1,len(li)):\n",
    "        if i!"
   ]
  }
 ],
 "metadata": {
  "kernelspec": {
   "display_name": "Python 3",
   "language": "python",
   "name": "python3"
  },
  "language_info": {
   "codemirror_mode": {
    "name": "ipython",
    "version": 3
   },
   "file_extension": ".py",
   "mimetype": "text/x-python",
   "name": "python",
   "nbconvert_exporter": "python",
   "pygments_lexer": "ipython3",
   "version": "3.8.8"
  }
 },
 "nbformat": 4,
 "nbformat_minor": 5
}
