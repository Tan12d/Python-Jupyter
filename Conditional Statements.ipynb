{
 "cells": [
  {
   "cell_type": "code",
   "execution_count": 5,
   "id": "5a99d94a",
   "metadata": {},
   "outputs": [
    {
     "name": "stdout",
     "output_type": "stream",
     "text": [
      "4  is greater than  8\n"
     ]
    }
   ],
   "source": [
    "a = 4\n",
    "b = 8\n",
    "if (a > b):\n",
    "   print (a, ' is greater than ',b)"
   ]
  },
  {
   "cell_type": "code",
   "execution_count": 10,
   "id": "91b1f471",
   "metadata": {},
   "outputs": [
    {
     "name": "stdout",
     "output_type": "stream",
     "text": [
      "4  is greater than  8\n"
     ]
    }
   ],
   "source": [
    "a = 4\n",
    "b = 8\n",
    "if (a > b):\n",
    "   print (a, ' is greater than ',b)\n",
    "else:\n",
    "   print (a, ' is smaller than ',b)"
   ]
  },
  {
   "cell_type": "code",
   "execution_count": 11,
   "id": "bfdf329b",
   "metadata": {},
   "outputs": [
    {
     "name": "stdout",
     "output_type": "stream",
     "text": [
      "4  equal  4\n"
     ]
    }
   ],
   "source": [
    "a = 4\n",
    "b = 4\n",
    "if (a > b)or(a < b):\n",
    "   print (a, ' is greater than or less than ',b)\n",
    "else:\n",
    "   print (a, ' equal ',b)"
   ]
  },
  {
   "cell_type": "code",
   "execution_count": 1,
   "id": "482cb79e",
   "metadata": {},
   "outputs": [
    {
     "ename": "SyntaxError",
     "evalue": "invalid syntax (<ipython-input-1-0d0fcf3ad297>, line 3)",
     "output_type": "error",
     "traceback": [
      "\u001b[1;36m  File \u001b[1;32m\"<ipython-input-1-0d0fcf3ad297>\"\u001b[1;36m, line \u001b[1;32m3\u001b[0m\n\u001b[1;33m    if (a > b)||(a < b):\u001b[0m\n\u001b[1;37m               ^\u001b[0m\n\u001b[1;31mSyntaxError\u001b[0m\u001b[1;31m:\u001b[0m invalid syntax\n"
     ]
    }
   ],
   "source": [
    "a = 4\n",
    "b = 4\n",
    "if (a > b)||(a < b):\n",
    "   print (a, ' is greater than or less than ',b)\n",
    "else:\n",
    "   print (a, ' equal ',b)"
   ]
  },
  {
   "cell_type": "code",
   "execution_count": 2,
   "id": "f8e1ab54",
   "metadata": {},
   "outputs": [
    {
     "ename": "SyntaxError",
     "evalue": "invalid syntax (<ipython-input-2-cb060786739d>, line 4)",
     "output_type": "error",
     "traceback": [
      "\u001b[1;36m  File \u001b[1;32m\"<ipython-input-2-cb060786739d>\"\u001b[1;36m, line \u001b[1;32m4\u001b[0m\n\u001b[1;33m    else if x==2:\u001b[0m\n\u001b[1;37m         ^\u001b[0m\n\u001b[1;31mSyntaxError\u001b[0m\u001b[1;31m:\u001b[0m invalid syntax\n"
     ]
    }
   ],
   "source": [
    "x=5\n",
    "if x==1:\n",
    "   print('x(1) is equal to 5')\n",
    "else if x==2:\n",
    "   print('x(2) is equal to 5')\n",
    "else:\n",
    "   print('x is not equal to 5')"
   ]
  },
  {
   "cell_type": "code",
   "execution_count": 3,
   "id": "d2bb70be",
   "metadata": {},
   "outputs": [
    {
     "name": "stdout",
     "output_type": "stream",
     "text": [
      "x is not equal to 5\n"
     ]
    }
   ],
   "source": [
    "x=5\n",
    "if x==1:\n",
    "   print('x(1) is equal to 5')\n",
    "elif x==2:\n",
    "   print('x(2) is equal to 5')\n",
    "else:\n",
    "   print('x is not equal to 5')"
   ]
  },
  {
   "cell_type": "code",
   "execution_count": 4,
   "id": "7790171f",
   "metadata": {},
   "outputs": [
    {
     "ename": "NameError",
     "evalue": "name 'Tanmoy' is not defined",
     "output_type": "error",
     "traceback": [
      "\u001b[1;31m---------------------------------------------------------------------------\u001b[0m",
      "\u001b[1;31mNameError\u001b[0m                                 Traceback (most recent call last)",
      "\u001b[1;32m<ipython-input-4-b57ecd2f4842>\u001b[0m in \u001b[0;36m<module>\u001b[1;34m\u001b[0m\n\u001b[1;32m----> 1\u001b[1;33m \u001b[0mname\u001b[0m\u001b[1;33m=\u001b[0m\u001b[0mTanmoy\u001b[0m\u001b[1;33m\u001b[0m\u001b[1;33m\u001b[0m\u001b[0m\n\u001b[0m\u001b[0;32m      2\u001b[0m \u001b[0mage\u001b[0m\u001b[1;33m=\u001b[0m\u001b[1;36m18\u001b[0m\u001b[1;33m\u001b[0m\u001b[1;33m\u001b[0m\u001b[0m\n\u001b[0;32m      3\u001b[0m \u001b[1;32mif\u001b[0m \u001b[0mage\u001b[0m\u001b[1;33m<\u001b[0m\u001b[1;36m20\u001b[0m\u001b[1;33m:\u001b[0m\u001b[1;33m\u001b[0m\u001b[1;33m\u001b[0m\u001b[0m\n\u001b[0;32m      4\u001b[0m     \u001b[1;32mif\u001b[0m \u001b[0mname\u001b[0m\u001b[1;33m==\u001b[0m\u001b[0mTanmoy\u001b[0m\u001b[1;33m:\u001b[0m\u001b[1;33m\u001b[0m\u001b[1;33m\u001b[0m\u001b[0m\n\u001b[0;32m      5\u001b[0m        \u001b[0mprint\u001b[0m\u001b[1;33m(\u001b[0m\u001b[1;34m\"he's a good guy\"\u001b[0m\u001b[1;33m)\u001b[0m\u001b[1;33m\u001b[0m\u001b[1;33m\u001b[0m\u001b[0m\n",
      "\u001b[1;31mNameError\u001b[0m: name 'Tanmoy' is not defined"
     ]
    }
   ],
   "source": [
    "name=Tanmoy\n",
    "age=18\n",
    "if age<20:\n",
    "    if name==Tanmoy:\n",
    "       print(\"he's a good guy\")\n",
    "    else:\n",
    "       print(\"he's ok\")\n",
    "else:\n",
    "    print(\"he's not ok\")"
   ]
  },
  {
   "cell_type": "code",
   "execution_count": 5,
   "id": "7be59aa5",
   "metadata": {},
   "outputs": [
    {
     "name": "stdout",
     "output_type": "stream",
     "text": [
      "he's a good guy\n"
     ]
    }
   ],
   "source": [
    "name='Tanmoy'\n",
    "age=18\n",
    "if age<20:\n",
    "    if name=='Tanmoy':\n",
    "       print(\"he's a good guy\")\n",
    "    else:\n",
    "       print(\"he's ok\")\n",
    "else:\n",
    "    print(\"he's not ok\")"
   ]
  }
 ],
 "metadata": {
  "kernelspec": {
   "display_name": "Python 3",
   "language": "python",
   "name": "python3"
  },
  "language_info": {
   "codemirror_mode": {
    "name": "ipython",
    "version": 3
   },
   "file_extension": ".py",
   "mimetype": "text/x-python",
   "name": "python",
   "nbconvert_exporter": "python",
   "pygments_lexer": "ipython3",
   "version": "3.8.8"
  }
 },
 "nbformat": 4,
 "nbformat_minor": 5
}
