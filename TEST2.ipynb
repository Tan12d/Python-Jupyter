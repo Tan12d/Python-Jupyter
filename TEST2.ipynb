{
 "cells": [
  {
   "cell_type": "code",
   "execution_count": 1,
   "id": "dc0e50f9",
   "metadata": {},
   "outputs": [
    {
     "data": {
      "text/plain": [
       "[1, 2, 3, 4, 5, 6]"
      ]
     },
     "execution_count": 1,
     "metadata": {},
     "output_type": "execute_result"
    }
   ],
   "source": [
    "x=[1,2,3,4,5,6]\n",
    "x"
   ]
  },
  {
   "cell_type": "code",
   "execution_count": 2,
   "id": "83040359",
   "metadata": {},
   "outputs": [],
   "source": [
    "x[0]=150"
   ]
  },
  {
   "cell_type": "code",
   "execution_count": 3,
   "id": "58578531",
   "metadata": {},
   "outputs": [
    {
     "data": {
      "text/plain": [
       "[150, 2, 3, 4, 5, 6]"
      ]
     },
     "execution_count": 3,
     "metadata": {},
     "output_type": "execute_result"
    }
   ],
   "source": [
    "x"
   ]
  },
  {
   "cell_type": "code",
   "execution_count": 4,
   "id": "83734db5",
   "metadata": {},
   "outputs": [
    {
     "data": {
      "text/plain": [
       "[150, 2, 50, 3, 4, 5, 6]"
      ]
     },
     "execution_count": 4,
     "metadata": {},
     "output_type": "execute_result"
    }
   ],
   "source": [
    "x.insert(2,50)\n",
    "x"
   ]
  },
  {
   "cell_type": "code",
   "execution_count": 5,
   "id": "2b68a176",
   "metadata": {},
   "outputs": [
    {
     "data": {
      "text/plain": [
       "[150, 2, 50, 3, 4, 5, 6, 100]"
      ]
     },
     "execution_count": 5,
     "metadata": {},
     "output_type": "execute_result"
    }
   ],
   "source": [
    "x.insert(7,100)\n",
    "x"
   ]
  },
  {
   "cell_type": "code",
   "execution_count": 6,
   "id": "753addae",
   "metadata": {},
   "outputs": [
    {
     "data": {
      "text/plain": [
       "[150, 2, 50, 4, 5, 6, 100]"
      ]
     },
     "execution_count": 6,
     "metadata": {},
     "output_type": "execute_result"
    }
   ],
   "source": [
    "x.pop(3)\n",
    "x"
   ]
  },
  {
   "cell_type": "code",
   "execution_count": 32,
   "id": "381ccb0e",
   "metadata": {},
   "outputs": [
    {
     "data": {
      "text/plain": [
       "[150, 2, 50, 4, 5, 6, 100, [10, 20]]"
      ]
     },
     "execution_count": 32,
     "metadata": {},
     "output_type": "execute_result"
    }
   ],
   "source": [
    "z=[10,20]\n",
    "x.insert(7,z)\n",
    "x"
   ]
  },
  {
   "cell_type": "code",
   "execution_count": 7,
   "id": "032a5210",
   "metadata": {},
   "outputs": [
    {
     "data": {
      "text/plain": [
       "{'Tanmoy': 21, 'Yash': 20, 'Ankit': 16, 'Timmy': 22, 'Rossel': 18}"
      ]
     },
     "execution_count": 7,
     "metadata": {},
     "output_type": "execute_result"
    }
   ],
   "source": [
    "dict_1={ 'Tanmoy':21, 'Yash':20, 'Ankit':16, 'Timmy':22, 'Rossel':18}\n",
    "dict_1"
   ]
  },
  {
   "cell_type": "code",
   "execution_count": 8,
   "id": "6311362e",
   "metadata": {},
   "outputs": [
    {
     "data": {
      "text/plain": [
       "{'Tanmoy': 21, 'Yash': 20, 'Ankit': 16, 'Timmy': 25, 'Rossel': 18}"
      ]
     },
     "execution_count": 8,
     "metadata": {},
     "output_type": "execute_result"
    }
   ],
   "source": [
    "dict_1['Timmy']=25\n",
    "dict_1"
   ]
  },
  {
   "cell_type": "code",
   "execution_count": 12,
   "id": "40fc4cd9",
   "metadata": {},
   "outputs": [
    {
     "ename": "TypeError",
     "evalue": "unsupported operand type(s) for +: 'dict' and 'dict'",
     "output_type": "error",
     "traceback": [
      "\u001b[1;31m---------------------------------------------------------------------------\u001b[0m",
      "\u001b[1;31mTypeError\u001b[0m                                 Traceback (most recent call last)",
      "\u001b[1;32m<ipython-input-12-5a072783a64d>\u001b[0m in \u001b[0;36m<module>\u001b[1;34m\u001b[0m\n\u001b[0;32m      1\u001b[0m \u001b[0mdict_2\u001b[0m\u001b[1;33m=\u001b[0m\u001b[1;33m{\u001b[0m\u001b[1;34m'Hia'\u001b[0m\u001b[1;33m:\u001b[0m\u001b[1;36m30\u001b[0m\u001b[1;33m}\u001b[0m\u001b[1;33m\u001b[0m\u001b[1;33m\u001b[0m\u001b[0m\n\u001b[1;32m----> 2\u001b[1;33m \u001b[0mconca\u001b[0m\u001b[1;33m=\u001b[0m \u001b[0mdict_1\u001b[0m \u001b[1;33m+\u001b[0m \u001b[0mdict_2\u001b[0m\u001b[1;33m\u001b[0m\u001b[1;33m\u001b[0m\u001b[0m\n\u001b[0m\u001b[0;32m      3\u001b[0m \u001b[0mconca\u001b[0m\u001b[1;33m\u001b[0m\u001b[1;33m\u001b[0m\u001b[0m\n",
      "\u001b[1;31mTypeError\u001b[0m: unsupported operand type(s) for +: 'dict' and 'dict'"
     ]
    }
   ],
   "source": [
    "dict_2={'Hia':30}\n",
    "conca= dict_1 + dict_2\n",
    "conca"
   ]
  },
  {
   "cell_type": "code",
   "execution_count": 13,
   "id": "6c3e0c53",
   "metadata": {},
   "outputs": [
    {
     "ename": "AttributeError",
     "evalue": "'dict' object has no attribute 'extend'",
     "output_type": "error",
     "traceback": [
      "\u001b[1;31m---------------------------------------------------------------------------\u001b[0m",
      "\u001b[1;31mAttributeError\u001b[0m                            Traceback (most recent call last)",
      "\u001b[1;32m<ipython-input-13-683364180eb6>\u001b[0m in \u001b[0;36m<module>\u001b[1;34m\u001b[0m\n\u001b[1;32m----> 1\u001b[1;33m \u001b[0mdict_1\u001b[0m\u001b[1;33m.\u001b[0m\u001b[0mextend\u001b[0m\u001b[1;33m(\u001b[0m\u001b[0mdict_2\u001b[0m\u001b[1;33m)\u001b[0m\u001b[1;33m\u001b[0m\u001b[1;33m\u001b[0m\u001b[0m\n\u001b[0m",
      "\u001b[1;31mAttributeError\u001b[0m: 'dict' object has no attribute 'extend'"
     ]
    }
   ],
   "source": [
    "dict_1.extend(dict_2)"
   ]
  },
  {
   "cell_type": "code",
   "execution_count": 15,
   "id": "8f932214",
   "metadata": {},
   "outputs": [],
   "source": [
    "dict3=dict_1 and dict_2"
   ]
  },
  {
   "cell_type": "code",
   "execution_count": 16,
   "id": "5c7b1a0c",
   "metadata": {},
   "outputs": [
    {
     "data": {
      "text/plain": [
       "{'Hia': 30}"
      ]
     },
     "execution_count": 16,
     "metadata": {},
     "output_type": "execute_result"
    }
   ],
   "source": [
    "dict3"
   ]
  },
  {
   "cell_type": "code",
   "execution_count": 17,
   "id": "49f05f60",
   "metadata": {},
   "outputs": [
    {
     "ename": "AttributeError",
     "evalue": "'dict' object has no attribute 'concat'",
     "output_type": "error",
     "traceback": [
      "\u001b[1;31m---------------------------------------------------------------------------\u001b[0m",
      "\u001b[1;31mAttributeError\u001b[0m                            Traceback (most recent call last)",
      "\u001b[1;32m<ipython-input-17-a480e84eada9>\u001b[0m in \u001b[0;36m<module>\u001b[1;34m\u001b[0m\n\u001b[1;32m----> 1\u001b[1;33m \u001b[0mdict_1\u001b[0m\u001b[1;33m.\u001b[0m\u001b[0mconcat\u001b[0m\u001b[1;33m(\u001b[0m\u001b[0mdict_2\u001b[0m\u001b[1;33m)\u001b[0m\u001b[1;33m\u001b[0m\u001b[1;33m\u001b[0m\u001b[0m\n\u001b[0m",
      "\u001b[1;31mAttributeError\u001b[0m: 'dict' object has no attribute 'concat'"
     ]
    }
   ],
   "source": [
    "dict_1.concat(dict_2)"
   ]
  },
  {
   "cell_type": "code",
   "execution_count": 18,
   "id": "43c0efac",
   "metadata": {},
   "outputs": [
    {
     "ename": "AttributeError",
     "evalue": "'dict' object has no attribute 'add'",
     "output_type": "error",
     "traceback": [
      "\u001b[1;31m---------------------------------------------------------------------------\u001b[0m",
      "\u001b[1;31mAttributeError\u001b[0m                            Traceback (most recent call last)",
      "\u001b[1;32m<ipython-input-18-9cab7b6c82dd>\u001b[0m in \u001b[0;36m<module>\u001b[1;34m\u001b[0m\n\u001b[1;32m----> 1\u001b[1;33m \u001b[0mdict_1\u001b[0m\u001b[1;33m.\u001b[0m\u001b[0madd\u001b[0m\u001b[1;33m(\u001b[0m\u001b[0mdict_2\u001b[0m\u001b[1;33m)\u001b[0m\u001b[1;33m\u001b[0m\u001b[1;33m\u001b[0m\u001b[0m\n\u001b[0m",
      "\u001b[1;31mAttributeError\u001b[0m: 'dict' object has no attribute 'add'"
     ]
    }
   ],
   "source": [
    "dict_1.add(dict_2)"
   ]
  },
  {
   "cell_type": "code",
   "execution_count": 23,
   "id": "47672b04",
   "metadata": {},
   "outputs": [],
   "source": [
    "dict_1['Rossel']=18"
   ]
  },
  {
   "cell_type": "code",
   "execution_count": 24,
   "id": "bd5819cf",
   "metadata": {},
   "outputs": [
    {
     "data": {
      "text/plain": [
       "{'Tanmoy': 21, 'Yash': 20, 'Ankit': 16, 'Timmy': 25, 'Rossel': 18, 'Hina': 60}"
      ]
     },
     "execution_count": 24,
     "metadata": {},
     "output_type": "execute_result"
    }
   ],
   "source": [
    "dict_1"
   ]
  },
  {
   "cell_type": "code",
   "execution_count": 25,
   "id": "63d71f18",
   "metadata": {},
   "outputs": [],
   "source": [
    "dict_1['Hina']=30"
   ]
  },
  {
   "cell_type": "code",
   "execution_count": 26,
   "id": "87b26cad",
   "metadata": {},
   "outputs": [
    {
     "data": {
      "text/plain": [
       "{'Tanmoy': 21, 'Yash': 20, 'Ankit': 16, 'Timmy': 25, 'Rossel': 18, 'Hina': 30}"
      ]
     },
     "execution_count": 26,
     "metadata": {},
     "output_type": "execute_result"
    }
   ],
   "source": [
    "dict_1"
   ]
  },
  {
   "cell_type": "code",
   "execution_count": 27,
   "id": "eda62376",
   "metadata": {},
   "outputs": [],
   "source": [
    "dict_1.clear()"
   ]
  },
  {
   "cell_type": "code",
   "execution_count": 28,
   "id": "4d04fef3",
   "metadata": {},
   "outputs": [
    {
     "data": {
      "text/plain": [
       "{}"
      ]
     },
     "execution_count": 28,
     "metadata": {},
     "output_type": "execute_result"
    }
   ],
   "source": [
    "dict_1"
   ]
  }
 ],
 "metadata": {
  "kernelspec": {
   "display_name": "Python 3",
   "language": "python",
   "name": "python3"
  },
  "language_info": {
   "codemirror_mode": {
    "name": "ipython",
    "version": 3
   },
   "file_extension": ".py",
   "mimetype": "text/x-python",
   "name": "python",
   "nbconvert_exporter": "python",
   "pygments_lexer": "ipython3",
   "version": "3.8.8"
  }
 },
 "nbformat": 4,
 "nbformat_minor": 5
}
