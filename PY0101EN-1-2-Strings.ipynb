{
 "cells": [
  {
   "cell_type": "markdown",
   "metadata": {
    "id": "uqllYues9-DU"
   },
   "source": [
    "<div class=\"alert alert-block alert-info\" style=\"margin-top: 20px\">\n",
    "    <a href=\"https://cocl.us/topNotebooksPython101Coursera\">\n",
    "         <img src=\"https://s3-api.us-geo.objectstorage.softlayer.net/cf-courses-data/CognitiveClass/PY0101EN/Ad/TopAd.png\" width=\"750\" align=\"center\">\n",
    "    </a>\n",
    "</div>"
   ]
  },
  {
   "cell_type": "markdown",
   "metadata": {
    "id": "hKm0KfD29-DV"
   },
   "source": [
    "<h1>String Operations</h1>"
   ]
  },
  {
   "cell_type": "markdown",
   "metadata": {
    "id": "iimlOvV99-DW"
   },
   "source": [
    "<p><strong>Welcome!</strong> This notebook will teach you about the string operations in the Python Programming Language. By the end of this notebook, you'll know the basics string operations in Python, including indexing, escape sequences and operations.</p> "
   ]
  },
  {
   "cell_type": "markdown",
   "metadata": {
    "id": "sMnPhcnn9-DW"
   },
   "source": [
    "<h2>Table of Contents</h2>\n",
    "<div class=\"alert alert-block alert-info\" style=\"margin-top: 20px\">\n",
    "    <ul>\n",
    "        <li>\n",
    "            <a href=\"#strings\">What are Strings?</a>\n",
    "        </li>\n",
    "        <li>\n",
    "            <a href=\"#index\">Indexing</a>\n",
    "            <ul>\n",
    "                <li><a href=\"neg\">Negative Indexing</a></li>\n",
    "                <li><a href=\"slice\">Slicing</a></li>\n",
    "                <li><a href=\"stride\">Stride</a></li>\n",
    "                <li><a href=\"concat\">Concatenate Strings</a></li>\n",
    "            </ul>\n",
    "        </li>\n",
    "        <li>\n",
    "            <a href=\"#escape\">Escape Sequences</a>\n",
    "        </li>\n",
    "        <li>\n",
    "            <a href=\"#operations\">String Operations</a>\n",
    "        </li>\n",
    "        <li>\n",
    "            <a href=\"#quiz\">Quiz on Strings</a>\n",
    "        </li>\n",
    "    </ul>\n",
    "    <p>\n",
    "        Estimated time needed: <strong>15 min</strong>\n",
    "    </p>\n",
    "</div>\n",
    "\n",
    "<hr>"
   ]
  },
  {
   "cell_type": "markdown",
   "metadata": {
    "id": "nqNo8_YW9-DX"
   },
   "source": [
    "<h2 id=\"strings\">What are Strings?</h2>"
   ]
  },
  {
   "cell_type": "markdown",
   "metadata": {
    "id": "i9enLwLl9-DX"
   },
   "source": [
    "The following example shows a string contained within 2 quotation marks:"
   ]
  },
  {
   "cell_type": "code",
   "execution_count": null,
   "metadata": {
    "colab": {
     "base_uri": "https://localhost:8080/",
     "height": 35
    },
    "executionInfo": {
     "elapsed": 11,
     "status": "ok",
     "timestamp": 1625929323784,
     "user": {
      "displayName": "Alok Yadav",
      "photoUrl": "https://lh3.googleusercontent.com/a-/AOh14GizZFMCB8-eVvEF7cC9zt8SGXsUNNmSz3Ka92VAXw=s64",
      "userId": "13695401162967392961"
     },
     "user_tz": -330
    },
    "id": "6fvUOYGY9-DX",
    "outputId": "4c806f02-d081-4021-e2c7-af4c157d07fb"
   },
   "outputs": [
    {
     "data": {
      "application/vnd.google.colaboratory.intrinsic+json": {
       "type": "string"
      },
      "text/plain": [
       "'Michael Jackson'"
      ]
     },
     "execution_count": 1,
     "metadata": {
      "tags": []
     },
     "output_type": "execute_result"
    }
   ],
   "source": [
    "# Use quotation marks for defining string\n",
    "\n",
    "\"Michael Jackson\""
   ]
  },
  {
   "cell_type": "markdown",
   "metadata": {
    "id": "qyjc274f9-DZ"
   },
   "source": [
    "We can also use single quotation marks:"
   ]
  },
  {
   "cell_type": "code",
   "execution_count": null,
   "metadata": {
    "colab": {
     "base_uri": "https://localhost:8080/",
     "height": 35
    },
    "executionInfo": {
     "elapsed": 501,
     "status": "ok",
     "timestamp": 1624688889350,
     "user": {
      "displayName": "Dhyan Vyas",
      "photoUrl": "https://lh3.googleusercontent.com/a-/AOh14GicI0qQzMCkj4wkjzhp-RxInjb5nSa6cq08yNOU6w=s64",
      "userId": "04303281926800808768"
     },
     "user_tz": -330
    },
    "id": "JfUp25Wf9-DZ",
    "outputId": "c10108cc-71c8-495e-8a6a-988d306daa75"
   },
   "outputs": [
    {
     "data": {
      "application/vnd.google.colaboratory.intrinsic+json": {
       "type": "string"
      },
      "text/plain": [
       "'Michael Jackson'"
      ]
     },
     "execution_count": 6,
     "metadata": {
      "tags": []
     },
     "output_type": "execute_result"
    }
   ],
   "source": [
    "# Use single quotation marks for defining string\n",
    "\n",
    "'Michael Jackson'"
   ]
  },
  {
   "cell_type": "markdown",
   "metadata": {
    "id": "07Fh_eeb9-DZ"
   },
   "source": [
    "A string can be a combination of spaces and digits: "
   ]
  },
  {
   "cell_type": "code",
   "execution_count": null,
   "metadata": {
    "colab": {
     "base_uri": "https://localhost:8080/",
     "height": 35
    },
    "executionInfo": {
     "elapsed": 4,
     "status": "ok",
     "timestamp": 1624688889870,
     "user": {
      "displayName": "Dhyan Vyas",
      "photoUrl": "https://lh3.googleusercontent.com/a-/AOh14GicI0qQzMCkj4wkjzhp-RxInjb5nSa6cq08yNOU6w=s64",
      "userId": "04303281926800808768"
     },
     "user_tz": -330
    },
    "id": "QMGO3iK99-Da",
    "outputId": "f71e6b83-81ab-4e17-b54f-06618dac380d"
   },
   "outputs": [
    {
     "data": {
      "application/vnd.google.colaboratory.intrinsic+json": {
       "type": "string"
      },
      "text/plain": [
       "'1 2 3 4 5 6 '"
      ]
     },
     "execution_count": 7,
     "metadata": {
      "tags": []
     },
     "output_type": "execute_result"
    }
   ],
   "source": [
    "# Digitals and spaces in string\n",
    "\n",
    "'1 2 3 4 5 6 '"
   ]
  },
  {
   "cell_type": "markdown",
   "metadata": {
    "id": "mN_EJhJR9-Da"
   },
   "source": [
    "A string can also be a combination of special characters : "
   ]
  },
  {
   "cell_type": "code",
   "execution_count": null,
   "metadata": {
    "colab": {
     "base_uri": "https://localhost:8080/",
     "height": 35
    },
    "executionInfo": {
     "elapsed": 9,
     "status": "ok",
     "timestamp": 1624688890226,
     "user": {
      "displayName": "Dhyan Vyas",
      "photoUrl": "https://lh3.googleusercontent.com/a-/AOh14GicI0qQzMCkj4wkjzhp-RxInjb5nSa6cq08yNOU6w=s64",
      "userId": "04303281926800808768"
     },
     "user_tz": -330
    },
    "id": "bbzCoZk69-Da",
    "outputId": "89c6cfe1-254f-48ec-d22f-d9ce9dc4a32c"
   },
   "outputs": [
    {
     "data": {
      "application/vnd.google.colaboratory.intrinsic+json": {
       "type": "string"
      },
      "text/plain": [
       "'@#2_#]&*^%$'"
      ]
     },
     "execution_count": 8,
     "metadata": {
      "tags": []
     },
     "output_type": "execute_result"
    }
   ],
   "source": [
    "# Special characters in string\n",
    "\n",
    "'@#2_#]&*^%$'"
   ]
  },
  {
   "cell_type": "markdown",
   "metadata": {
    "id": "Y7nCDMcs9-Db"
   },
   "source": [
    "We can print our string using the print statement:"
   ]
  },
  {
   "cell_type": "code",
   "execution_count": null,
   "metadata": {
    "colab": {
     "base_uri": "https://localhost:8080/"
    },
    "executionInfo": {
     "elapsed": 12,
     "status": "ok",
     "timestamp": 1625387059400,
     "user": {
      "displayName": "Alok Yadav",
      "photoUrl": "https://lh3.googleusercontent.com/a-/AOh14GizZFMCB8-eVvEF7cC9zt8SGXsUNNmSz3Ka92VAXw=s64",
      "userId": "13695401162967392961"
     },
     "user_tz": -330
    },
    "id": "1uifhhq89-Db",
    "outputId": "bd48523a-f33b-4212-c649-949513048e1e"
   },
   "outputs": [
    {
     "name": "stdout",
     "output_type": "stream",
     "text": [
      "hello!\n"
     ]
    }
   ],
   "source": [
    "# Print the string\n",
    "\n",
    "print(\"hello!\")"
   ]
  },
  {
   "cell_type": "markdown",
   "metadata": {
    "id": "_1WpkMXA9-Db"
   },
   "source": [
    "We can bind or assign a string to another variable:\n"
   ]
  },
  {
   "cell_type": "code",
   "execution_count": null,
   "metadata": {
    "colab": {
     "base_uri": "https://localhost:8080/",
     "height": 35
    },
    "executionInfo": {
     "elapsed": 350,
     "status": "ok",
     "timestamp": 1625929504738,
     "user": {
      "displayName": "Alok Yadav",
      "photoUrl": "https://lh3.googleusercontent.com/a-/AOh14GizZFMCB8-eVvEF7cC9zt8SGXsUNNmSz3Ka92VAXw=s64",
      "userId": "13695401162967392961"
     },
     "user_tz": -330
    },
    "id": "uKsUkBEV9-Db",
    "outputId": "aa096682-aac5-40a0-cb64-f2ae9fdf6a5b"
   },
   "outputs": [
    {
     "data": {
      "application/vnd.google.colaboratory.intrinsic+json": {
       "type": "string"
      },
      "text/plain": [
       "'Michael Jackson'"
      ]
     },
     "execution_count": 2,
     "metadata": {
      "tags": []
     },
     "output_type": "execute_result"
    }
   ],
   "source": [
    "# Assign string to variable\n",
    "\n",
    "Name = \"Michael Jackson\"\n",
    "Name"
   ]
  },
  {
   "cell_type": "markdown",
   "metadata": {
    "id": "BoXzipvV9-Db"
   },
   "source": [
    "<hr>"
   ]
  },
  {
   "cell_type": "markdown",
   "metadata": {
    "id": "pca4AcI_9-Dc"
   },
   "source": [
    "<h2 id=\"index\">Indexing</h2>"
   ]
  },
  {
   "cell_type": "markdown",
   "metadata": {
    "id": "v3nXJXtG9-Dc"
   },
   "source": [
    "It is helpful to think of a string as an ordered sequence. Each element in the sequence can be accessed using an index represented by the array of numbers:  "
   ]
  },
  {
   "cell_type": "markdown",
   "metadata": {
    "id": "A4l24ssh9-Dc"
   },
   "source": [
    "<img src=\"https://s3-api.us-geo.objectstorage.softlayer.net/cf-courses-data/CognitiveClass/PY0101EN/Chapter%201/Images/StringsIndex.png\" width=\"600\" align=\"center\" />"
   ]
  },
  {
   "cell_type": "markdown",
   "metadata": {
    "id": "uasCb6Va9-Dc"
   },
   "source": [
    " The first index can be accessed as follows:"
   ]
  },
  {
   "cell_type": "markdown",
   "metadata": {
    "id": "HsOcZGNg9-Dd"
   },
   "source": [
    "<hr/>\n",
    "<div class=\"alert alert-success alertsuccess\" style=\"margin-top: 20px\">\n",
    "[Tip]: Because indexing starts at 0, it means the first index is on the index 0.\n",
    "</div>\n",
    "<hr/>"
   ]
  },
  {
   "cell_type": "code",
   "execution_count": null,
   "metadata": {
    "colab": {
     "base_uri": "https://localhost:8080/",
     "height": 35
    },
    "executionInfo": {
     "elapsed": 353,
     "status": "ok",
     "timestamp": 1625929660027,
     "user": {
      "displayName": "Alok Yadav",
      "photoUrl": "https://lh3.googleusercontent.com/a-/AOh14GizZFMCB8-eVvEF7cC9zt8SGXsUNNmSz3Ka92VAXw=s64",
      "userId": "13695401162967392961"
     },
     "user_tz": -330
    },
    "id": "6GUUV7ge80VU",
    "outputId": "4b55bbfc-7de0-482f-ddbf-8d88d536787a"
   },
   "outputs": [
    {
     "data": {
      "application/vnd.google.colaboratory.intrinsic+json": {
       "type": "string"
      },
      "text/plain": [
       "'Jackson'"
      ]
     },
     "execution_count": 9,
     "metadata": {
      "tags": []
     },
     "output_type": "execute_result"
    }
   ],
   "source": [
    "Name[8:]"
   ]
  },
  {
   "cell_type": "code",
   "execution_count": null,
   "metadata": {
    "colab": {
     "base_uri": "https://localhost:8080/",
     "height": 35
    },
    "executionInfo": {
     "elapsed": 354,
     "status": "ok",
     "timestamp": 1625929597004,
     "user": {
      "displayName": "Alok Yadav",
      "photoUrl": "https://lh3.googleusercontent.com/a-/AOh14GizZFMCB8-eVvEF7cC9zt8SGXsUNNmSz3Ka92VAXw=s64",
      "userId": "13695401162967392961"
     },
     "user_tz": -330
    },
    "id": "tbf98jmc80kp",
    "outputId": "26bbbeb2-3b97-42bd-ac18-916ec91e233e"
   },
   "outputs": [
    {
     "data": {
      "application/vnd.google.colaboratory.intrinsic+json": {
       "type": "string"
      },
      "text/plain": [
       "'Jackson'"
      ]
     },
     "execution_count": 5,
     "metadata": {
      "tags": []
     },
     "output_type": "execute_result"
    }
   ],
   "source": [
    "Name[8:15]"
   ]
  },
  {
   "cell_type": "code",
   "execution_count": null,
   "metadata": {
    "colab": {
     "base_uri": "https://localhost:8080/"
    },
    "executionInfo": {
     "elapsed": 3,
     "status": "ok",
     "timestamp": 1624688894427,
     "user": {
      "displayName": "Dhyan Vyas",
      "photoUrl": "https://lh3.googleusercontent.com/a-/AOh14GicI0qQzMCkj4wkjzhp-RxInjb5nSa6cq08yNOU6w=s64",
      "userId": "04303281926800808768"
     },
     "user_tz": -330
    },
    "id": "fzwOfiod9-Dd",
    "outputId": "8593b811-f9b0-4167-de69-a0756edd0f6b"
   },
   "outputs": [
    {
     "name": "stdout",
     "output_type": "stream",
     "text": [
      "M\n"
     ]
    }
   ],
   "source": [
    "# Print the first element in the string\n",
    "\n",
    "print(Name[0])"
   ]
  },
  {
   "cell_type": "markdown",
   "metadata": {
    "id": "s9MIEQmG9-Dd"
   },
   "source": [
    " We can access index 6:"
   ]
  },
  {
   "cell_type": "code",
   "execution_count": null,
   "metadata": {
    "colab": {
     "base_uri": "https://localhost:8080/"
    },
    "executionInfo": {
     "elapsed": 3,
     "status": "ok",
     "timestamp": 1624688894966,
     "user": {
      "displayName": "Dhyan Vyas",
      "photoUrl": "https://lh3.googleusercontent.com/a-/AOh14GicI0qQzMCkj4wkjzhp-RxInjb5nSa6cq08yNOU6w=s64",
      "userId": "04303281926800808768"
     },
     "user_tz": -330
    },
    "id": "OH3A-TxW9-Dd",
    "outputId": "07fa1071-d7a8-480b-d67e-40bc8f5f8e5b"
   },
   "outputs": [
    {
     "name": "stdout",
     "output_type": "stream",
     "text": [
      "l\n"
     ]
    }
   ],
   "source": [
    "# Print the element on index 6 in the string\n",
    "\n",
    "print(Name[6])"
   ]
  },
  {
   "cell_type": "markdown",
   "metadata": {
    "id": "wTYya-A_9-De"
   },
   "source": [
    "Moreover, we can access the 13th index:"
   ]
  },
  {
   "cell_type": "code",
   "execution_count": null,
   "metadata": {
    "colab": {
     "base_uri": "https://localhost:8080/"
    },
    "executionInfo": {
     "elapsed": 345,
     "status": "ok",
     "timestamp": 1625929755095,
     "user": {
      "displayName": "Alok Yadav",
      "photoUrl": "https://lh3.googleusercontent.com/a-/AOh14GizZFMCB8-eVvEF7cC9zt8SGXsUNNmSz3Ka92VAXw=s64",
      "userId": "13695401162967392961"
     },
     "user_tz": -330
    },
    "id": "1Qlbr_jS9-De",
    "outputId": "95409dab-5f12-48e3-cad0-76c6a7c0fff4"
   },
   "outputs": [
    {
     "name": "stdout",
     "output_type": "stream",
     "text": [
      "o\n"
     ]
    }
   ],
   "source": [
    "# Print the element on the 13th index in the string\n",
    "\n",
    "print(Name[13])"
   ]
  },
  {
   "cell_type": "markdown",
   "metadata": {
    "id": "y9utZ9I39-De"
   },
   "source": [
    "<h3 id=\"neg\">Negative Indexing</h3>"
   ]
  },
  {
   "cell_type": "markdown",
   "metadata": {
    "id": "5t-h9Cp79-Df"
   },
   "source": [
    " We can also use negative indexing with strings:"
   ]
  },
  {
   "cell_type": "markdown",
   "metadata": {
    "id": "MynahBGo9-Df"
   },
   "source": [
    "<img src=\"https://s3-api.us-geo.objectstorage.softlayer.net/cf-courses-data/CognitiveClass/PY0101EN/Chapter%201/Images/StringsNeg.png\" width=\"600\" align=\"center\" />"
   ]
  },
  {
   "cell_type": "markdown",
   "metadata": {
    "id": "uD_qRcQB9-Df"
   },
   "source": [
    "Negative index can help us to count the element from the end of the string."
   ]
  },
  {
   "cell_type": "markdown",
   "metadata": {
    "id": "mnfbDO5S9-Df"
   },
   "source": [
    "The last element is given by the index -1: "
   ]
  },
  {
   "cell_type": "code",
   "execution_count": null,
   "metadata": {
    "colab": {
     "base_uri": "https://localhost:8080/"
    },
    "executionInfo": {
     "elapsed": 2,
     "status": "ok",
     "timestamp": 1624688896146,
     "user": {
      "displayName": "Dhyan Vyas",
      "photoUrl": "https://lh3.googleusercontent.com/a-/AOh14GicI0qQzMCkj4wkjzhp-RxInjb5nSa6cq08yNOU6w=s64",
      "userId": "04303281926800808768"
     },
     "user_tz": -330
    },
    "id": "hKeoXVjm9-Dg",
    "outputId": "4550a594-624e-4cec-8526-2f4643ef7a0c"
   },
   "outputs": [
    {
     "name": "stdout",
     "output_type": "stream",
     "text": [
      "n\n"
     ]
    }
   ],
   "source": [
    "# Print the last element in the string\n",
    "\n",
    "print(Name[-1])"
   ]
  },
  {
   "cell_type": "markdown",
   "metadata": {
    "id": "C2Bl6o069-Dg"
   },
   "source": [
    " The first element can be obtained by  index -15:"
   ]
  },
  {
   "cell_type": "code",
   "execution_count": null,
   "metadata": {
    "colab": {
     "base_uri": "https://localhost:8080/",
     "height": 35
    },
    "executionInfo": {
     "elapsed": 367,
     "status": "ok",
     "timestamp": 1625930045253,
     "user": {
      "displayName": "Alok Yadav",
      "photoUrl": "https://lh3.googleusercontent.com/a-/AOh14GizZFMCB8-eVvEF7cC9zt8SGXsUNNmSz3Ka92VAXw=s64",
      "userId": "13695401162967392961"
     },
     "user_tz": -330
    },
    "id": "2tjxlyF4-WjY",
    "outputId": "d53e67f7-749b-450f-cc97-3de969fe1da3"
   },
   "outputs": [
    {
     "data": {
      "application/vnd.google.colaboratory.intrinsic+json": {
       "type": "string"
      },
      "text/plain": [
       "'Jackson'"
      ]
     },
     "execution_count": 16,
     "metadata": {
      "tags": []
     },
     "output_type": "execute_result"
    }
   ],
   "source": [
    "Name[-7:]"
   ]
  },
  {
   "cell_type": "code",
   "execution_count": null,
   "metadata": {
    "colab": {
     "base_uri": "https://localhost:8080/",
     "height": 35
    },
    "executionInfo": {
     "elapsed": 384,
     "status": "ok",
     "timestamp": 1625930121608,
     "user": {
      "displayName": "Alok Yadav",
      "photoUrl": "https://lh3.googleusercontent.com/a-/AOh14GizZFMCB8-eVvEF7cC9zt8SGXsUNNmSz3Ka92VAXw=s64",
      "userId": "13695401162967392961"
     },
     "user_tz": -330
    },
    "id": "zaGpPIkO-_MR",
    "outputId": "3f5db65e-a788-4b4d-be15-9dd459920658"
   },
   "outputs": [
    {
     "data": {
      "application/vnd.google.colaboratory.intrinsic+json": {
       "type": "string"
      },
      "text/plain": [
       "'ichael'"
      ]
     },
     "execution_count": 19,
     "metadata": {
      "tags": []
     },
     "output_type": "execute_result"
    }
   ],
   "source": [
    "Name[1:-8]"
   ]
  },
  {
   "cell_type": "code",
   "execution_count": null,
   "metadata": {
    "colab": {
     "base_uri": "https://localhost:8080/"
    },
    "executionInfo": {
     "elapsed": 3,
     "status": "ok",
     "timestamp": 1624688896521,
     "user": {
      "displayName": "Dhyan Vyas",
      "photoUrl": "https://lh3.googleusercontent.com/a-/AOh14GicI0qQzMCkj4wkjzhp-RxInjb5nSa6cq08yNOU6w=s64",
      "userId": "04303281926800808768"
     },
     "user_tz": -330
    },
    "id": "9sQVQ_B59-Dg",
    "outputId": "73cedad3-eb1c-4c83-87b9-8d9a74462f7d"
   },
   "outputs": [
    {
     "name": "stdout",
     "output_type": "stream",
     "text": [
      "M\n"
     ]
    }
   ],
   "source": [
    "# Print the first element in the string\n",
    "\n",
    "print(Name[-15])"
   ]
  },
  {
   "cell_type": "markdown",
   "metadata": {
    "id": "4hj5sLIo9-Dh"
   },
   "source": [
    "We can find the number of characters in a string by using <code>len</code>, short for length:"
   ]
  },
  {
   "cell_type": "code",
   "execution_count": null,
   "metadata": {
    "id": "6D9_eXby-Yco"
   },
   "outputs": [],
   "source": []
  },
  {
   "cell_type": "code",
   "execution_count": null,
   "metadata": {
    "id": "kPOIiIQG-YL9"
   },
   "outputs": [],
   "source": []
  },
  {
   "cell_type": "code",
   "execution_count": null,
   "metadata": {
    "colab": {
     "base_uri": "https://localhost:8080/"
    },
    "executionInfo": {
     "elapsed": 3,
     "status": "ok",
     "timestamp": 1624688896952,
     "user": {
      "displayName": "Dhyan Vyas",
      "photoUrl": "https://lh3.googleusercontent.com/a-/AOh14GicI0qQzMCkj4wkjzhp-RxInjb5nSa6cq08yNOU6w=s64",
      "userId": "04303281926800808768"
     },
     "user_tz": -330
    },
    "id": "iXeKJqV59-Dh",
    "outputId": "e9660992-1b46-465c-c004-db5979fb0b1f"
   },
   "outputs": [
    {
     "data": {
      "text/plain": [
       "15"
      ]
     },
     "execution_count": 16,
     "metadata": {
      "tags": []
     },
     "output_type": "execute_result"
    }
   ],
   "source": [
    "# Find the length of string\n",
    "\n",
    "len(\"Michael Jackson\")"
   ]
  },
  {
   "cell_type": "markdown",
   "metadata": {
    "id": "V7xV7LXw9-Dh"
   },
   "source": [
    "<h3 id=\"slice\">Slicing</h3>"
   ]
  },
  {
   "cell_type": "markdown",
   "metadata": {
    "id": "y34bhmjN9-Dh"
   },
   "source": [
    "We can obtain multiple characters from a string using slicing, we can obtain the 0 to 4th and 8th to the 12th element:  "
   ]
  },
  {
   "cell_type": "markdown",
   "metadata": {
    "id": "HVeciq7T9-Di"
   },
   "source": [
    "<img src=\"https://s3-api.us-geo.objectstorage.softlayer.net/cf-courses-data/CognitiveClass/PY0101EN/Chapter%201/Images/StringsSlice.png\" width=\"600\" align=\"center\" />"
   ]
  },
  {
   "cell_type": "markdown",
   "metadata": {
    "id": "eCe3aJnj9-Di"
   },
   "source": [
    "<hr/>\n",
    "<div class=\"alert alert-success alertsuccess\" style=\"margin-top: 20px\">\n",
    "[Tip]: When taking the slice, the first number means the index (start at 0), and the second number means the length from the index to the last element you want (start at 1)\n",
    "</div>\n",
    "<hr/>"
   ]
  },
  {
   "cell_type": "code",
   "execution_count": null,
   "metadata": {
    "colab": {
     "base_uri": "https://localhost:8080/",
     "height": 35
    },
    "executionInfo": {
     "elapsed": 5,
     "status": "ok",
     "timestamp": 1624688897962,
     "user": {
      "displayName": "Dhyan Vyas",
      "photoUrl": "https://lh3.googleusercontent.com/a-/AOh14GicI0qQzMCkj4wkjzhp-RxInjb5nSa6cq08yNOU6w=s64",
      "userId": "04303281926800808768"
     },
     "user_tz": -330
    },
    "id": "Ani7pKSA9-Di",
    "outputId": "d531cad7-fa9e-4ded-a489-0453749fab3a"
   },
   "outputs": [
    {
     "data": {
      "application/vnd.google.colaboratory.intrinsic+json": {
       "type": "string"
      },
      "text/plain": [
       "'Mich'"
      ]
     },
     "execution_count": 17,
     "metadata": {
      "tags": []
     },
     "output_type": "execute_result"
    }
   ],
   "source": [
    "# Take the slice on variable Name with only index 0 to index 3\n",
    "\n",
    "Name[0:4]"
   ]
  },
  {
   "cell_type": "code",
   "execution_count": null,
   "metadata": {
    "colab": {
     "base_uri": "https://localhost:8080/",
     "height": 35
    },
    "executionInfo": {
     "elapsed": 537,
     "status": "ok",
     "timestamp": 1624688906185,
     "user": {
      "displayName": "Dhyan Vyas",
      "photoUrl": "https://lh3.googleusercontent.com/a-/AOh14GicI0qQzMCkj4wkjzhp-RxInjb5nSa6cq08yNOU6w=s64",
      "userId": "04303281926800808768"
     },
     "user_tz": -330
    },
    "id": "QmGweq2M9-Di",
    "outputId": "2e0f9d76-85ba-4bf3-cbc4-bd90d905677f"
   },
   "outputs": [
    {
     "data": {
      "application/vnd.google.colaboratory.intrinsic+json": {
       "type": "string"
      },
      "text/plain": [
       "'Jack'"
      ]
     },
     "execution_count": 20,
     "metadata": {
      "tags": []
     },
     "output_type": "execute_result"
    }
   ],
   "source": [
    "# Take the slice on variable Name with only index 8 to index 11\n",
    "\n",
    "Name[8:12]"
   ]
  },
  {
   "cell_type": "markdown",
   "metadata": {
    "id": "vH5RkpRb9-Dj"
   },
   "source": [
    "<h3 id=\"stride\">Stride</h3>"
   ]
  },
  {
   "cell_type": "markdown",
   "metadata": {
    "id": "N9_roQbW9-Dj"
   },
   "source": [
    " We can also  input a stride value as follows, with the '2' indicating that we are selecting every second variable:"
   ]
  },
  {
   "cell_type": "markdown",
   "metadata": {
    "id": "mLAD47J-9-Dj"
   },
   "source": [
    "<img src=\"https://s3-api.us-geo.objectstorage.softlayer.net/cf-courses-data/CognitiveClass/PY0101EN/Chapter%201/Images/StringsStride.png\" width=\"600\" align=\"center\" />"
   ]
  },
  {
   "cell_type": "code",
   "execution_count": null,
   "metadata": {
    "colab": {
     "base_uri": "https://localhost:8080/",
     "height": 35
    },
    "executionInfo": {
     "elapsed": 353,
     "status": "ok",
     "timestamp": 1625930547748,
     "user": {
      "displayName": "Alok Yadav",
      "photoUrl": "https://lh3.googleusercontent.com/a-/AOh14GizZFMCB8-eVvEF7cC9zt8SGXsUNNmSz3Ka92VAXw=s64",
      "userId": "13695401162967392961"
     },
     "user_tz": -330
    },
    "id": "LsCO600AAfOG",
    "outputId": "db5e0d43-b1a1-4a70-b804-a68fbc0e05cd"
   },
   "outputs": [
    {
     "data": {
      "application/vnd.google.colaboratory.intrinsic+json": {
       "type": "string"
      },
      "text/plain": [
       "'Michael Jackson'"
      ]
     },
     "execution_count": 22,
     "metadata": {
      "tags": []
     },
     "output_type": "execute_result"
    }
   ],
   "source": [
    "Name[::1]"
   ]
  },
  {
   "cell_type": "code",
   "execution_count": null,
   "metadata": {
    "colab": {
     "base_uri": "https://localhost:8080/",
     "height": 35
    },
    "executionInfo": {
     "elapsed": 410,
     "status": "ok",
     "timestamp": 1624772576634,
     "user": {
      "displayName": "Alok Yadav",
      "photoUrl": "https://lh3.googleusercontent.com/a-/AOh14GizZFMCB8-eVvEF7cC9zt8SGXsUNNmSz3Ka92VAXw=s64",
      "userId": "13695401162967392961"
     },
     "user_tz": -330
    },
    "id": "XAZZIapY9-Dj",
    "outputId": "823a1c74-fb2d-4691-d70d-93a5d5d2d32e"
   },
   "outputs": [
    {
     "data": {
      "application/vnd.google.colaboratory.intrinsic+json": {
       "type": "string"
      },
      "text/plain": [
       "'nscJlacM'"
      ]
     },
     "execution_count": 6,
     "metadata": {
      "tags": []
     },
     "output_type": "execute_result"
    }
   ],
   "source": [
    "# Get every second element. The elments on index 1, 3, 5 ...\n",
    "\n",
    "Name[::-2]"
   ]
  },
  {
   "cell_type": "markdown",
   "metadata": {
    "id": "KClpD3H59-Dj"
   },
   "source": [
    "We can also incorporate slicing  with the stride. In this case, we select the first five elements and then use the stride: "
   ]
  },
  {
   "cell_type": "code",
   "execution_count": null,
   "metadata": {
    "colab": {
     "base_uri": "https://localhost:8080/",
     "height": 35
    },
    "executionInfo": {
     "elapsed": 373,
     "status": "ok",
     "timestamp": 1625930639311,
     "user": {
      "displayName": "Alok Yadav",
      "photoUrl": "https://lh3.googleusercontent.com/a-/AOh14GizZFMCB8-eVvEF7cC9zt8SGXsUNNmSz3Ka92VAXw=s64",
      "userId": "13695401162967392961"
     },
     "user_tz": -330
    },
    "id": "S15S-Taq9-Dk",
    "outputId": "7d48691c-0215-4781-9942-5923b5ba97b2"
   },
   "outputs": [
    {
     "data": {
      "application/vnd.google.colaboratory.intrinsic+json": {
       "type": "string"
      },
      "text/plain": [
       "'Mcal'"
      ]
     },
     "execution_count": 25,
     "metadata": {
      "tags": []
     },
     "output_type": "execute_result"
    }
   ],
   "source": [
    "# Get every second element in the range from index 0 to index 4\n",
    "\n",
    "Name[0:7:2]"
   ]
  },
  {
   "cell_type": "markdown",
   "metadata": {
    "id": "W00RmR_M9-Dk"
   },
   "source": [
    "<h3 id=\"concat\">Concatenate Strings</h3>"
   ]
  },
  {
   "cell_type": "markdown",
   "metadata": {
    "id": "ARGhVKbT9-Dk"
   },
   "source": [
    "We can concatenate or combine strings by using the addition symbols, and the result is a new string that is a combination of both:\n"
   ]
  },
  {
   "cell_type": "code",
   "execution_count": null,
   "metadata": {
    "colab": {
     "base_uri": "https://localhost:8080/",
     "height": 35
    },
    "executionInfo": {
     "elapsed": 3,
     "status": "ok",
     "timestamp": 1624688908584,
     "user": {
      "displayName": "Dhyan Vyas",
      "photoUrl": "https://lh3.googleusercontent.com/a-/AOh14GicI0qQzMCkj4wkjzhp-RxInjb5nSa6cq08yNOU6w=s64",
      "userId": "04303281926800808768"
     },
     "user_tz": -330
    },
    "id": "Tp9NjVxv9-Dk",
    "outputId": "0db3bef8-5b29-4ad8-d81a-9028374082b4"
   },
   "outputs": [
    {
     "data": {
      "application/vnd.google.colaboratory.intrinsic+json": {
       "type": "string"
      },
      "text/plain": [
       "'Michael Jacksonis the best'"
      ]
     },
     "execution_count": 23,
     "metadata": {
      "tags": []
     },
     "output_type": "execute_result"
    }
   ],
   "source": [
    "# Concatenate two strings\n",
    "\n",
    "Statement = Name + \"is the best\"\n",
    "Statement"
   ]
  },
  {
   "cell_type": "markdown",
   "metadata": {
    "id": "tMnRZjAr9-Dk"
   },
   "source": [
    "To replicate values of a string we simply multiply the string by the number of times we would like to replicate it. In this case, the number is three. The result is a new string, and this new string consists of three copies of the original string:"
   ]
  },
  {
   "cell_type": "code",
   "execution_count": null,
   "metadata": {
    "colab": {
     "base_uri": "https://localhost:8080/",
     "height": 35
    },
    "executionInfo": {
     "elapsed": 491,
     "status": "ok",
     "timestamp": 1625388300345,
     "user": {
      "displayName": "Alok Yadav",
      "photoUrl": "https://lh3.googleusercontent.com/a-/AOh14GizZFMCB8-eVvEF7cC9zt8SGXsUNNmSz3Ka92VAXw=s64",
      "userId": "13695401162967392961"
     },
     "user_tz": -330
    },
    "id": "9jpmlHo39-Dl",
    "outputId": "290b5d89-4882-4ec7-c69c-08719005aa42"
   },
   "outputs": [
    {
     "data": {
      "application/vnd.google.colaboratory.intrinsic+json": {
       "type": "string"
      },
      "text/plain": [
       "' Michael Jackson Michael Jackson Michael Jackson'"
      ]
     },
     "execution_count": 6,
     "metadata": {
      "tags": []
     },
     "output_type": "execute_result"
    }
   ],
   "source": [
    "# Print the string for 3 times\n",
    "\n",
    "3 * \" Michael Jackson\""
   ]
  },
  {
   "cell_type": "markdown",
   "metadata": {
    "id": "eLC05Zgv9-Dl"
   },
   "source": [
    "You can create a new string by setting it to the original variable. Concatenated  with a new string, the result is a new string that changes from Michael Jackson to “Michael Jackson is the best\".\n"
   ]
  },
  {
   "cell_type": "code",
   "execution_count": null,
   "metadata": {
    "colab": {
     "base_uri": "https://localhost:8080/",
     "height": 35
    },
    "executionInfo": {
     "elapsed": 4,
     "status": "ok",
     "timestamp": 1624688909894,
     "user": {
      "displayName": "Dhyan Vyas",
      "photoUrl": "https://lh3.googleusercontent.com/a-/AOh14GicI0qQzMCkj4wkjzhp-RxInjb5nSa6cq08yNOU6w=s64",
      "userId": "04303281926800808768"
     },
     "user_tz": -330
    },
    "id": "DF1T8P2J9-Dl",
    "outputId": "fae3bedd-7555-4bb0-9090-0daab3ac616d"
   },
   "outputs": [
    {
     "data": {
      "application/vnd.google.colaboratory.intrinsic+json": {
       "type": "string"
      },
      "text/plain": [
       "'Michael Jackson is the best'"
      ]
     },
     "execution_count": 25,
     "metadata": {
      "tags": []
     },
     "output_type": "execute_result"
    }
   ],
   "source": [
    "# Concatenate strings\n",
    "\n",
    "Name = \"Michael Jackson\"\n",
    "Name = Name + \" is the best\"\n",
    "Name"
   ]
  },
  {
   "cell_type": "markdown",
   "metadata": {
    "id": "utne4_R-9-Dl"
   },
   "source": [
    "<hr>"
   ]
  },
  {
   "cell_type": "markdown",
   "metadata": {
    "id": "boBtlQP29-Dm"
   },
   "source": [
    "<h2 id=\"escape\">Escape Sequences</h2>"
   ]
  },
  {
   "cell_type": "markdown",
   "metadata": {
    "id": "TkNdNjfn9-Dm"
   },
   "source": [
    "Back slashes represent the beginning  of escape sequences. Escape sequences represent strings that may be difficult to input. For example, back slash \"n\" represents a new line. The output is given by a new line after the back slash \"n\" is encountered:"
   ]
  },
  {
   "cell_type": "code",
   "execution_count": null,
   "metadata": {
    "colab": {
     "base_uri": "https://localhost:8080/"
    },
    "executionInfo": {
     "elapsed": 4,
     "status": "ok",
     "timestamp": 1624688910942,
     "user": {
      "displayName": "Dhyan Vyas",
      "photoUrl": "https://lh3.googleusercontent.com/a-/AOh14GicI0qQzMCkj4wkjzhp-RxInjb5nSa6cq08yNOU6w=s64",
      "userId": "04303281926800808768"
     },
     "user_tz": -330
    },
    "id": "E5s06OdK9-Dm",
    "outputId": "a1308f24-fbe3-4d52-9206-cd788763f851"
   },
   "outputs": [
    {
     "name": "stdout",
     "output_type": "stream",
     "text": [
      " Michael Jackson \n",
      " is the best\n"
     ]
    }
   ],
   "source": [
    "# New line escape sequence\n",
    "\n",
    "print(\" Michael Jackson \\n is the best\" )"
   ]
  },
  {
   "cell_type": "markdown",
   "metadata": {
    "id": "AkJIecrM9-Dm"
   },
   "source": [
    "Similarly, back slash  \"t\" represents a tab: "
   ]
  },
  {
   "cell_type": "code",
   "execution_count": null,
   "metadata": {
    "colab": {
     "base_uri": "https://localhost:8080/"
    },
    "executionInfo": {
     "elapsed": 3,
     "status": "ok",
     "timestamp": 1624688911497,
     "user": {
      "displayName": "Dhyan Vyas",
      "photoUrl": "https://lh3.googleusercontent.com/a-/AOh14GicI0qQzMCkj4wkjzhp-RxInjb5nSa6cq08yNOU6w=s64",
      "userId": "04303281926800808768"
     },
     "user_tz": -330
    },
    "id": "y_BMXjZa9-Dm",
    "outputId": "74b5e39d-446d-45fd-e398-b8a650198b18"
   },
   "outputs": [
    {
     "name": "stdout",
     "output_type": "stream",
     "text": [
      " Michael Jackson \t is the best\n"
     ]
    }
   ],
   "source": [
    "# Tab escape sequence\n",
    "\n",
    "print(\" Michael Jackson \\t is the best\" )"
   ]
  },
  {
   "cell_type": "markdown",
   "metadata": {
    "id": "pNPAQr_u9-Dn"
   },
   "source": [
    " If you want to place a back slash in your string, use a double back slash:"
   ]
  },
  {
   "cell_type": "code",
   "execution_count": null,
   "metadata": {
    "colab": {
     "base_uri": "https://localhost:8080/"
    },
    "executionInfo": {
     "elapsed": 5,
     "status": "ok",
     "timestamp": 1624772896736,
     "user": {
      "displayName": "Dhyan Vyas",
      "photoUrl": "https://lh3.googleusercontent.com/a-/AOh14GicI0qQzMCkj4wkjzhp-RxInjb5nSa6cq08yNOU6w=s64",
      "userId": "04303281926800808768"
     },
     "user_tz": -330
    },
    "id": "Zco7JD1e9-Dn",
    "outputId": "9220cac1-a5d6-4f97-b1e1-726619e5548d"
   },
   "outputs": [
    {
     "name": "stdout",
     "output_type": "stream",
     "text": [
      " Michael Jackson \\ is the best\n"
     ]
    }
   ],
   "source": [
    "# Include back slash in string\n",
    "\n",
    "print(\" Michael Jackson \\\\ is the best\" )"
   ]
  },
  {
   "cell_type": "markdown",
   "metadata": {
    "id": "afnRjAj29-Dn"
   },
   "source": [
    " We can also place an \"r\" before the string to display the backslash:"
   ]
  },
  {
   "cell_type": "code",
   "execution_count": null,
   "metadata": {
    "colab": {
     "base_uri": "https://localhost:8080/"
    },
    "executionInfo": {
     "elapsed": 3,
     "status": "ok",
     "timestamp": 1624688912279,
     "user": {
      "displayName": "Dhyan Vyas",
      "photoUrl": "https://lh3.googleusercontent.com/a-/AOh14GicI0qQzMCkj4wkjzhp-RxInjb5nSa6cq08yNOU6w=s64",
      "userId": "04303281926800808768"
     },
     "user_tz": -330
    },
    "id": "wbMZq8nz9-Dn",
    "outputId": "80238d7b-a5e7-4712-d67d-4da6c4a81ff0"
   },
   "outputs": [
    {
     "name": "stdout",
     "output_type": "stream",
     "text": [
      " Michael Jackson \\ is the best\n"
     ]
    }
   ],
   "source": [
    "# r will tell python that string will be display as raw string\n",
    "\n",
    "print(r\" Michael Jackson \\ is the best\" )"
   ]
  },
  {
   "cell_type": "markdown",
   "metadata": {
    "id": "qyWdnSlT9-Do"
   },
   "source": [
    "<hr>"
   ]
  },
  {
   "cell_type": "markdown",
   "metadata": {
    "id": "YE_OFykd9-Do"
   },
   "source": [
    "<h2 id=\"operations\">String Operations</h2>"
   ]
  },
  {
   "cell_type": "markdown",
   "metadata": {
    "id": "h8Kfmpb19-Do"
   },
   "source": [
    "There are many string operation methods in Python that can be used to manipulate the data. We are going to use some basic string operations on the data. "
   ]
  },
  {
   "cell_type": "markdown",
   "metadata": {
    "id": "UoOi5XEj9-Do"
   },
   "source": [
    "Let's try with the method <code>upper</code>; this method converts lower case characters to upper case characters:"
   ]
  },
  {
   "cell_type": "code",
   "execution_count": null,
   "metadata": {
    "id": "3YRnQneS9-Do",
    "outputId": "fca07b76-1ed9-483d-c7a0-aa89878f7f94"
   },
   "outputs": [
    {
     "name": "stdout",
     "output_type": "stream",
     "text": [
      "before upper: Thriller is the sixth studio album\n",
      "After upper: THRILLER IS THE SIXTH STUDIO ALBUM\n"
     ]
    }
   ],
   "source": [
    "# Convert all the characters in string to upper case\n",
    "\n",
    "A = \"Thriller is the sixth studio album\"\n",
    "print(\"before upper:\", A)\n",
    "B = A.upper()\n",
    "print(\"After upper:\", B)"
   ]
  },
  {
   "cell_type": "markdown",
   "metadata": {
    "id": "-QuYQqyE9-Do"
   },
   "source": [
    "The method <code>replace</code> replaces a segment of the string, i.e. a substring  with a new string. We input the part of the string we would like to change. The second argument is what we would like to exchange the segment with, and the result is a new string with the segment changed: \n"
   ]
  },
  {
   "cell_type": "code",
   "execution_count": null,
   "metadata": {
    "colab": {
     "base_uri": "https://localhost:8080/",
     "height": 35
    },
    "executionInfo": {
     "elapsed": 1577,
     "status": "ok",
     "timestamp": 1625388681013,
     "user": {
      "displayName": "Alok Yadav",
      "photoUrl": "https://lh3.googleusercontent.com/a-/AOh14GizZFMCB8-eVvEF7cC9zt8SGXsUNNmSz3Ka92VAXw=s64",
      "userId": "13695401162967392961"
     },
     "user_tz": -330
    },
    "id": "rjDsHkQi9-Dp",
    "outputId": "b32511fd-b5ad-4985-b231-37a27e53b4b1"
   },
   "outputs": [
    {
     "data": {
      "application/vnd.google.colaboratory.intrinsic+json": {
       "type": "string"
      },
      "text/plain": [
       "'Alok Jackson is the best'"
      ]
     },
     "execution_count": 7,
     "metadata": {
      "tags": []
     },
     "output_type": "execute_result"
    }
   ],
   "source": [
    "# Replace the old substring with the new target substring is the segment has been found in the string\n",
    "\n",
    "A = \"Michael Jackson is the best\"\n",
    "B = A.replace('Michael', 'Alok')\n",
    "B"
   ]
  },
  {
   "cell_type": "markdown",
   "metadata": {
    "id": "FFfFzszP9-Dp"
   },
   "source": [
    "The method <code>find</code> finds a sub-string. The argument is the substring you would like to find, and the output is the first index of the sequence. We can find the sub-string <code>jack</code> or <code>el<code>.  "
   ]
  },
  {
   "cell_type": "markdown",
   "metadata": {
    "id": "gVqxOYK_9-Dp"
   },
   "source": [
    "<img src=\"https://s3-api.us-geo.objectstorage.softlayer.net/cf-courses-data/CognitiveClass/PY0101EN/Chapter%201/Images/StringsFind.png\" width=\"600\" align=\"center\" />"
   ]
  },
  {
   "cell_type": "code",
   "execution_count": null,
   "metadata": {
    "id": "riRmWPJF9-Dp",
    "outputId": "c2b4ab12-e910-4c07-c97e-739ebb2e826d"
   },
   "outputs": [
    {
     "data": {
      "text/plain": [
       "5"
      ]
     },
     "execution_count": 33,
     "metadata": {
      "tags": []
     },
     "output_type": "execute_result"
    }
   ],
   "source": [
    "# Find the substring in the string. Only the index of the first elment of substring in string will be the output\n",
    "\n",
    "Name = \"Michael Jackson\"\n",
    "Name.find('el')"
   ]
  },
  {
   "cell_type": "code",
   "execution_count": null,
   "metadata": {
    "id": "aKpFqM-o9-Dp",
    "outputId": "0942c719-2ebd-4331-983d-470fb160c111"
   },
   "outputs": [
    {
     "data": {
      "text/plain": [
       "8"
      ]
     },
     "execution_count": 34,
     "metadata": {
      "tags": []
     },
     "output_type": "execute_result"
    }
   ],
   "source": [
    "# Find the substring in the string.\n",
    "\n",
    "Name.find('Jack')"
   ]
  },
  {
   "cell_type": "markdown",
   "metadata": {
    "id": "othyt6Qj9-Dq"
   },
   "source": [
    "If the  sub-string is not in the string then the output is a negative one. For example, the string 'Jasdfasdasdf' is not a substring:"
   ]
  },
  {
   "cell_type": "code",
   "execution_count": null,
   "metadata": {
    "collapsed": true,
    "id": "JrpXIQcA9-Dq",
    "outputId": "4f8a543e-b965-41d2-cb13-b77463c4cfc4"
   },
   "outputs": [
    {
     "data": {
      "text/plain": [
       "-1"
      ]
     },
     "execution_count": 35,
     "metadata": {
      "tags": []
     },
     "output_type": "execute_result"
    }
   ],
   "source": [
    "# If cannot find the substring in the string\n",
    "\n",
    "Name.find('Jasdfasdasdf')"
   ]
  },
  {
   "cell_type": "markdown",
   "metadata": {
    "id": "kw3OflzE9-Dq"
   },
   "source": [
    "<hr>"
   ]
  },
  {
   "cell_type": "markdown",
   "metadata": {
    "id": "dG8DkUPe9-Dq"
   },
   "source": [
    "<h2 id=\"quiz\">Quiz on Strings</h2>"
   ]
  },
  {
   "cell_type": "markdown",
   "metadata": {
    "id": "fJ6D4Z8c9-Dr"
   },
   "source": [
    "What is the value of the variable <code>A</code> after the following code is executed? "
   ]
  },
  {
   "cell_type": "code",
   "execution_count": null,
   "metadata": {
    "colab": {
     "base_uri": "https://localhost:8080/",
     "height": 35
    },
    "executionInfo": {
     "elapsed": 1699,
     "status": "ok",
     "timestamp": 1624773637321,
     "user": {
      "displayName": "Alok Yadav",
      "photoUrl": "https://lh3.googleusercontent.com/a-/AOh14GizZFMCB8-eVvEF7cC9zt8SGXsUNNmSz3Ka92VAXw=s64",
      "userId": "13695401162967392961"
     },
     "user_tz": -330
    },
    "id": "jLXSED9z9-Dr",
    "outputId": "1e49d88d-731f-4ce6-ccab-49f47454e8b0"
   },
   "outputs": [
    {
     "data": {
      "application/vnd.google.colaboratory.intrinsic+json": {
       "type": "string"
      },
      "text/plain": [
       "'1'"
      ]
     },
     "execution_count": 27,
     "metadata": {
      "tags": []
     },
     "output_type": "execute_result"
    }
   ],
   "source": [
    "# Write your code below and press Shift+Enter to execute \n",
    "\n",
    "\"1\""
   ]
  },
  {
   "cell_type": "markdown",
   "metadata": {
    "id": "YRRFIYPV9-Dr"
   },
   "source": [
    "Double-click <b>here</b> for the solution.\n",
    "\n",
    "<!-- Your answer is below:\n",
    "\"1\"\n",
    "-->"
   ]
  },
  {
   "cell_type": "markdown",
   "metadata": {
    "id": "Bu2P-nKm9-Ds"
   },
   "source": [
    "What is the value of the variable <code>B</code> after the following code is executed?"
   ]
  },
  {
   "cell_type": "code",
   "execution_count": null,
   "metadata": {
    "collapsed": true,
    "id": "9OpN8HiC9-Ds",
    "outputId": "25a6c8bd-0b8d-42a9-86d6-b79e4aae201c"
   },
   "outputs": [
    {
     "data": {
      "text/plain": [
       "'2'"
      ]
     },
     "execution_count": 42,
     "metadata": {
      "tags": []
     },
     "output_type": "execute_result"
    }
   ],
   "source": [
    "# Write your code below and press Shift+Enter to execute\n",
    "\n",
    "\"2\""
   ]
  },
  {
   "cell_type": "markdown",
   "metadata": {
    "id": "DUdIgvHX9-Ds"
   },
   "source": [
    "Double-click <b>here</b> for the solution.\n",
    "\n",
    "<!-- Your answer is below:\n",
    "\"2\"\n",
    "-->"
   ]
  },
  {
   "cell_type": "markdown",
   "metadata": {
    "id": "W1iMVfja9-Dt"
   },
   "source": [
    "What is the value of the variable <code>C</code> after the following code is executed?"
   ]
  },
  {
   "cell_type": "code",
   "execution_count": null,
   "metadata": {
    "id": "RJkwOZOx9-Dt",
    "outputId": "92cab195-2f0b-47e6-b61f-b41a89d86dc1"
   },
   "outputs": [
    {
     "data": {
      "text/plain": [
       "'12'"
      ]
     },
     "execution_count": 43,
     "metadata": {
      "tags": []
     },
     "output_type": "execute_result"
    }
   ],
   "source": [
    "# Write your code below and press Shift+Enter to execute \n",
    "\n",
    "'12'"
   ]
  },
  {
   "cell_type": "markdown",
   "metadata": {
    "id": "IJukyc9V9-Dt"
   },
   "source": [
    "Double-click <b>here</b> for the solution.\n",
    "\n",
    "<!-- Your answer is below:\n",
    "\"12\"\n",
    "-->"
   ]
  },
  {
   "cell_type": "markdown",
   "metadata": {
    "id": "hU0pT33y9-Dt"
   },
   "source": [
    "<hr>"
   ]
  },
  {
   "cell_type": "markdown",
   "metadata": {
    "id": "xqQbxK9V9-Dt"
   },
   "source": [
    "Consider the variable <code>D</code> use slicing to print out the first three elements:"
   ]
  },
  {
   "cell_type": "code",
   "execution_count": null,
   "metadata": {
    "id": "TDq5MG9p9-Du",
    "outputId": "5f617a1b-e0e7-4020-fe16-0c5be9d4cfc2"
   },
   "outputs": [
    {
     "data": {
      "text/plain": [
       "'ABC'"
      ]
     },
     "execution_count": 46,
     "metadata": {
      "tags": []
     },
     "output_type": "execute_result"
    }
   ],
   "source": [
    "# Write your code below and press Shift+Enter to execute\n",
    "\n",
    "D = \"ABCDEFG\"\n",
    "D[0:3]"
   ]
  },
  {
   "cell_type": "markdown",
   "metadata": {
    "id": "NcHokriM9-Du"
   },
   "source": [
    "Double-click <b>here</b> for the solution.\n",
    "\n",
    "<!-- Your answer is below:\n",
    "print(D[:3]) \n",
    "# or \n",
    "print(D[0:3])\n",
    "-->"
   ]
  },
  {
   "cell_type": "markdown",
   "metadata": {
    "id": "9DZSH2Dl9-Du"
   },
   "source": [
    "<hr>"
   ]
  },
  {
   "cell_type": "markdown",
   "metadata": {
    "id": "MNAntZMW9-Du"
   },
   "source": [
    "Use a stride value of 2 to print out every second character of the string <code>E</code>: "
   ]
  },
  {
   "cell_type": "code",
   "execution_count": null,
   "metadata": {
    "collapsed": true,
    "id": "3HjTFaV59-Du",
    "outputId": "2bd8e92a-6c02-4e5b-8b06-70d5a338b86d"
   },
   "outputs": [
    {
     "data": {
      "text/plain": [
       "'correct'"
      ]
     },
     "execution_count": 47,
     "metadata": {
      "tags": []
     },
     "output_type": "execute_result"
    }
   ],
   "source": [
    "# Write your code below and press Shift+Enter to execute\n",
    "\n",
    "E = 'clocrkr1e1c1t'\n",
    "E[::2]"
   ]
  },
  {
   "cell_type": "markdown",
   "metadata": {
    "id": "yk1gOrU99-Dv"
   },
   "source": [
    "Double-click <b>here</b> for the solution.\n",
    "\n",
    "<!-- Your answer is below:\n",
    "print(E[::2])\n",
    "-->"
   ]
  },
  {
   "cell_type": "markdown",
   "metadata": {
    "id": "EF3W0Kbw9-Dv"
   },
   "source": [
    "<hr>"
   ]
  },
  {
   "cell_type": "markdown",
   "metadata": {
    "id": "cKkk6EV29-Dv"
   },
   "source": [
    "Print out a backslash:"
   ]
  },
  {
   "cell_type": "code",
   "execution_count": null,
   "metadata": {
    "colab": {
     "base_uri": "https://localhost:8080/"
    },
    "executionInfo": {
     "elapsed": 336,
     "status": "ok",
     "timestamp": 1624773368613,
     "user": {
      "displayName": "Dhyan Vyas",
      "photoUrl": "https://lh3.googleusercontent.com/a-/AOh14GicI0qQzMCkj4wkjzhp-RxInjb5nSa6cq08yNOU6w=s64",
      "userId": "04303281926800808768"
     },
     "user_tz": -330
    },
    "id": "jAkDCycl9-Dv",
    "outputId": "a7d6fc93-a9ec-45b6-c9c4-1bb0042d7574"
   },
   "outputs": [
    {
     "name": "stdout",
     "output_type": "stream",
     "text": [
      "//\n"
     ]
    }
   ],
   "source": [
    "# Write your code below and press Shift+Enter to execute\n",
    "\n",
    "print('//')"
   ]
  },
  {
   "cell_type": "markdown",
   "metadata": {
    "id": "AMmv0gbM9-Dv"
   },
   "source": [
    "Double-click <b>here</b> for the solution.\n",
    "<!-- Your answer is below:\n",
    "print(\"\\\\\")\n",
    "or\n",
    "print(r\" \\ \")\n",
    "-->"
   ]
  },
  {
   "cell_type": "markdown",
   "metadata": {
    "id": "mSIik8oT9-Dw"
   },
   "source": [
    "<hr>"
   ]
  },
  {
   "cell_type": "markdown",
   "metadata": {
    "id": "DLRmq_iJ9-Dw"
   },
   "source": [
    "Convert the variable <code>F</code> to uppercase:"
   ]
  },
  {
   "cell_type": "code",
   "execution_count": null,
   "metadata": {
    "colab": {
     "base_uri": "https://localhost:8080/",
     "height": 35
    },
    "executionInfo": {
     "elapsed": 6,
     "status": "ok",
     "timestamp": 1624773371067,
     "user": {
      "displayName": "Dhyan Vyas",
      "photoUrl": "https://lh3.googleusercontent.com/a-/AOh14GicI0qQzMCkj4wkjzhp-RxInjb5nSa6cq08yNOU6w=s64",
      "userId": "04303281926800808768"
     },
     "user_tz": -330
    },
    "id": "ejE5L9FL9-Dw",
    "outputId": "0e653714-6925-432c-da24-8258fe165d99"
   },
   "outputs": [
    {
     "data": {
      "application/vnd.google.colaboratory.intrinsic+json": {
       "type": "string"
      },
      "text/plain": [
       "'YOU ARE WRONG'"
      ]
     },
     "execution_count": 6,
     "metadata": {
      "tags": []
     },
     "output_type": "execute_result"
    }
   ],
   "source": [
    "# Write your code below and press Shift+Enter to execute\n",
    "\n",
    "F = \"You are wrong\"\n",
    "F.upper()"
   ]
  },
  {
   "cell_type": "markdown",
   "metadata": {
    "id": "IEk5ui249-Dw"
   },
   "source": [
    "*Double*-click <b>here</b> for the solution.\n",
    "\n",
    "<!-- Your answer is below:\n",
    "F.upper()\n",
    "-->"
   ]
  },
  {
   "cell_type": "markdown",
   "metadata": {
    "id": "PTVC0UuM9-Dw"
   },
   "source": [
    "<hr>"
   ]
  },
  {
   "cell_type": "markdown",
   "metadata": {
    "id": "Nf7130Dz9-Dx"
   },
   "source": [
    "Consider the variable <code>G</code>, and find the first index of the sub-string <code>snow</code>:"
   ]
  },
  {
   "cell_type": "code",
   "execution_count": null,
   "metadata": {
    "colab": {
     "base_uri": "https://localhost:8080/"
    },
    "executionInfo": {
     "elapsed": 335,
     "status": "ok",
     "timestamp": 1624773379343,
     "user": {
      "displayName": "Dhyan Vyas",
      "photoUrl": "https://lh3.googleusercontent.com/a-/AOh14GicI0qQzMCkj4wkjzhp-RxInjb5nSa6cq08yNOU6w=s64",
      "userId": "04303281926800808768"
     },
     "user_tz": -330
    },
    "id": "fByvOr2I9-Dx",
    "outputId": "d47d4945-6784-4760-a357-d08409be3d4f"
   },
   "outputs": [
    {
     "data": {
      "text/plain": [
       "95"
      ]
     },
     "execution_count": 7,
     "metadata": {
      "tags": []
     },
     "output_type": "execute_result"
    }
   ],
   "source": [
    "# Write your code below and press Shift+Enter to execute\n",
    "\n",
    "G = \"Mary had a little lamb Little lamb, little lamb Mary had a little lamb \\\n",
    "Its fleece was white as snow And everywhere that Mary went Mary went, Mary went \\\n",
    "Everywhere that Mary went The lamb was sure to go\"\n",
    "G.find(\"snow\")"
   ]
  },
  {
   "cell_type": "markdown",
   "metadata": {
    "id": "RAAWRlvQ9-Dx"
   },
   "source": [
    "Double-click __here__ for the solution.\n",
    "\n",
    "<!-- Your answer is below:\n",
    "G.find(\"snow\")\n",
    "-->"
   ]
  },
  {
   "cell_type": "markdown",
   "metadata": {
    "id": "kCZ8WhRV9-Dx"
   },
   "source": [
    "In the variable <code>G</code>, replace the sub-string <code>Mary</code> with <code>Bob</code>:"
   ]
  },
  {
   "cell_type": "code",
   "execution_count": null,
   "metadata": {
    "colab": {
     "base_uri": "https://localhost:8080/",
     "height": 35
    },
    "executionInfo": {
     "elapsed": 396,
     "status": "ok",
     "timestamp": 1624773351875,
     "user": {
      "displayName": "Dhyan Vyas",
      "photoUrl": "https://lh3.googleusercontent.com/a-/AOh14GicI0qQzMCkj4wkjzhp-RxInjb5nSa6cq08yNOU6w=s64",
      "userId": "04303281926800808768"
     },
     "user_tz": -330
    },
    "id": "kocrBGJb9-Dx",
    "outputId": "2132812b-b412-442d-b3c5-ed18304f4d82"
   },
   "outputs": [
    {
     "data": {
      "application/vnd.google.colaboratory.intrinsic+json": {
       "type": "string"
      },
      "text/plain": [
       "'Bob had a little lamb Little lamb, little lamb Bob had a little lamb Its fleece was white as snow And everywhere that Bob went Bob went, Bob went Everywhere that Bob went The lamb was sure to go'"
      ]
     },
     "execution_count": 4,
     "metadata": {
      "tags": []
     },
     "output_type": "execute_result"
    }
   ],
   "source": [
    "# Write your code below and press Shift+Enter to execute\n",
    "\n",
    "G.replace('Mary','Bob')"
   ]
  },
  {
   "cell_type": "markdown",
   "metadata": {
    "id": "jmR_UZAF9-Dy"
   },
   "source": [
    "Double-click __here__ for the solution.\n",
    "\n",
    "<!-- Your answer is below:\n",
    "G.replace(\"Mary\", \"Bob\")\n",
    "-->"
   ]
  },
  {
   "cell_type": "markdown",
   "metadata": {
    "id": "4Gz0MOpF9-Dy"
   },
   "source": [
    "<hr>\n",
    "<h2>The last exercise!</h2>\n",
    "<p>Congratulations, you have completed your first lesson and hands-on lab in Python. However, there is one more thing you need to do. The Data Science community encourages sharing work. The best way to share and showcase your work is to share it on GitHub. By sharing your notebook on GitHub you are not only building your reputation with fellow data scientists, but you can also show it off when applying for a job. Even though this was your first piece of work, it is never too early to start building good habits. So, please read and follow <a href=\"https://cognitiveclass.ai/blog/data-scientists-stand-out-by-sharing-your-notebooks/\" target=\"_blank\">this article</a> to learn how to share your work.\n",
    "<hr>"
   ]
  },
  {
   "cell_type": "markdown",
   "metadata": {
    "id": "mcME1zWj9-Dy"
   },
   "source": [
    "<div class=\"alert alert-block alert-info\" style=\"margin-top: 20px\">\n",
    "<h2>Get IBM Watson Studio free of charge!</h2>\n",
    "    <p><a href=\"https://cocl.us/bottemNotebooksPython101Coursera\"><img src=\"https://s3-api.us-geo.objectstorage.softlayer.net/cf-courses-data/CognitiveClass/PY0101EN/Ad/BottomAd.png\" width=\"750\" align=\"center\"></a></p>\n",
    "</div>"
   ]
  },
  {
   "cell_type": "markdown",
   "metadata": {
    "id": "TwIAVyhK9-Dy"
   },
   "source": [
    "<h3>About the Authors:</h3>  \n",
    "<p><a href=\"https://www.linkedin.com/in/joseph-s-50398b136/\" target=\"_blank\">Joseph Santarcangelo</a> is a Data Scientist at IBM, and holds a PhD in Electrical Engineering. His research focused on using Machine Learning, Signal Processing, and Computer Vision to determine how videos impact human cognition. Joseph has been working for IBM since he completed his PhD.</p>"
   ]
  },
  {
   "cell_type": "markdown",
   "metadata": {
    "id": "ZO6E5DT-9-Dz"
   },
   "source": [
    "Other contributors: <a href=\"www.linkedin.com/in/jiahui-mavis-zhou-a4537814a\">Mavis Zhou</a>"
   ]
  },
  {
   "cell_type": "markdown",
   "metadata": {
    "id": "2kve7TpH9-Dz"
   },
   "source": [
    "<hr>\n",
    "<p>Copyright &copy; 2018 IBM Developer Skills Network. This notebook and its source code are released under the terms of the <a href=\"https://cognitiveclass.ai/mit-license/\">MIT License</a>.</p>"
   ]
  }
 ],
 "metadata": {
  "colab": {
   "collapsed_sections": [],
   "name": "PY0101EN-1-2-Strings.ipynb",
   "provenance": []
  },
  "kernelspec": {
   "display_name": "Python 3",
   "language": "python",
   "name": "python3"
  },
  "language_info": {
   "codemirror_mode": {
    "name": "ipython",
    "version": 3
   },
   "file_extension": ".py",
   "mimetype": "text/x-python",
   "name": "python",
   "nbconvert_exporter": "python",
   "pygments_lexer": "ipython3",
   "version": "3.8.8"
  }
 },
 "nbformat": 4,
 "nbformat_minor": 1
}
